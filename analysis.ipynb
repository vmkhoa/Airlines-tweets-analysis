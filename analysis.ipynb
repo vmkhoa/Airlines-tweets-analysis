{
 "cells": [
  {
   "cell_type": "code",
   "execution_count": 3,
   "id": "9f78e68c",
   "metadata": {},
   "outputs": [],
   "source": [
    "import os\n",
    "os.environ[\"TOKENIZERS_PARALLELISM\"] = \"false\"\n",
    "os.environ[\"OMP_NUM_THREADS\"] = \"1\"\n",
    "os.environ[\"MKL_NUM_THREADS\"] = \"1\""
   ]
  },
  {
   "cell_type": "markdown",
   "id": "c37ea061",
   "metadata": {},
   "source": [
    "**1. Preprocessing data**"
   ]
  },
  {
   "cell_type": "code",
   "execution_count": 4,
   "id": "e4bfaf76",
   "metadata": {},
   "outputs": [
    {
     "data": {
      "text/html": [
       "<div>\n",
       "<style scoped>\n",
       "    .dataframe tbody tr th:only-of-type {\n",
       "        vertical-align: middle;\n",
       "    }\n",
       "\n",
       "    .dataframe tbody tr th {\n",
       "        vertical-align: top;\n",
       "    }\n",
       "\n",
       "    .dataframe thead th {\n",
       "        text-align: right;\n",
       "    }\n",
       "</style>\n",
       "<table border=\"1\" class=\"dataframe\">\n",
       "  <thead>\n",
       "    <tr style=\"text-align: right;\">\n",
       "      <th></th>\n",
       "      <th>tweet_id</th>\n",
       "      <th>airline</th>\n",
       "      <th>name</th>\n",
       "      <th>text</th>\n",
       "      <th>tweet_coord</th>\n",
       "      <th>tweet_created</th>\n",
       "      <th>tweet_location</th>\n",
       "      <th>user_timezone</th>\n",
       "      <th>sentiment</th>\n",
       "    </tr>\n",
       "  </thead>\n",
       "  <tbody>\n",
       "    <tr>\n",
       "      <th>0</th>\n",
       "      <td>567588000000000000</td>\n",
       "      <td>Delta</td>\n",
       "      <td>JetBlueNews</td>\n",
       "      <td>@JetBlue's new CEO seeks the right balance to ...</td>\n",
       "      <td>NaN</td>\n",
       "      <td>16-02-15 23:36</td>\n",
       "      <td>USA</td>\n",
       "      <td>Sydney</td>\n",
       "      <td>NEUTRAL</td>\n",
       "    </tr>\n",
       "    <tr>\n",
       "      <th>1</th>\n",
       "      <td>567590000000000000</td>\n",
       "      <td>Delta</td>\n",
       "      <td>nesi_1992</td>\n",
       "      <td>@JetBlue is REALLY getting on my nerves !! 😡😡 ...</td>\n",
       "      <td>NaN</td>\n",
       "      <td>16-02-15 23:43</td>\n",
       "      <td>undecided</td>\n",
       "      <td>Pacific Time (US &amp; Canada)</td>\n",
       "      <td>NEGATIVE</td>\n",
       "    </tr>\n",
       "    <tr>\n",
       "      <th>2</th>\n",
       "      <td>567591000000000000</td>\n",
       "      <td>United</td>\n",
       "      <td>CPoutloud</td>\n",
       "      <td>@united yes. We waited in line for almost an h...</td>\n",
       "      <td>NaN</td>\n",
       "      <td>16-02-15 23:48</td>\n",
       "      <td>Washington, DC</td>\n",
       "      <td>NaN</td>\n",
       "      <td>NEUTRAL</td>\n",
       "    </tr>\n",
       "    <tr>\n",
       "      <th>3</th>\n",
       "      <td>567592000000000000</td>\n",
       "      <td>United</td>\n",
       "      <td>brenduch</td>\n",
       "      <td>@united the we got into the gate at IAH on tim...</td>\n",
       "      <td>NaN</td>\n",
       "      <td>16-02-15 23:52</td>\n",
       "      <td>NaN</td>\n",
       "      <td>Buenos Aires</td>\n",
       "      <td>NEUTRAL</td>\n",
       "    </tr>\n",
       "    <tr>\n",
       "      <th>4</th>\n",
       "      <td>567594000000000000</td>\n",
       "      <td>Southwest</td>\n",
       "      <td>VahidESQ</td>\n",
       "      <td>@SouthwestAir its cool that my bags take a bit...</td>\n",
       "      <td>NaN</td>\n",
       "      <td>17-02-15 0:00</td>\n",
       "      <td>Los Angeles, CA</td>\n",
       "      <td>Pacific Time (US &amp; Canada)</td>\n",
       "      <td>POSITIVE</td>\n",
       "    </tr>\n",
       "  </tbody>\n",
       "</table>\n",
       "</div>"
      ],
      "text/plain": [
       "             tweet_id    airline         name  \\\n",
       "0  567588000000000000      Delta  JetBlueNews   \n",
       "1  567590000000000000      Delta    nesi_1992   \n",
       "2  567591000000000000     United    CPoutloud   \n",
       "3  567592000000000000     United     brenduch   \n",
       "4  567594000000000000  Southwest     VahidESQ   \n",
       "\n",
       "                                                text tweet_coord  \\\n",
       "0  @JetBlue's new CEO seeks the right balance to ...         NaN   \n",
       "1  @JetBlue is REALLY getting on my nerves !! 😡😡 ...         NaN   \n",
       "2  @united yes. We waited in line for almost an h...         NaN   \n",
       "3  @united the we got into the gate at IAH on tim...         NaN   \n",
       "4  @SouthwestAir its cool that my bags take a bit...         NaN   \n",
       "\n",
       "    tweet_created   tweet_location               user_timezone sentiment  \n",
       "0  16-02-15 23:36              USA                      Sydney   NEUTRAL  \n",
       "1  16-02-15 23:43        undecided  Pacific Time (US & Canada)  NEGATIVE  \n",
       "2  16-02-15 23:48   Washington, DC                         NaN   NEUTRAL  \n",
       "3  16-02-15 23:52              NaN                Buenos Aires   NEUTRAL  \n",
       "4   17-02-15 0:00  Los Angeles, CA  Pacific Time (US & Canada)  POSITIVE  "
      ]
     },
     "execution_count": 4,
     "metadata": {},
     "output_type": "execute_result"
    }
   ],
   "source": [
    "import pandas as pd\n",
    "import numpy as np\n",
    "import matplotlib.pyplot as plt\n",
    "\n",
    "file_path = '/Users/khoavan/Downloads/tweets.csv'\n",
    "df = pd.read_csv(file_path)\n",
    "df.head(5)"
   ]
  },
  {
   "cell_type": "markdown",
   "id": "facc9ca2",
   "metadata": {},
   "source": [
    "First, let's see how large is the dataset, and how many columns are there, and  how many unique values each column has?"
   ]
  },
  {
   "cell_type": "code",
   "execution_count": 5,
   "id": "b01c6bcc",
   "metadata": {},
   "outputs": [
    {
     "name": "stdout",
     "output_type": "stream",
     "text": [
      "Index(['tweet_id', 'airline', 'name', 'text', 'tweet_coord', 'tweet_created',\n",
      "       'tweet_location', 'user_timezone', 'sentiment'],\n",
      "      dtype='object')\n"
     ]
    },
    {
     "data": {
      "text/plain": [
       "(14640, 9)"
      ]
     },
     "execution_count": 5,
     "metadata": {},
     "output_type": "execute_result"
    }
   ],
   "source": [
    "print(df.columns)\n",
    "df.shape"
   ]
  },
  {
   "cell_type": "markdown",
   "id": "670d5704",
   "metadata": {},
   "source": [
    "Currently, we only care about relevant columns. tweet_id, name are not of our concern. tweet_coord and tweet_created might be useful in some way, but we are not focusing on them right now. Furthermore, we need to remove NaN, but only from essential columns like text, sentiment, and airline. Other columns, though important, can be tolerated if they're NaN. This method of preprocessing has the advantage of not filtering too much data, leaving us plenty to work with."
   ]
  },
  {
   "cell_type": "code",
   "execution_count": 6,
   "id": "4be816f1",
   "metadata": {},
   "outputs": [],
   "source": [
    "#Remove irrelevant columns\n",
    "df = df.drop(columns=['tweet_id', 'name', 'tweet_coord', 'tweet_created'])\n",
    "df.reset_index(drop=True, inplace=True)\n",
    "            "
   ]
  },
  {
   "cell_type": "code",
   "execution_count": 7,
   "id": "e3de8d67",
   "metadata": {},
   "outputs": [
    {
     "data": {
      "text/html": [
       "<div>\n",
       "<style scoped>\n",
       "    .dataframe tbody tr th:only-of-type {\n",
       "        vertical-align: middle;\n",
       "    }\n",
       "\n",
       "    .dataframe tbody tr th {\n",
       "        vertical-align: top;\n",
       "    }\n",
       "\n",
       "    .dataframe thead th {\n",
       "        text-align: right;\n",
       "    }\n",
       "</style>\n",
       "<table border=\"1\" class=\"dataframe\">\n",
       "  <thead>\n",
       "    <tr style=\"text-align: right;\">\n",
       "      <th></th>\n",
       "      <th>airline</th>\n",
       "      <th>text</th>\n",
       "      <th>tweet_location</th>\n",
       "      <th>user_timezone</th>\n",
       "      <th>sentiment</th>\n",
       "    </tr>\n",
       "  </thead>\n",
       "  <tbody>\n",
       "    <tr>\n",
       "      <th>0</th>\n",
       "      <td>Delta</td>\n",
       "      <td>@JetBlue's new CEO seeks the right balance to ...</td>\n",
       "      <td>USA</td>\n",
       "      <td>Sydney</td>\n",
       "      <td>NEUTRAL</td>\n",
       "    </tr>\n",
       "    <tr>\n",
       "      <th>1</th>\n",
       "      <td>Delta</td>\n",
       "      <td>@JetBlue is REALLY getting on my nerves !! 😡😡 ...</td>\n",
       "      <td>undecided</td>\n",
       "      <td>Pacific Time (US &amp; Canada)</td>\n",
       "      <td>NEGATIVE</td>\n",
       "    </tr>\n",
       "    <tr>\n",
       "      <th>2</th>\n",
       "      <td>United</td>\n",
       "      <td>@united yes. We waited in line for almost an h...</td>\n",
       "      <td>Washington, DC</td>\n",
       "      <td>NaN</td>\n",
       "      <td>NEUTRAL</td>\n",
       "    </tr>\n",
       "    <tr>\n",
       "      <th>3</th>\n",
       "      <td>United</td>\n",
       "      <td>@united the we got into the gate at IAH on tim...</td>\n",
       "      <td>NaN</td>\n",
       "      <td>Buenos Aires</td>\n",
       "      <td>NEUTRAL</td>\n",
       "    </tr>\n",
       "    <tr>\n",
       "      <th>4</th>\n",
       "      <td>Southwest</td>\n",
       "      <td>@SouthwestAir its cool that my bags take a bit...</td>\n",
       "      <td>Los Angeles, CA</td>\n",
       "      <td>Pacific Time (US &amp; Canada)</td>\n",
       "      <td>POSITIVE</td>\n",
       "    </tr>\n",
       "    <tr>\n",
       "      <th>...</th>\n",
       "      <td>...</td>\n",
       "      <td>...</td>\n",
       "      <td>...</td>\n",
       "      <td>...</td>\n",
       "      <td>...</td>\n",
       "    </tr>\n",
       "    <tr>\n",
       "      <th>14635</th>\n",
       "      <td>Delta</td>\n",
       "      <td>@JetBlue I hope so because I fly very often an...</td>\n",
       "      <td>Georgia</td>\n",
       "      <td>Quito</td>\n",
       "      <td>NEGATIVE</td>\n",
       "    </tr>\n",
       "    <tr>\n",
       "      <th>14636</th>\n",
       "      <td>US Airways</td>\n",
       "      <td>@USAirways is a DM possible if you aren't foll...</td>\n",
       "      <td>Missourah</td>\n",
       "      <td>Hawaii</td>\n",
       "      <td>NEUTRAL</td>\n",
       "    </tr>\n",
       "    <tr>\n",
       "      <th>14637</th>\n",
       "      <td>Delta</td>\n",
       "      <td>@JetBlue Yesterday on my way from EWR to FLL j...</td>\n",
       "      <td>east brunswick, nj</td>\n",
       "      <td>Atlantic Time (Canada)</td>\n",
       "      <td>NEUTRAL</td>\n",
       "    </tr>\n",
       "    <tr>\n",
       "      <th>14638</th>\n",
       "      <td>US Airways</td>\n",
       "      <td>@USAirways and when will one of these agents b...</td>\n",
       "      <td>NaN</td>\n",
       "      <td>Atlantic Time (Canada)</td>\n",
       "      <td>NEUTRAL</td>\n",
       "    </tr>\n",
       "    <tr>\n",
       "      <th>14639</th>\n",
       "      <td>US Airways</td>\n",
       "      <td>@USAirways  is there a better time to call? My...</td>\n",
       "      <td>NaN</td>\n",
       "      <td>NaN</td>\n",
       "      <td>NEGATIVE</td>\n",
       "    </tr>\n",
       "  </tbody>\n",
       "</table>\n",
       "<p>14640 rows × 5 columns</p>\n",
       "</div>"
      ],
      "text/plain": [
       "          airline                                               text  \\\n",
       "0           Delta  @JetBlue's new CEO seeks the right balance to ...   \n",
       "1           Delta  @JetBlue is REALLY getting on my nerves !! 😡😡 ...   \n",
       "2          United  @united yes. We waited in line for almost an h...   \n",
       "3          United  @united the we got into the gate at IAH on tim...   \n",
       "4       Southwest  @SouthwestAir its cool that my bags take a bit...   \n",
       "...           ...                                                ...   \n",
       "14635       Delta  @JetBlue I hope so because I fly very often an...   \n",
       "14636  US Airways  @USAirways is a DM possible if you aren't foll...   \n",
       "14637       Delta  @JetBlue Yesterday on my way from EWR to FLL j...   \n",
       "14638  US Airways  @USAirways and when will one of these agents b...   \n",
       "14639  US Airways  @USAirways  is there a better time to call? My...   \n",
       "\n",
       "           tweet_location               user_timezone sentiment  \n",
       "0                     USA                      Sydney   NEUTRAL  \n",
       "1               undecided  Pacific Time (US & Canada)  NEGATIVE  \n",
       "2          Washington, DC                         NaN   NEUTRAL  \n",
       "3                     NaN                Buenos Aires   NEUTRAL  \n",
       "4         Los Angeles, CA  Pacific Time (US & Canada)  POSITIVE  \n",
       "...                   ...                         ...       ...  \n",
       "14635             Georgia                       Quito  NEGATIVE  \n",
       "14636           Missourah                      Hawaii   NEUTRAL  \n",
       "14637  east brunswick, nj      Atlantic Time (Canada)   NEUTRAL  \n",
       "14638                 NaN      Atlantic Time (Canada)   NEUTRAL  \n",
       "14639                 NaN                         NaN  NEGATIVE  \n",
       "\n",
       "[14640 rows x 5 columns]"
      ]
     },
     "execution_count": 7,
     "metadata": {},
     "output_type": "execute_result"
    }
   ],
   "source": [
    "#Drop NaN only in essential columns \n",
    "df = df.dropna(subset=['text', 'sentiment', 'airline'])\n",
    "df"
   ]
  },
  {
   "cell_type": "code",
   "execution_count": 8,
   "id": "f41306c8",
   "metadata": {},
   "outputs": [
    {
     "data": {
      "text/plain": [
       "14640"
      ]
     },
     "execution_count": 8,
     "metadata": {},
     "output_type": "execute_result"
    }
   ],
   "source": [
    "len(df)"
   ]
  },
  {
   "cell_type": "markdown",
   "id": "d36c6a7a",
   "metadata": {},
   "source": [
    "Outside of the text column, there are 4 categorical columns: airline, tweet_location, user_timezone, and sentiment. Let's see how many unique values each column has."
   ]
  },
  {
   "cell_type": "code",
   "execution_count": 9,
   "id": "366323b9",
   "metadata": {},
   "outputs": [
    {
     "name": "stdout",
     "output_type": "stream",
     "text": [
      "['Delta' 'United' 'Southwest' 'US Airways' 'Virgin America' 'American'] : 6 values.\n",
      "['USA' 'undecided' 'Washington, DC' ... \"Today I'm in: Maryland\"\n",
      " 'Missourah' 'east brunswick, nj'] : 2989 values.\n",
      "['Sydney' 'Pacific Time (US & Canada)' nan 'Buenos Aires'\n",
      " 'Eastern Time (US & Canada)' 'Central Time (US & Canada)'\n",
      " 'Atlantic Time (Canada)' 'London' 'Tehran' 'Arizona' 'Quito' 'Casablanca'\n",
      " 'Mountain Time (US & Canada)' 'Dublin' 'Indiana (East)' 'Mazatlan'\n",
      " 'Hawaii' 'Tijuana' 'America/Chicago' 'Melbourne' 'Greenland' 'Paris'\n",
      " 'Alaska' 'Rome' 'Amsterdam' 'Seoul' 'Abu Dhabi' 'Caracas' 'Mid-Atlantic'\n",
      " 'America/New_York' 'Central America' 'Guadalajara' 'Hong Kong'\n",
      " 'Islamabad' 'Brisbane' 'New Delhi' 'Copenhagen' 'Adelaide' 'Lima'\n",
      " 'Brasilia' 'Athens' 'Lisbon' 'Berlin' 'Santiago' 'EST' 'Warsaw' 'Bangkok'\n",
      " 'Singapore' 'Wellington' 'Sarajevo' 'Madrid' 'America/Atikokan' 'Bogota'\n",
      " 'Beijing' 'New Caledonia' 'Jerusalem' 'Prague' 'Edinburgh' 'Nairobi'\n",
      " 'Solomon Is.' 'Brussels' 'Istanbul' 'Midway Island' 'Bucharest' 'Kyiv'\n",
      " 'Irkutsk' 'America/Detroit' 'Saskatchewan' 'Perth' 'America/Boise'\n",
      " 'America/Los_Angeles' 'Helsinki' 'Tokyo' 'La Paz' 'Monterrey' 'Canberra'\n",
      " 'Bern' 'Mexico City' 'Vienna' 'Taipei' 'Stockholm' 'West Central Africa'\n",
      " 'Kuala Lumpur' 'Pretoria' 'Guam' 'Newfoundland'] : 85 values.\n",
      "['NEUTRAL' 'NEGATIVE' 'POSITIVE' 'MIXED'] : 4 values.\n"
     ]
    }
   ],
   "source": [
    "categorical = ['airline', 'tweet_location', 'user_timezone', 'sentiment']\n",
    "for column in categorical:\n",
    "    print(df[column].unique(), ':', (df[column].nunique()), 'values.')"
   ]
  },
  {
   "cell_type": "markdown",
   "id": "9020491e",
   "metadata": {},
   "source": [
    "Now let's clean the tweets. The clean_text(text) function converts text to lower case, removes URL, mentions, hashtag, and non-alphabetic characters."
   ]
  },
  {
   "cell_type": "code",
   "execution_count": 10,
   "id": "2e68c230",
   "metadata": {},
   "outputs": [],
   "source": [
    "import re\n",
    "\n",
    "def clean_text(text):\n",
    "    text = text.lower()\n",
    "    text = re.sub(r'http\\S+', '', text)              # Remove URLs\n",
    "    text = re.sub(r'@\\w+', '', text)                 # Remove mentions\n",
    "    text = re.sub(r\"#\", '', text)                    # Remove hashtag symbol\n",
    "    text = re.sub(r'[^a-z\\s]', '', text)             # Remove non-alphabetic characters\n",
    "    return text\n"
   ]
  },
  {
   "cell_type": "code",
   "execution_count": 11,
   "id": "244d9df4",
   "metadata": {},
   "outputs": [],
   "source": [
    "df['cleaned text'] = df['text'].map(lambda x: clean_text(x)) "
   ]
  },
  {
   "cell_type": "code",
   "execution_count": 12,
   "id": "729d597a",
   "metadata": {},
   "outputs": [
    {
     "data": {
      "text/html": [
       "<div>\n",
       "<style scoped>\n",
       "    .dataframe tbody tr th:only-of-type {\n",
       "        vertical-align: middle;\n",
       "    }\n",
       "\n",
       "    .dataframe tbody tr th {\n",
       "        vertical-align: top;\n",
       "    }\n",
       "\n",
       "    .dataframe thead th {\n",
       "        text-align: right;\n",
       "    }\n",
       "</style>\n",
       "<table border=\"1\" class=\"dataframe\">\n",
       "  <thead>\n",
       "    <tr style=\"text-align: right;\">\n",
       "      <th></th>\n",
       "      <th>airline</th>\n",
       "      <th>text</th>\n",
       "      <th>tweet_location</th>\n",
       "      <th>user_timezone</th>\n",
       "      <th>sentiment</th>\n",
       "      <th>cleaned text</th>\n",
       "    </tr>\n",
       "  </thead>\n",
       "  <tbody>\n",
       "    <tr>\n",
       "      <th>0</th>\n",
       "      <td>Delta</td>\n",
       "      <td>@JetBlue's new CEO seeks the right balance to ...</td>\n",
       "      <td>USA</td>\n",
       "      <td>Sydney</td>\n",
       "      <td>NEUTRAL</td>\n",
       "      <td>s new ceo seeks the right balance to please pa...</td>\n",
       "    </tr>\n",
       "    <tr>\n",
       "      <th>1</th>\n",
       "      <td>Delta</td>\n",
       "      <td>@JetBlue is REALLY getting on my nerves !! 😡😡 ...</td>\n",
       "      <td>undecided</td>\n",
       "      <td>Pacific Time (US &amp; Canada)</td>\n",
       "      <td>NEGATIVE</td>\n",
       "      <td>is really getting on my nerves   nothappy</td>\n",
       "    </tr>\n",
       "    <tr>\n",
       "      <th>2</th>\n",
       "      <td>United</td>\n",
       "      <td>@united yes. We waited in line for almost an h...</td>\n",
       "      <td>Washington, DC</td>\n",
       "      <td>NaN</td>\n",
       "      <td>NEUTRAL</td>\n",
       "      <td>yes we waited in line for almost an hour to d...</td>\n",
       "    </tr>\n",
       "    <tr>\n",
       "      <th>3</th>\n",
       "      <td>United</td>\n",
       "      <td>@united the we got into the gate at IAH on tim...</td>\n",
       "      <td>NaN</td>\n",
       "      <td>Buenos Aires</td>\n",
       "      <td>NEUTRAL</td>\n",
       "      <td>the we got into the gate at iah on time and h...</td>\n",
       "    </tr>\n",
       "    <tr>\n",
       "      <th>4</th>\n",
       "      <td>Southwest</td>\n",
       "      <td>@SouthwestAir its cool that my bags take a bit...</td>\n",
       "      <td>Los Angeles, CA</td>\n",
       "      <td>Pacific Time (US &amp; Canada)</td>\n",
       "      <td>POSITIVE</td>\n",
       "      <td>its cool that my bags take a bit longer dont ...</td>\n",
       "    </tr>\n",
       "    <tr>\n",
       "      <th>...</th>\n",
       "      <td>...</td>\n",
       "      <td>...</td>\n",
       "      <td>...</td>\n",
       "      <td>...</td>\n",
       "      <td>...</td>\n",
       "      <td>...</td>\n",
       "    </tr>\n",
       "    <tr>\n",
       "      <th>14635</th>\n",
       "      <td>Delta</td>\n",
       "      <td>@JetBlue I hope so because I fly very often an...</td>\n",
       "      <td>Georgia</td>\n",
       "      <td>Quito</td>\n",
       "      <td>NEGATIVE</td>\n",
       "      <td>i hope so because i fly very often and would ...</td>\n",
       "    </tr>\n",
       "    <tr>\n",
       "      <th>14636</th>\n",
       "      <td>US Airways</td>\n",
       "      <td>@USAirways is a DM possible if you aren't foll...</td>\n",
       "      <td>Missourah</td>\n",
       "      <td>Hawaii</td>\n",
       "      <td>NEUTRAL</td>\n",
       "      <td>is a dm possible if you arent following me</td>\n",
       "    </tr>\n",
       "    <tr>\n",
       "      <th>14637</th>\n",
       "      <td>Delta</td>\n",
       "      <td>@JetBlue Yesterday on my way from EWR to FLL j...</td>\n",
       "      <td>east brunswick, nj</td>\n",
       "      <td>Atlantic Time (Canada)</td>\n",
       "      <td>NEUTRAL</td>\n",
       "      <td>yesterday on my way from ewr to fll just afte...</td>\n",
       "    </tr>\n",
       "    <tr>\n",
       "      <th>14638</th>\n",
       "      <td>US Airways</td>\n",
       "      <td>@USAirways and when will one of these agents b...</td>\n",
       "      <td>NaN</td>\n",
       "      <td>Atlantic Time (Canada)</td>\n",
       "      <td>NEUTRAL</td>\n",
       "      <td>and when will one of these agents be availabl...</td>\n",
       "    </tr>\n",
       "    <tr>\n",
       "      <th>14639</th>\n",
       "      <td>US Airways</td>\n",
       "      <td>@USAirways  is there a better time to call? My...</td>\n",
       "      <td>NaN</td>\n",
       "      <td>NaN</td>\n",
       "      <td>NEGATIVE</td>\n",
       "      <td>is there a better time to call my flight is ...</td>\n",
       "    </tr>\n",
       "  </tbody>\n",
       "</table>\n",
       "<p>14640 rows × 6 columns</p>\n",
       "</div>"
      ],
      "text/plain": [
       "          airline                                               text  \\\n",
       "0           Delta  @JetBlue's new CEO seeks the right balance to ...   \n",
       "1           Delta  @JetBlue is REALLY getting on my nerves !! 😡😡 ...   \n",
       "2          United  @united yes. We waited in line for almost an h...   \n",
       "3          United  @united the we got into the gate at IAH on tim...   \n",
       "4       Southwest  @SouthwestAir its cool that my bags take a bit...   \n",
       "...           ...                                                ...   \n",
       "14635       Delta  @JetBlue I hope so because I fly very often an...   \n",
       "14636  US Airways  @USAirways is a DM possible if you aren't foll...   \n",
       "14637       Delta  @JetBlue Yesterday on my way from EWR to FLL j...   \n",
       "14638  US Airways  @USAirways and when will one of these agents b...   \n",
       "14639  US Airways  @USAirways  is there a better time to call? My...   \n",
       "\n",
       "           tweet_location               user_timezone sentiment  \\\n",
       "0                     USA                      Sydney   NEUTRAL   \n",
       "1               undecided  Pacific Time (US & Canada)  NEGATIVE   \n",
       "2          Washington, DC                         NaN   NEUTRAL   \n",
       "3                     NaN                Buenos Aires   NEUTRAL   \n",
       "4         Los Angeles, CA  Pacific Time (US & Canada)  POSITIVE   \n",
       "...                   ...                         ...       ...   \n",
       "14635             Georgia                       Quito  NEGATIVE   \n",
       "14636           Missourah                      Hawaii   NEUTRAL   \n",
       "14637  east brunswick, nj      Atlantic Time (Canada)   NEUTRAL   \n",
       "14638                 NaN      Atlantic Time (Canada)   NEUTRAL   \n",
       "14639                 NaN                         NaN  NEGATIVE   \n",
       "\n",
       "                                            cleaned text  \n",
       "0      s new ceo seeks the right balance to please pa...  \n",
       "1              is really getting on my nerves   nothappy  \n",
       "2       yes we waited in line for almost an hour to d...  \n",
       "3       the we got into the gate at iah on time and h...  \n",
       "4       its cool that my bags take a bit longer dont ...  \n",
       "...                                                  ...  \n",
       "14635   i hope so because i fly very often and would ...  \n",
       "14636         is a dm possible if you arent following me  \n",
       "14637   yesterday on my way from ewr to fll just afte...  \n",
       "14638   and when will one of these agents be availabl...  \n",
       "14639    is there a better time to call my flight is ...  \n",
       "\n",
       "[14640 rows x 6 columns]"
      ]
     },
     "execution_count": 12,
     "metadata": {},
     "output_type": "execute_result"
    }
   ],
   "source": [
    "df"
   ]
  },
  {
   "cell_type": "markdown",
   "id": "400a615e",
   "metadata": {},
   "source": [
    "The next step in the preprocessing stage is lemmatization. The preprocess(text) function tokenizes text into words, then lemmatizes them. Lemmatization means reducing words to their stems, or basic forms. "
   ]
  },
  {
   "cell_type": "code",
   "execution_count": 13,
   "id": "373a086a",
   "metadata": {},
   "outputs": [],
   "source": [
    "from nltk.corpus import stopwords\n",
    "from nltk.tokenize import word_tokenize\n",
    "from nltk.stem import WordNetLemmatizer\n",
    "\n",
    "stop_words = set(stopwords.words('english'))\n",
    "lemmatizer = WordNetLemmatizer()\n",
    "\n",
    "def preprocess(text):\n",
    "    tokens = word_tokenize(text)\n",
    "    tokens = [lemmatizer.lemmatize(w) for w in tokens if w not in stop_words]\n",
    "    return ' '.join(tokens)\n"
   ]
  },
  {
   "cell_type": "code",
   "execution_count": 14,
   "id": "f5bf72dc",
   "metadata": {},
   "outputs": [],
   "source": [
    "df['preprocessed text'] = df['cleaned text'].apply(preprocess)\n",
    "df['length'] = df['text'].apply(len)      #add feature length, in characters\n",
    "df['word count'] = df['text'].apply(lambda x: len(x.split()))       #add feature word count"
   ]
  },
  {
   "cell_type": "code",
   "execution_count": 15,
   "id": "29be509d",
   "metadata": {},
   "outputs": [
    {
     "data": {
      "text/html": [
       "<div>\n",
       "<style scoped>\n",
       "    .dataframe tbody tr th:only-of-type {\n",
       "        vertical-align: middle;\n",
       "    }\n",
       "\n",
       "    .dataframe tbody tr th {\n",
       "        vertical-align: top;\n",
       "    }\n",
       "\n",
       "    .dataframe thead th {\n",
       "        text-align: right;\n",
       "    }\n",
       "</style>\n",
       "<table border=\"1\" class=\"dataframe\">\n",
       "  <thead>\n",
       "    <tr style=\"text-align: right;\">\n",
       "      <th></th>\n",
       "      <th>airline</th>\n",
       "      <th>text</th>\n",
       "      <th>tweet_location</th>\n",
       "      <th>user_timezone</th>\n",
       "      <th>sentiment</th>\n",
       "      <th>cleaned text</th>\n",
       "      <th>preprocessed text</th>\n",
       "      <th>length</th>\n",
       "      <th>word count</th>\n",
       "    </tr>\n",
       "  </thead>\n",
       "  <tbody>\n",
       "    <tr>\n",
       "      <th>0</th>\n",
       "      <td>Delta</td>\n",
       "      <td>@JetBlue's new CEO seeks the right balance to ...</td>\n",
       "      <td>USA</td>\n",
       "      <td>Sydney</td>\n",
       "      <td>NEUTRAL</td>\n",
       "      <td>s new ceo seeks the right balance to please pa...</td>\n",
       "      <td>new ceo seek right balance please passenger wa...</td>\n",
       "      <td>127</td>\n",
       "      <td>18</td>\n",
       "    </tr>\n",
       "    <tr>\n",
       "      <th>1</th>\n",
       "      <td>Delta</td>\n",
       "      <td>@JetBlue is REALLY getting on my nerves !! 😡😡 ...</td>\n",
       "      <td>undecided</td>\n",
       "      <td>Pacific Time (US &amp; Canada)</td>\n",
       "      <td>NEGATIVE</td>\n",
       "      <td>is really getting on my nerves   nothappy</td>\n",
       "      <td>really getting nerve nothappy</td>\n",
       "      <td>55</td>\n",
       "      <td>10</td>\n",
       "    </tr>\n",
       "    <tr>\n",
       "      <th>2</th>\n",
       "      <td>United</td>\n",
       "      <td>@united yes. We waited in line for almost an h...</td>\n",
       "      <td>Washington, DC</td>\n",
       "      <td>NaN</td>\n",
       "      <td>NEUTRAL</td>\n",
       "      <td>yes we waited in line for almost an hour to d...</td>\n",
       "      <td>yes waited line almost hour passenger left wan...</td>\n",
       "      <td>115</td>\n",
       "      <td>23</td>\n",
       "    </tr>\n",
       "    <tr>\n",
       "      <th>3</th>\n",
       "      <td>United</td>\n",
       "      <td>@united the we got into the gate at IAH on tim...</td>\n",
       "      <td>NaN</td>\n",
       "      <td>Buenos Aires</td>\n",
       "      <td>NEUTRAL</td>\n",
       "      <td>the we got into the gate at iah on time and h...</td>\n",
       "      <td>got gate iah time given seat closed flight kno...</td>\n",
       "      <td>140</td>\n",
       "      <td>29</td>\n",
       "    </tr>\n",
       "    <tr>\n",
       "      <th>4</th>\n",
       "      <td>Southwest</td>\n",
       "      <td>@SouthwestAir its cool that my bags take a bit...</td>\n",
       "      <td>Los Angeles, CA</td>\n",
       "      <td>Pacific Time (US &amp; Canada)</td>\n",
       "      <td>POSITIVE</td>\n",
       "      <td>its cool that my bags take a bit longer dont ...</td>\n",
       "      <td>cool bag take bit longer dont give baggage blu...</td>\n",
       "      <td>139</td>\n",
       "      <td>25</td>\n",
       "    </tr>\n",
       "    <tr>\n",
       "      <th>...</th>\n",
       "      <td>...</td>\n",
       "      <td>...</td>\n",
       "      <td>...</td>\n",
       "      <td>...</td>\n",
       "      <td>...</td>\n",
       "      <td>...</td>\n",
       "      <td>...</td>\n",
       "      <td>...</td>\n",
       "      <td>...</td>\n",
       "    </tr>\n",
       "    <tr>\n",
       "      <th>14635</th>\n",
       "      <td>Delta</td>\n",
       "      <td>@JetBlue I hope so because I fly very often an...</td>\n",
       "      <td>Georgia</td>\n",
       "      <td>Quito</td>\n",
       "      <td>NEGATIVE</td>\n",
       "      <td>i hope so because i fly very often and would ...</td>\n",
       "      <td>hope fly often would hate change airline</td>\n",
       "      <td>78</td>\n",
       "      <td>15</td>\n",
       "    </tr>\n",
       "    <tr>\n",
       "      <th>14636</th>\n",
       "      <td>US Airways</td>\n",
       "      <td>@USAirways is a DM possible if you aren't foll...</td>\n",
       "      <td>Missourah</td>\n",
       "      <td>Hawaii</td>\n",
       "      <td>NEUTRAL</td>\n",
       "      <td>is a dm possible if you arent following me</td>\n",
       "      <td>dm possible arent following</td>\n",
       "      <td>55</td>\n",
       "      <td>10</td>\n",
       "    </tr>\n",
       "    <tr>\n",
       "      <th>14637</th>\n",
       "      <td>Delta</td>\n",
       "      <td>@JetBlue Yesterday on my way from EWR to FLL j...</td>\n",
       "      <td>east brunswick, nj</td>\n",
       "      <td>Atlantic Time (Canada)</td>\n",
       "      <td>NEUTRAL</td>\n",
       "      <td>yesterday on my way from ewr to fll just afte...</td>\n",
       "      <td>yesterday way ewr fll takeoff wheelsup jetblue...</td>\n",
       "      <td>115</td>\n",
       "      <td>16</td>\n",
       "    </tr>\n",
       "    <tr>\n",
       "      <th>14638</th>\n",
       "      <td>US Airways</td>\n",
       "      <td>@USAirways and when will one of these agents b...</td>\n",
       "      <td>NaN</td>\n",
       "      <td>Atlantic Time (Canada)</td>\n",
       "      <td>NEUTRAL</td>\n",
       "      <td>and when will one of these agents be availabl...</td>\n",
       "      <td>one agent available speak</td>\n",
       "      <td>67</td>\n",
       "      <td>12</td>\n",
       "    </tr>\n",
       "    <tr>\n",
       "      <th>14639</th>\n",
       "      <td>US Airways</td>\n",
       "      <td>@USAirways  is there a better time to call? My...</td>\n",
       "      <td>NaN</td>\n",
       "      <td>NaN</td>\n",
       "      <td>NEGATIVE</td>\n",
       "      <td>is there a better time to call my flight is ...</td>\n",
       "      <td>better time call flight friday need change wor...</td>\n",
       "      <td>128</td>\n",
       "      <td>27</td>\n",
       "    </tr>\n",
       "  </tbody>\n",
       "</table>\n",
       "<p>14640 rows × 9 columns</p>\n",
       "</div>"
      ],
      "text/plain": [
       "          airline                                               text  \\\n",
       "0           Delta  @JetBlue's new CEO seeks the right balance to ...   \n",
       "1           Delta  @JetBlue is REALLY getting on my nerves !! 😡😡 ...   \n",
       "2          United  @united yes. We waited in line for almost an h...   \n",
       "3          United  @united the we got into the gate at IAH on tim...   \n",
       "4       Southwest  @SouthwestAir its cool that my bags take a bit...   \n",
       "...           ...                                                ...   \n",
       "14635       Delta  @JetBlue I hope so because I fly very often an...   \n",
       "14636  US Airways  @USAirways is a DM possible if you aren't foll...   \n",
       "14637       Delta  @JetBlue Yesterday on my way from EWR to FLL j...   \n",
       "14638  US Airways  @USAirways and when will one of these agents b...   \n",
       "14639  US Airways  @USAirways  is there a better time to call? My...   \n",
       "\n",
       "           tweet_location               user_timezone sentiment  \\\n",
       "0                     USA                      Sydney   NEUTRAL   \n",
       "1               undecided  Pacific Time (US & Canada)  NEGATIVE   \n",
       "2          Washington, DC                         NaN   NEUTRAL   \n",
       "3                     NaN                Buenos Aires   NEUTRAL   \n",
       "4         Los Angeles, CA  Pacific Time (US & Canada)  POSITIVE   \n",
       "...                   ...                         ...       ...   \n",
       "14635             Georgia                       Quito  NEGATIVE   \n",
       "14636           Missourah                      Hawaii   NEUTRAL   \n",
       "14637  east brunswick, nj      Atlantic Time (Canada)   NEUTRAL   \n",
       "14638                 NaN      Atlantic Time (Canada)   NEUTRAL   \n",
       "14639                 NaN                         NaN  NEGATIVE   \n",
       "\n",
       "                                            cleaned text  \\\n",
       "0      s new ceo seeks the right balance to please pa...   \n",
       "1              is really getting on my nerves   nothappy   \n",
       "2       yes we waited in line for almost an hour to d...   \n",
       "3       the we got into the gate at iah on time and h...   \n",
       "4       its cool that my bags take a bit longer dont ...   \n",
       "...                                                  ...   \n",
       "14635   i hope so because i fly very often and would ...   \n",
       "14636         is a dm possible if you arent following me   \n",
       "14637   yesterday on my way from ewr to fll just afte...   \n",
       "14638   and when will one of these agents be availabl...   \n",
       "14639    is there a better time to call my flight is ...   \n",
       "\n",
       "                                       preprocessed text  length  word count  \n",
       "0      new ceo seek right balance please passenger wa...     127          18  \n",
       "1                          really getting nerve nothappy      55          10  \n",
       "2      yes waited line almost hour passenger left wan...     115          23  \n",
       "3      got gate iah time given seat closed flight kno...     140          29  \n",
       "4      cool bag take bit longer dont give baggage blu...     139          25  \n",
       "...                                                  ...     ...         ...  \n",
       "14635           hope fly often would hate change airline      78          15  \n",
       "14636                        dm possible arent following      55          10  \n",
       "14637  yesterday way ewr fll takeoff wheelsup jetblue...     115          16  \n",
       "14638                          one agent available speak      67          12  \n",
       "14639  better time call flight friday need change wor...     128          27  \n",
       "\n",
       "[14640 rows x 9 columns]"
      ]
     },
     "execution_count": 15,
     "metadata": {},
     "output_type": "execute_result"
    }
   ],
   "source": [
    "df"
   ]
  },
  {
   "cell_type": "markdown",
   "id": "4d04c9f9",
   "metadata": {},
   "source": [
    "**2. Exploratory data analysis**"
   ]
  },
  {
   "cell_type": "markdown",
   "id": "674d6dd0",
   "metadata": {},
   "source": [
    "Let's see the distribution of sentiments."
   ]
  },
  {
   "cell_type": "code",
   "execution_count": 16,
   "id": "fe5b7411",
   "metadata": {},
   "outputs": [
    {
     "data": {
      "text/plain": [
       "<Axes: xlabel='sentiment'>"
      ]
     },
     "execution_count": 16,
     "metadata": {},
     "output_type": "execute_result"
    },
    {
     "data": {
      "image/png": "[encoded data removed]",
      "text/plain": [
       "<Figure size 640x480 with 1 Axes>"
      ]
     },
     "metadata": {},
     "output_type": "display_data"
    }
   ],
   "source": [
    "df['sentiment'].value_counts().plot(kind='bar')"
   ]
  },
  {
   "cell_type": "markdown",
   "id": "eb48e16f",
   "metadata": {},
   "source": [
    "Let's see the distribution of word count across sentiments. "
   ]
  },
  {
   "cell_type": "code",
   "execution_count": 17,
   "id": "2872fa3c",
   "metadata": {},
   "outputs": [
    {
     "data": {
      "image/png": "[encoded data removed]",
      "text/plain": [
       "<Figure size 640x480 with 1 Axes>"
      ]
     },
     "metadata": {},
     "output_type": "display_data"
    }
   ],
   "source": [
    "import seaborn as sns\n",
    "sns.boxplot(data=df, x='sentiment', y='word count')\n",
    "plt.title(\"Word count by Sentiment\")\n",
    "plt.show()"
   ]
  },
  {
   "cell_type": "markdown",
   "id": "f464298b",
   "metadata": {},
   "source": [
    "Let's find out what are the most frequent words that appear in each sentiment."
   ]
  },
  {
   "cell_type": "code",
   "execution_count": 18,
   "id": "247fed42",
   "metadata": {},
   "outputs": [],
   "source": [
    "from sklearn.feature_extraction.text import CountVectorizer\n",
    "\n",
    "def top_words_by_sentiment(sentiment_label, n=10):\n",
    "    texts = df[df['sentiment'] == sentiment_label]['cleaned text']\n",
    "    vec = CountVectorizer(stop_words='english', max_features=1000)\n",
    "    X = vec.fit_transform(texts)\n",
    "    word_freq = zip(vec.get_feature_names_out(), X.sum(axis=0).tolist()[0])\n",
    "    return sorted(word_freq, key=lambda x: -x[1])[:n]"
   ]
  },
  {
   "cell_type": "code",
   "execution_count": 19,
   "id": "200847e6",
   "metadata": {},
   "outputs": [
    {
     "data": {
      "text/plain": [
       "[('thanks', 723),\n",
       " ('thank', 527),\n",
       " ('flight', 502),\n",
       " ('great', 267),\n",
       " ('service', 191),\n",
       " ('just', 190),\n",
       " ('love', 176),\n",
       " ('good', 146),\n",
       " ('customer', 134),\n",
       " ('best', 129)]"
      ]
     },
     "execution_count": 19,
     "metadata": {},
     "output_type": "execute_result"
    }
   ],
   "source": [
    "top_words_by_sentiment(\"POSITIVE\", n=10)"
   ]
  },
  {
   "cell_type": "code",
   "execution_count": 20,
   "id": "5cc3c73a",
   "metadata": {},
   "outputs": [
    {
     "data": {
      "text/plain": [
       "[('flight', 1963),\n",
       " ('cancelled', 698),\n",
       " ('service', 603),\n",
       " ('customer', 490),\n",
       " ('hours', 453),\n",
       " ('just', 404),\n",
       " ('hold', 381),\n",
       " ('help', 379),\n",
       " ('time', 376),\n",
       " ('amp', 367)]"
      ]
     },
     "execution_count": 20,
     "metadata": {},
     "output_type": "execute_result"
    }
   ],
   "source": [
    "top_words_by_sentiment(\"NEGATIVE\", n=10)"
   ]
  },
  {
   "cell_type": "code",
   "execution_count": 21,
   "id": "3eac27f0",
   "metadata": {},
   "outputs": [
    {
     "data": {
      "text/plain": [
       "[('flight', 1402),\n",
       " ('help', 352),\n",
       " ('just', 341),\n",
       " ('need', 305),\n",
       " ('cancelled', 297),\n",
       " ('im', 281),\n",
       " ('flights', 268),\n",
       " ('time', 264),\n",
       " ('hold', 228),\n",
       " ('plane', 215)]"
      ]
     },
     "execution_count": 21,
     "metadata": {},
     "output_type": "execute_result"
    }
   ],
   "source": [
    "top_words_by_sentiment(\"NEUTRAL\", n=10)"
   ]
  },
  {
   "cell_type": "code",
   "execution_count": 22,
   "id": "597fe605",
   "metadata": {},
   "outputs": [
    {
     "data": {
      "text/plain": [
       "[('thanks', 36),\n",
       " ('just', 31),\n",
       " ('flight', 28),\n",
       " ('service', 23),\n",
       " ('customer', 22),\n",
       " ('great', 21),\n",
       " ('thank', 17),\n",
       " ('appreciate', 14),\n",
       " ('like', 14),\n",
       " ('love', 14)]"
      ]
     },
     "execution_count": 22,
     "metadata": {},
     "output_type": "execute_result"
    }
   ],
   "source": [
    "top_words_by_sentiment(\"MIXED\", n=10)"
   ]
  },
  {
   "cell_type": "markdown",
   "id": "347a7dd3",
   "metadata": {},
   "source": [
    "Let's find a way to visualize these statistics better, by using bar charts."
   ]
  },
  {
   "cell_type": "code",
   "execution_count": 23,
   "id": "98b061c7",
   "metadata": {},
   "outputs": [],
   "source": [
    "def plot_top_words_all_sentiments(sentiments: list, n=10):\n",
    "    fig, axes = plt.subplots(2, 2, figsize=(16, 10))\n",
    "    axes = axes.flatten()\n",
    "\n",
    "    for i, sentiment in enumerate(sentiments):\n",
    "        top_words = top_words_by_sentiment(sentiment, n)\n",
    "        if not top_words:\n",
    "            continue\n",
    "\n",
    "        words, freqs = zip(*top_words)\n",
    "\n",
    "        sns.barplot(\n",
    "            x=list(freqs),\n",
    "            y=list(words),\n",
    "            ax=axes[i],\n",
    "            palette='viridis'\n",
    "        )\n",
    "        axes[i].set_title(f\"Top {n} Words in {sentiment} Tweets\")\n",
    "        axes[i].set_xlabel(\"Frequency\")\n",
    "        axes[i].set_ylabel(\"\")\n",
    "\n",
    "    plt.tight_layout()\n",
    "    plt.show()"
   ]
  },
  {
   "cell_type": "code",
   "execution_count": 24,
   "id": "e3712430",
   "metadata": {},
   "outputs": [
    {
     "data": {
      "image/png": "[encoded data removed]",
      "text/plain": [
       "<Figure size 1600x1000 with 4 Axes>"
      ]
     },
     "metadata": {},
     "output_type": "display_data"
    }
   ],
   "source": [
    "plot_top_words_all_sentiments(sentiments=['POSITIVE', 'NEGATIVE', 'NEUTRAL', 'MIXED'])"
   ]
  },
  {
   "cell_type": "markdown",
   "id": "241ed9f4",
   "metadata": {},
   "source": [
    "**3. Sentiment analysis**"
   ]
  },
  {
   "cell_type": "markdown",
   "id": "4a5e471e",
   "metadata": {},
   "source": [
    "I shall try 2 methods for sentiment analysis. The first method is a rule-based technique called VADER."
   ]
  },
  {
   "cell_type": "code",
   "execution_count": 25,
   "id": "f9535f0f",
   "metadata": {},
   "outputs": [
    {
     "name": "stdout",
     "output_type": "stream",
     "text": [
      "{'neg': 0.551, 'neu': 0.449, 'pos': 0.0, 'compound': -0.5994}\n",
      "NEGATIVE\n"
     ]
    }
   ],
   "source": [
    "\"\"\"\n",
    "VADER (Valence Aware Dictionary and sEntiment Reasoner) method works by analyzing \n",
    "the polarity of words and assigning a sentiment score to each word based on its emotional value. \n",
    "These individual word scores are then combined to calculate an overall sentiment score for the \n",
    "entire text. It uses compound score which is a normalized value between -1 and +1 \n",
    "representing the overall sentiment:\n",
    "1. Compound score > 0.05: Positive sentiment\n",
    "2. Compound score < -0.05: Negative sentiment\n",
    "3. Compound score between -0.05 and 0.05: Neutral sentiment\n",
    "\"\"\"\n",
    "#An example of VADER use\n",
    "from nltk.sentiment.vader import SentimentIntensityAnalyzer\n",
    "sid = SentimentIntensityAnalyzer()\n",
    "score = sid.polarity_scores(\"This airline is awful. Delayed again.\")\n",
    "print(score)\n",
    "if score['compound'] > 0.05:\n",
    "    print('POSITIVE')\n",
    "elif score['compound'] < -0.05:\n",
    "    print('NEGATIVE')\n",
    "else:\n",
    "    print('NEUTRAL')\n"
   ]
  },
  {
   "cell_type": "markdown",
   "id": "38966548",
   "metadata": {},
   "source": [
    "Let's create a labeling function using the VADER method, and store the predictions on the column 'VADER prediction'."
   ]
  },
  {
   "cell_type": "code",
   "execution_count": 26,
   "id": "1efc73f0",
   "metadata": {},
   "outputs": [],
   "source": [
    "#VADER labeling function\n",
    "sid = SentimentIntensityAnalyzer()\n",
    "def VADER_labeler(text: str) -> str:\n",
    "    score = sid.polarity_scores(text)\n",
    "    if score['compound'] > 0.05:\n",
    "        return 'POSITIVE'\n",
    "    elif score['compound'] < -0.05:\n",
    "        return 'NEGATIVE'\n",
    "    else:\n",
    "        return 'NEUTRAL'\n"
   ]
  },
  {
   "cell_type": "markdown",
   "id": "4562ac16",
   "metadata": {},
   "source": [
    "Because the number of mixed data is too small, we can for now omit them, and pretend that there are only 3 sentiment labels."
   ]
  },
  {
   "cell_type": "code",
   "execution_count": 27,
   "id": "35a112e3",
   "metadata": {},
   "outputs": [
    {
     "name": "stderr",
     "output_type": "stream",
     "text": [
      "/var/folders/nt/frbtbjrs5f7g0hhpjym9rrtr0000gn/T/ipykernel_23603/1292291672.py:2: SettingWithCopyWarning: \n",
      "A value is trying to be set on a copy of a slice from a DataFrame.\n",
      "Try using .loc[row_indexer,col_indexer] = value instead\n",
      "\n",
      "See the caveats in the documentation: https://pandas.pydata.org/pandas-docs/stable/user_guide/indexing.html#returning-a-view-versus-a-copy\n",
      "  df_VADER['VADER prediction'] = df_VADER['preprocessed text'].apply(VADER_labeler)\n"
     ]
    }
   ],
   "source": [
    "df_VADER = df[df['sentiment'] != 'MIXED']\n",
    "df_VADER['VADER prediction'] = df_VADER['preprocessed text'].apply(VADER_labeler)"
   ]
  },
  {
   "cell_type": "code",
   "execution_count": 28,
   "id": "2464610a",
   "metadata": {},
   "outputs": [
    {
     "data": {
      "text/html": [
       "<div>\n",
       "<style scoped>\n",
       "    .dataframe tbody tr th:only-of-type {\n",
       "        vertical-align: middle;\n",
       "    }\n",
       "\n",
       "    .dataframe tbody tr th {\n",
       "        vertical-align: top;\n",
       "    }\n",
       "\n",
       "    .dataframe thead th {\n",
       "        text-align: right;\n",
       "    }\n",
       "</style>\n",
       "<table border=\"1\" class=\"dataframe\">\n",
       "  <thead>\n",
       "    <tr style=\"text-align: right;\">\n",
       "      <th></th>\n",
       "      <th>airline</th>\n",
       "      <th>text</th>\n",
       "      <th>tweet_location</th>\n",
       "      <th>user_timezone</th>\n",
       "      <th>sentiment</th>\n",
       "      <th>cleaned text</th>\n",
       "      <th>preprocessed text</th>\n",
       "      <th>length</th>\n",
       "      <th>word count</th>\n",
       "      <th>VADER prediction</th>\n",
       "    </tr>\n",
       "  </thead>\n",
       "  <tbody>\n",
       "    <tr>\n",
       "      <th>0</th>\n",
       "      <td>Delta</td>\n",
       "      <td>@JetBlue's new CEO seeks the right balance to ...</td>\n",
       "      <td>USA</td>\n",
       "      <td>Sydney</td>\n",
       "      <td>NEUTRAL</td>\n",
       "      <td>s new ceo seeks the right balance to please pa...</td>\n",
       "      <td>new ceo seek right balance please passenger wa...</td>\n",
       "      <td>127</td>\n",
       "      <td>18</td>\n",
       "      <td>POSITIVE</td>\n",
       "    </tr>\n",
       "    <tr>\n",
       "      <th>1</th>\n",
       "      <td>Delta</td>\n",
       "      <td>@JetBlue is REALLY getting on my nerves !! 😡😡 ...</td>\n",
       "      <td>undecided</td>\n",
       "      <td>Pacific Time (US &amp; Canada)</td>\n",
       "      <td>NEGATIVE</td>\n",
       "      <td>is really getting on my nerves   nothappy</td>\n",
       "      <td>really getting nerve nothappy</td>\n",
       "      <td>55</td>\n",
       "      <td>10</td>\n",
       "      <td>NEUTRAL</td>\n",
       "    </tr>\n",
       "    <tr>\n",
       "      <th>2</th>\n",
       "      <td>United</td>\n",
       "      <td>@united yes. We waited in line for almost an h...</td>\n",
       "      <td>Washington, DC</td>\n",
       "      <td>NaN</td>\n",
       "      <td>NEUTRAL</td>\n",
       "      <td>yes we waited in line for almost an hour to d...</td>\n",
       "      <td>yes waited line almost hour passenger left wan...</td>\n",
       "      <td>115</td>\n",
       "      <td>23</td>\n",
       "      <td>POSITIVE</td>\n",
       "    </tr>\n",
       "    <tr>\n",
       "      <th>3</th>\n",
       "      <td>United</td>\n",
       "      <td>@united the we got into the gate at IAH on tim...</td>\n",
       "      <td>NaN</td>\n",
       "      <td>Buenos Aires</td>\n",
       "      <td>NEUTRAL</td>\n",
       "      <td>the we got into the gate at iah on time and h...</td>\n",
       "      <td>got gate iah time given seat closed flight kno...</td>\n",
       "      <td>140</td>\n",
       "      <td>29</td>\n",
       "      <td>NEUTRAL</td>\n",
       "    </tr>\n",
       "    <tr>\n",
       "      <th>4</th>\n",
       "      <td>Southwest</td>\n",
       "      <td>@SouthwestAir its cool that my bags take a bit...</td>\n",
       "      <td>Los Angeles, CA</td>\n",
       "      <td>Pacific Time (US &amp; Canada)</td>\n",
       "      <td>POSITIVE</td>\n",
       "      <td>its cool that my bags take a bit longer dont ...</td>\n",
       "      <td>cool bag take bit longer dont give baggage blu...</td>\n",
       "      <td>139</td>\n",
       "      <td>25</td>\n",
       "      <td>POSITIVE</td>\n",
       "    </tr>\n",
       "    <tr>\n",
       "      <th>...</th>\n",
       "      <td>...</td>\n",
       "      <td>...</td>\n",
       "      <td>...</td>\n",
       "      <td>...</td>\n",
       "      <td>...</td>\n",
       "      <td>...</td>\n",
       "      <td>...</td>\n",
       "      <td>...</td>\n",
       "      <td>...</td>\n",
       "      <td>...</td>\n",
       "    </tr>\n",
       "    <tr>\n",
       "      <th>14635</th>\n",
       "      <td>Delta</td>\n",
       "      <td>@JetBlue I hope so because I fly very often an...</td>\n",
       "      <td>Georgia</td>\n",
       "      <td>Quito</td>\n",
       "      <td>NEGATIVE</td>\n",
       "      <td>i hope so because i fly very often and would ...</td>\n",
       "      <td>hope fly often would hate change airline</td>\n",
       "      <td>78</td>\n",
       "      <td>15</td>\n",
       "      <td>NEGATIVE</td>\n",
       "    </tr>\n",
       "    <tr>\n",
       "      <th>14636</th>\n",
       "      <td>US Airways</td>\n",
       "      <td>@USAirways is a DM possible if you aren't foll...</td>\n",
       "      <td>Missourah</td>\n",
       "      <td>Hawaii</td>\n",
       "      <td>NEUTRAL</td>\n",
       "      <td>is a dm possible if you arent following me</td>\n",
       "      <td>dm possible arent following</td>\n",
       "      <td>55</td>\n",
       "      <td>10</td>\n",
       "      <td>NEUTRAL</td>\n",
       "    </tr>\n",
       "    <tr>\n",
       "      <th>14637</th>\n",
       "      <td>Delta</td>\n",
       "      <td>@JetBlue Yesterday on my way from EWR to FLL j...</td>\n",
       "      <td>east brunswick, nj</td>\n",
       "      <td>Atlantic Time (Canada)</td>\n",
       "      <td>NEUTRAL</td>\n",
       "      <td>yesterday on my way from ewr to fll just afte...</td>\n",
       "      <td>yesterday way ewr fll takeoff wheelsup jetblue...</td>\n",
       "      <td>115</td>\n",
       "      <td>16</td>\n",
       "      <td>NEUTRAL</td>\n",
       "    </tr>\n",
       "    <tr>\n",
       "      <th>14638</th>\n",
       "      <td>US Airways</td>\n",
       "      <td>@USAirways and when will one of these agents b...</td>\n",
       "      <td>NaN</td>\n",
       "      <td>Atlantic Time (Canada)</td>\n",
       "      <td>NEUTRAL</td>\n",
       "      <td>and when will one of these agents be availabl...</td>\n",
       "      <td>one agent available speak</td>\n",
       "      <td>67</td>\n",
       "      <td>12</td>\n",
       "      <td>NEUTRAL</td>\n",
       "    </tr>\n",
       "    <tr>\n",
       "      <th>14639</th>\n",
       "      <td>US Airways</td>\n",
       "      <td>@USAirways  is there a better time to call? My...</td>\n",
       "      <td>NaN</td>\n",
       "      <td>NaN</td>\n",
       "      <td>NEGATIVE</td>\n",
       "      <td>is there a better time to call my flight is ...</td>\n",
       "      <td>better time call flight friday need change wor...</td>\n",
       "      <td>128</td>\n",
       "      <td>27</td>\n",
       "      <td>POSITIVE</td>\n",
       "    </tr>\n",
       "  </tbody>\n",
       "</table>\n",
       "<p>14428 rows × 10 columns</p>\n",
       "</div>"
      ],
      "text/plain": [
       "          airline                                               text  \\\n",
       "0           Delta  @JetBlue's new CEO seeks the right balance to ...   \n",
       "1           Delta  @JetBlue is REALLY getting on my nerves !! 😡😡 ...   \n",
       "2          United  @united yes. We waited in line for almost an h...   \n",
       "3          United  @united the we got into the gate at IAH on tim...   \n",
       "4       Southwest  @SouthwestAir its cool that my bags take a bit...   \n",
       "...           ...                                                ...   \n",
       "14635       Delta  @JetBlue I hope so because I fly very often an...   \n",
       "14636  US Airways  @USAirways is a DM possible if you aren't foll...   \n",
       "14637       Delta  @JetBlue Yesterday on my way from EWR to FLL j...   \n",
       "14638  US Airways  @USAirways and when will one of these agents b...   \n",
       "14639  US Airways  @USAirways  is there a better time to call? My...   \n",
       "\n",
       "           tweet_location               user_timezone sentiment  \\\n",
       "0                     USA                      Sydney   NEUTRAL   \n",
       "1               undecided  Pacific Time (US & Canada)  NEGATIVE   \n",
       "2          Washington, DC                         NaN   NEUTRAL   \n",
       "3                     NaN                Buenos Aires   NEUTRAL   \n",
       "4         Los Angeles, CA  Pacific Time (US & Canada)  POSITIVE   \n",
       "...                   ...                         ...       ...   \n",
       "14635             Georgia                       Quito  NEGATIVE   \n",
       "14636           Missourah                      Hawaii   NEUTRAL   \n",
       "14637  east brunswick, nj      Atlantic Time (Canada)   NEUTRAL   \n",
       "14638                 NaN      Atlantic Time (Canada)   NEUTRAL   \n",
       "14639                 NaN                         NaN  NEGATIVE   \n",
       "\n",
       "                                            cleaned text  \\\n",
       "0      s new ceo seeks the right balance to please pa...   \n",
       "1              is really getting on my nerves   nothappy   \n",
       "2       yes we waited in line for almost an hour to d...   \n",
       "3       the we got into the gate at iah on time and h...   \n",
       "4       its cool that my bags take a bit longer dont ...   \n",
       "...                                                  ...   \n",
       "14635   i hope so because i fly very often and would ...   \n",
       "14636         is a dm possible if you arent following me   \n",
       "14637   yesterday on my way from ewr to fll just afte...   \n",
       "14638   and when will one of these agents be availabl...   \n",
       "14639    is there a better time to call my flight is ...   \n",
       "\n",
       "                                       preprocessed text  length  word count  \\\n",
       "0      new ceo seek right balance please passenger wa...     127          18   \n",
       "1                          really getting nerve nothappy      55          10   \n",
       "2      yes waited line almost hour passenger left wan...     115          23   \n",
       "3      got gate iah time given seat closed flight kno...     140          29   \n",
       "4      cool bag take bit longer dont give baggage blu...     139          25   \n",
       "...                                                  ...     ...         ...   \n",
       "14635           hope fly often would hate change airline      78          15   \n",
       "14636                        dm possible arent following      55          10   \n",
       "14637  yesterday way ewr fll takeoff wheelsup jetblue...     115          16   \n",
       "14638                          one agent available speak      67          12   \n",
       "14639  better time call flight friday need change wor...     128          27   \n",
       "\n",
       "      VADER prediction  \n",
       "0             POSITIVE  \n",
       "1              NEUTRAL  \n",
       "2             POSITIVE  \n",
       "3              NEUTRAL  \n",
       "4             POSITIVE  \n",
       "...                ...  \n",
       "14635         NEGATIVE  \n",
       "14636          NEUTRAL  \n",
       "14637          NEUTRAL  \n",
       "14638          NEUTRAL  \n",
       "14639         POSITIVE  \n",
       "\n",
       "[14428 rows x 10 columns]"
      ]
     },
     "execution_count": 28,
     "metadata": {},
     "output_type": "execute_result"
    }
   ],
   "source": [
    "df_VADER"
   ]
  },
  {
   "cell_type": "markdown",
   "id": "192ad32a",
   "metadata": {},
   "source": [
    "A skim through our dataframe shows that our method is somewhat off, at least. Let's evaluate its performance. We shall use metrics like accuracy, precision, f1, and recall."
   ]
  },
  {
   "cell_type": "code",
   "execution_count": 29,
   "id": "f123d885",
   "metadata": {},
   "outputs": [
    {
     "data": {
      "text/plain": [
       "<sklearn.metrics._plot.confusion_matrix.ConfusionMatrixDisplay at 0x1406ccbd0>"
      ]
     },
     "execution_count": 29,
     "metadata": {},
     "output_type": "execute_result"
    },
    {
     "data": {
      "image/png": "[encoded data removed]",
      "text/plain": [
       "<Figure size 640x480 with 2 Axes>"
      ]
     },
     "metadata": {},
     "output_type": "display_data"
    }
   ],
   "source": [
    "from sklearn.metrics import confusion_matrix, ConfusionMatrixDisplay\n",
    "\n",
    "cm = confusion_matrix(y_true=df_VADER['sentiment'], y_pred=df_VADER['VADER prediction'], labels=['POSITIVE', 'NEUTRAL', 'NEGATIVE'])\n",
    "\n",
    "disp = ConfusionMatrixDisplay(confusion_matrix=cm, display_labels=['POSITIVE', 'NEUTRAL', 'NEGATIVE'])\n",
    "disp.plot(cmap='Blues')\n"
   ]
  },
  {
   "cell_type": "code",
   "execution_count": 30,
   "id": "793ce99d",
   "metadata": {},
   "outputs": [
    {
     "name": "stdout",
     "output_type": "stream",
     "text": [
      "Accuracy: 0.581369559190463\n",
      "              precision    recall  f1-score   support\n",
      "\n",
      "    NEGATIVE       0.75      0.56      0.64      5940\n",
      "     NEUTRAL       0.69      0.44      0.54      5721\n",
      "    POSITIVE       0.40      0.90      0.55      2767\n",
      "\n",
      "    accuracy                           0.58     14428\n",
      "   macro avg       0.61      0.64      0.58     14428\n",
      "weighted avg       0.66      0.58      0.59     14428\n",
      "\n"
     ]
    }
   ],
   "source": [
    "from sklearn.metrics import accuracy_score, classification_report\n",
    "report = classification_report(df_VADER['sentiment'], df_VADER['VADER prediction'])\n",
    "accuracy = accuracy_score(df_VADER['sentiment'], df_VADER['VADER prediction'])\n",
    "print(f'Accuracy: {accuracy}')\n",
    "print(report)"
   ]
  },
  {
   "cell_type": "markdown",
   "id": "901783da",
   "metadata": {},
   "source": [
    "Based on the confusion matrix and the evaluation metrics, we can see that our performance isn't very good. In order to properly deal with this problem, we need some sort of machine learning."
   ]
  },
  {
   "cell_type": "markdown",
   "id": "aa763bae",
   "metadata": {},
   "source": [
    "**4. Machine learning**"
   ]
  },
  {
   "cell_type": "markdown",
   "id": "b290e479",
   "metadata": {},
   "source": [
    "The second method utilizes machine learning techniques to achieve better predictions."
   ]
  },
  {
   "cell_type": "code",
   "execution_count": 31,
   "id": "f969dcc9",
   "metadata": {},
   "outputs": [],
   "source": [
    "data = df['preprocessed text']\n",
    "labels = df['sentiment']"
   ]
  },
  {
   "cell_type": "code",
   "execution_count": 32,
   "id": "89615257",
   "metadata": {},
   "outputs": [
    {
     "name": "stdout",
     "output_type": "stream",
     "text": [
      "Train size: (10248,)\n",
      "Validation size: (2196,)\n",
      "Test size: (2196,)\n"
     ]
    }
   ],
   "source": [
    "#Logistic regression\n",
    "from sklearn.feature_extraction.text import TfidfVectorizer\n",
    "from sklearn.linear_model import LogisticRegression\n",
    "from sklearn.model_selection import train_test_split\n",
    "\n",
    "#Train-test split\n",
    "X_train, X_temp, y_train, y_temp = train_test_split(data, labels, test_size=0.3, random_state=42, stratify=labels)\n",
    "X_val, X_test, y_val, y_test = train_test_split(X_temp, y_temp, test_size=0.5, random_state=42, stratify=y_temp)\n",
    "print(f\"Train size: {X_train.shape}\")\n",
    "print(f\"Validation size: {X_val.shape}\")\n",
    "print(f\"Test size: {X_test.shape}\")"
   ]
  },
  {
   "cell_type": "code",
   "execution_count": null,
   "id": "5f5f28db",
   "metadata": {},
   "outputs": [],
   "source": [
    "from sklearn.preprocessing import LabelEncoder\n",
    "\n",
    "#Vectorize data into Tf-idf vectors\n",
    "vectorizer = TfidfVectorizer(stop_words='english')\n",
    "X_train = vectorizer.fit_transform(X_train)\n",
    "X_val = vectorizer.transform(X_val)\n",
    "X_test = vectorizer.transform(X_test)\n",
    "\n",
    "#Encode sentiment labels with categorical values\n",
    "encoder = LabelEncoder()\n",
    "y_train = encoder.fit_transform(y_train)\n",
    "y_val = encoder.transform(y_val)\n",
    "y_test = encoder.transform(y_test)\n"
   ]
  },
  {
   "cell_type": "code",
   "execution_count": 34,
   "id": "1e3620cf",
   "metadata": {},
   "outputs": [
    {
     "data": {
      "text/plain": [
       "array(['MIXED', 'NEGATIVE', 'NEUTRAL', 'POSITIVE'], dtype=object)"
      ]
     },
     "execution_count": 34,
     "metadata": {},
     "output_type": "execute_result"
    }
   ],
   "source": [
    "encoder.classes_"
   ]
  },
  {
   "cell_type": "code",
   "execution_count": 35,
   "id": "a870a862",
   "metadata": {},
   "outputs": [
    {
     "name": "stdout",
     "output_type": "stream",
     "text": [
      "              precision    recall  f1-score   support\n",
      "\n",
      "       MIXED       0.00      0.00      0.00        32\n",
      "    NEGATIVE       0.72      0.74      0.73       891\n",
      "     NEUTRAL       0.69      0.74      0.71       858\n",
      "    POSITIVE       0.82      0.72      0.76       415\n",
      "\n",
      "    accuracy                           0.72      2196\n",
      "   macro avg       0.56      0.55      0.55      2196\n",
      "weighted avg       0.72      0.72      0.72      2196\n",
      "\n"
     ]
    },
    {
     "name": "stderr",
     "output_type": "stream",
     "text": [
      "/Users/khoavan/anaconda3/lib/python3.11/site-packages/sklearn/metrics/_classification.py:1469: UndefinedMetricWarning: Precision and F-score are ill-defined and being set to 0.0 in labels with no predicted samples. Use `zero_division` parameter to control this behavior.\n",
      "  _warn_prf(average, modifier, msg_start, len(result))\n",
      "/Users/khoavan/anaconda3/lib/python3.11/site-packages/sklearn/metrics/_classification.py:1469: UndefinedMetricWarning: Precision and F-score are ill-defined and being set to 0.0 in labels with no predicted samples. Use `zero_division` parameter to control this behavior.\n",
      "  _warn_prf(average, modifier, msg_start, len(result))\n",
      "/Users/khoavan/anaconda3/lib/python3.11/site-packages/sklearn/metrics/_classification.py:1469: UndefinedMetricWarning: Precision and F-score are ill-defined and being set to 0.0 in labels with no predicted samples. Use `zero_division` parameter to control this behavior.\n",
      "  _warn_prf(average, modifier, msg_start, len(result))\n"
     ]
    }
   ],
   "source": [
    "#Train using logistic regression\n",
    "lr_clf = LogisticRegression(max_iter=1000)\n",
    "lr_clf.fit(X_train, y_train)\n",
    "y_pred_val = lr_clf.predict(X_val)\n",
    "print(classification_report(y_val, y_pred_val, target_names=list(encoder.classes_)))"
   ]
  },
  {
   "cell_type": "code",
   "execution_count": 36,
   "id": "d7414b47",
   "metadata": {},
   "outputs": [
    {
     "name": "stdout",
     "output_type": "stream",
     "text": [
      "              precision    recall  f1-score   support\n",
      "\n",
      "       MIXED       0.00      0.00      0.00        32\n",
      "    NEGATIVE       0.71      0.75      0.73       891\n",
      "     NEUTRAL       0.69      0.73      0.71       858\n",
      "    POSITIVE       0.85      0.70      0.77       415\n",
      "\n",
      "    accuracy                           0.72      2196\n",
      "   macro avg       0.56      0.55      0.55      2196\n",
      "weighted avg       0.72      0.72      0.72      2196\n",
      "\n"
     ]
    },
    {
     "name": "stderr",
     "output_type": "stream",
     "text": [
      "/Users/khoavan/anaconda3/lib/python3.11/site-packages/sklearn/metrics/_classification.py:1469: UndefinedMetricWarning: Precision and F-score are ill-defined and being set to 0.0 in labels with no predicted samples. Use `zero_division` parameter to control this behavior.\n",
      "  _warn_prf(average, modifier, msg_start, len(result))\n",
      "/Users/khoavan/anaconda3/lib/python3.11/site-packages/sklearn/metrics/_classification.py:1469: UndefinedMetricWarning: Precision and F-score are ill-defined and being set to 0.0 in labels with no predicted samples. Use `zero_division` parameter to control this behavior.\n",
      "  _warn_prf(average, modifier, msg_start, len(result))\n",
      "/Users/khoavan/anaconda3/lib/python3.11/site-packages/sklearn/metrics/_classification.py:1469: UndefinedMetricWarning: Precision and F-score are ill-defined and being set to 0.0 in labels with no predicted samples. Use `zero_division` parameter to control this behavior.\n",
      "  _warn_prf(average, modifier, msg_start, len(result))\n"
     ]
    }
   ],
   "source": [
    "y_pred = lr_clf.predict(X_test)\n",
    "print(classification_report(y_test, y_pred, target_names=list(encoder.classes_)))"
   ]
  },
  {
   "cell_type": "code",
   "execution_count": 37,
   "id": "57a3a44d",
   "metadata": {},
   "outputs": [
    {
     "data": {
      "image/png": "[encoded data removed]",
      "text/plain": [
       "<Figure size 640x480 with 2 Axes>"
      ]
     },
     "metadata": {},
     "output_type": "display_data"
    }
   ],
   "source": [
    "cm = confusion_matrix(y_test, y_pred)\n",
    "sns.heatmap(cm, annot=True, fmt='d', xticklabels=list(encoder.classes_), yticklabels=list(encoder.classes_))\n",
    "plt.xlabel('Predicted')\n",
    "plt.ylabel('True')\n",
    "plt.show()"
   ]
  },
  {
   "cell_type": "markdown",
   "id": "cf9b4845",
   "metadata": {},
   "source": [
    "For negative and neutral labels our logistic regression model has quite good performance, but on the other labels the prediction is very bad, especially for the mixed label."
   ]
  },
  {
   "cell_type": "markdown",
   "id": "43669c14",
   "metadata": {},
   "source": [
    "Let's then try other methods. For instance, random forest."
   ]
  },
  {
   "cell_type": "code",
   "execution_count": 38,
   "id": "e656f1ee",
   "metadata": {},
   "outputs": [
    {
     "name": "stdout",
     "output_type": "stream",
     "text": [
      "              precision    recall  f1-score   support\n",
      "\n",
      "       MIXED       0.00      0.00      0.00        32\n",
      "    NEGATIVE       0.72      0.67      0.70       891\n",
      "     NEUTRAL       0.66      0.73      0.69       858\n",
      "    POSITIVE       0.74      0.75      0.74       415\n",
      "\n",
      "    accuracy                           0.70      2196\n",
      "   macro avg       0.53      0.54      0.53      2196\n",
      "weighted avg       0.69      0.70      0.69      2196\n",
      "\n"
     ]
    },
    {
     "name": "stderr",
     "output_type": "stream",
     "text": [
      "/Users/khoavan/anaconda3/lib/python3.11/site-packages/sklearn/metrics/_classification.py:1469: UndefinedMetricWarning: Precision and F-score are ill-defined and being set to 0.0 in labels with no predicted samples. Use `zero_division` parameter to control this behavior.\n",
      "  _warn_prf(average, modifier, msg_start, len(result))\n",
      "/Users/khoavan/anaconda3/lib/python3.11/site-packages/sklearn/metrics/_classification.py:1469: UndefinedMetricWarning: Precision and F-score are ill-defined and being set to 0.0 in labels with no predicted samples. Use `zero_division` parameter to control this behavior.\n",
      "  _warn_prf(average, modifier, msg_start, len(result))\n",
      "/Users/khoavan/anaconda3/lib/python3.11/site-packages/sklearn/metrics/_classification.py:1469: UndefinedMetricWarning: Precision and F-score are ill-defined and being set to 0.0 in labels with no predicted samples. Use `zero_division` parameter to control this behavior.\n",
      "  _warn_prf(average, modifier, msg_start, len(result))\n"
     ]
    }
   ],
   "source": [
    "from sklearn.ensemble import RandomForestClassifier\n",
    "\n",
    "#Random forest\n",
    "rf_clf = RandomForestClassifier(n_estimators=100, class_weight='balanced', random_state=42)\n",
    "rf_clf.fit(X_train, y_train)\n",
    "\n",
    "#Predict on validation set\n",
    "y_pred_val = rf_clf.predict(X_val)\n",
    "print(classification_report(y_val, y_pred_val, target_names=encoder.classes_))"
   ]
  },
  {
   "cell_type": "markdown",
   "id": "e4d45fed",
   "metadata": {},
   "source": [
    "The accuracy is 70% which is worse than logistic regression. However, we can try tuning hyperparameters."
   ]
  },
  {
   "cell_type": "code",
   "execution_count": 39,
   "id": "ad95eb8a",
   "metadata": {},
   "outputs": [
    {
     "name": "stdout",
     "output_type": "stream",
     "text": [
      "Requirement already satisfied: scikit-optimize in /Users/khoavan/anaconda3/lib/python3.11/site-packages (0.10.2)\n",
      "Requirement already satisfied: joblib>=0.11 in /Users/khoavan/anaconda3/lib/python3.11/site-packages (from scikit-optimize) (1.2.0)\n",
      "Requirement already satisfied: pyaml>=16.9 in /Users/khoavan/anaconda3/lib/python3.11/site-packages (from scikit-optimize) (25.5.0)\n",
      "Requirement already satisfied: numpy>=1.20.3 in /Users/khoavan/anaconda3/lib/python3.11/site-packages (from scikit-optimize) (1.26.4)\n",
      "Requirement already satisfied: scipy>=1.1.0 in /Users/khoavan/anaconda3/lib/python3.11/site-packages (from scikit-optimize) (1.11.1)\n",
      "Requirement already satisfied: scikit-learn>=1.0.0 in /Users/khoavan/anaconda3/lib/python3.11/site-packages (from scikit-optimize) (1.3.0)\n",
      "Requirement already satisfied: packaging>=21.3 in /Users/khoavan/anaconda3/lib/python3.11/site-packages (from scikit-optimize) (24.2)\n",
      "Requirement already satisfied: PyYAML in /Users/khoavan/anaconda3/lib/python3.11/site-packages (from pyaml>=16.9->scikit-optimize) (6.0)\n",
      "Requirement already satisfied: threadpoolctl>=2.0.0 in /Users/khoavan/anaconda3/lib/python3.11/site-packages (from scikit-learn>=1.0.0->scikit-optimize) (3.5.0)\n",
      "Note: you may need to restart the kernel to use updated packages.\n"
     ]
    }
   ],
   "source": [
    "%pip install scikit-optimize\n"
   ]
  },
  {
   "cell_type": "code",
   "execution_count": 40,
   "id": "99ab5f5f",
   "metadata": {},
   "outputs": [],
   "source": [
    "from skopt import gp_minimize\n",
    "from skopt.space import Integer, Categorical\n",
    "from sklearn.metrics import f1_score\n",
    "\n",
    "#Bayesian optimization\n",
    "search_space = [                                    #define search space over parameters\n",
    "    Integer(50, 300, name='n_estimators'),\n",
    "    Integer(5, 30, name='max_depth'),\n",
    "    Integer(2, 20, name='min_samples_split'),\n",
    "    Integer(1, 10, name='min_samples_leaf'),\n",
    "    Categorical(['sqrt', 'log2', None], name='max_features'),\n",
    "]\n",
    "\n",
    "def objective(params):                              #define the objective function\n",
    "    n_estimators, max_depth, min_samples_split, min_samples_leaf, max_features = params\n",
    "    model = RandomForestClassifier(\n",
    "        n_estimators=n_estimators,\n",
    "        max_depth=max_depth,\n",
    "        min_samples_split=min_samples_split,\n",
    "        min_samples_leaf=min_samples_leaf,\n",
    "        max_features=max_features,\n",
    "        class_weight='balanced',\n",
    "        random_state=42,\n",
    "        n_jobs=-1       #Parallel processing\n",
    "    )\n",
    "    model.fit(X_train, y_train)\n",
    "    y_pred_val = model.predict(X_val)\n",
    "    f1 = f1_score(y_val, y_pred_val, average='macro')\n",
    "    return -f1  # minimize negative F1\n"
   ]
  },
  {
   "cell_type": "code",
   "execution_count": 41,
   "id": "ba2a7d20",
   "metadata": {},
   "outputs": [
    {
     "name": "stdout",
     "output_type": "stream",
     "text": [
      "Best hyperparameters:\n",
      "n_estimators: 300\n",
      "max_depth: 25\n",
      "min_samples_split: 20\n",
      "min_samples_leaf: 1\n",
      "max_features: log2\n",
      "Best validation F1 (macro): 0.5552\n"
     ]
    }
   ],
   "source": [
    "#Run search\n",
    "result = gp_minimize(objective, search_space, n_calls=30, random_state=42)\n",
    "print(\"Best hyperparameters:\")\n",
    "print(f\"n_estimators: {result.x[0]}\")\n",
    "print(f\"max_depth: {result.x[1]}\")\n",
    "print(f\"min_samples_split: {result.x[2]}\")\n",
    "print(f\"min_samples_leaf: {result.x[3]}\")\n",
    "print(f\"max_features: {result.x[4]}\")\n",
    "\n",
    "print(f\"Best validation F1 (macro): {-result.fun:.4f}\")"
   ]
  },
  {
   "cell_type": "code",
   "execution_count": 42,
   "id": "e7f8f3eb",
   "metadata": {},
   "outputs": [
    {
     "data": {
      "text/html": [
       "<style>#sk-container-id-1 {color: black;}#sk-container-id-1 pre{padding: 0;}#sk-container-id-1 div.sk-toggleable {background-color: white;}#sk-container-id-1 label.sk-toggleable__label {cursor: pointer;display: block;width: 100%;margin-bottom: 0;padding: 0.3em;box-sizing: border-box;text-align: center;}#sk-container-id-1 label.sk-toggleable__label-arrow:before {content: \"▸\";float: left;margin-right: 0.25em;color: #696969;}#sk-container-id-1 label.sk-toggleable__label-arrow:hover:before {color: black;}#sk-container-id-1 div.sk-estimator:hover label.sk-toggleable__label-arrow:before {color: black;}#sk-container-id-1 div.sk-toggleable__content {max-height: 0;max-width: 0;overflow: hidden;text-align: left;background-color: #f0f8ff;}#sk-container-id-1 div.sk-toggleable__content pre {margin: 0.2em;color: black;border-radius: 0.25em;background-color: #f0f8ff;}#sk-container-id-1 input.sk-toggleable__control:checked~div.sk-toggleable__content {max-height: 200px;max-width: 100%;overflow: auto;}#sk-container-id-1 input.sk-toggleable__control:checked~label.sk-toggleable__label-arrow:before {content: \"▾\";}#sk-container-id-1 div.sk-estimator input.sk-toggleable__control:checked~label.sk-toggleable__label {background-color: #d4ebff;}#sk-container-id-1 div.sk-label input.sk-toggleable__control:checked~label.sk-toggleable__label {background-color: #d4ebff;}#sk-container-id-1 input.sk-hidden--visually {border: 0;clip: rect(1px 1px 1px 1px);clip: rect(1px, 1px, 1px, 1px);height: 1px;margin: -1px;overflow: hidden;padding: 0;position: absolute;width: 1px;}#sk-container-id-1 div.sk-estimator {font-family: monospace;background-color: #f0f8ff;border: 1px dotted black;border-radius: 0.25em;box-sizing: border-box;margin-bottom: 0.5em;}#sk-container-id-1 div.sk-estimator:hover {background-color: #d4ebff;}#sk-container-id-1 div.sk-parallel-item::after {content: \"\";width: 100%;border-bottom: 1px solid gray;flex-grow: 1;}#sk-container-id-1 div.sk-label:hover label.sk-toggleable__label {background-color: #d4ebff;}#sk-container-id-1 div.sk-serial::before {content: \"\";position: absolute;border-left: 1px solid gray;box-sizing: border-box;top: 0;bottom: 0;left: 50%;z-index: 0;}#sk-container-id-1 div.sk-serial {display: flex;flex-direction: column;align-items: center;background-color: white;padding-right: 0.2em;padding-left: 0.2em;position: relative;}#sk-container-id-1 div.sk-item {position: relative;z-index: 1;}#sk-container-id-1 div.sk-parallel {display: flex;align-items: stretch;justify-content: center;background-color: white;position: relative;}#sk-container-id-1 div.sk-item::before, #sk-container-id-1 div.sk-parallel-item::before {content: \"\";position: absolute;border-left: 1px solid gray;box-sizing: border-box;top: 0;bottom: 0;left: 50%;z-index: -1;}#sk-container-id-1 div.sk-parallel-item {display: flex;flex-direction: column;z-index: 1;position: relative;background-color: white;}#sk-container-id-1 div.sk-parallel-item:first-child::after {align-self: flex-end;width: 50%;}#sk-container-id-1 div.sk-parallel-item:last-child::after {align-self: flex-start;width: 50%;}#sk-container-id-1 div.sk-parallel-item:only-child::after {width: 0;}#sk-container-id-1 div.sk-dashed-wrapped {border: 1px dashed gray;margin: 0 0.4em 0.5em 0.4em;box-sizing: border-box;padding-bottom: 0.4em;background-color: white;}#sk-container-id-1 div.sk-label label {font-family: monospace;font-weight: bold;display: inline-block;line-height: 1.2em;}#sk-container-id-1 div.sk-label-container {text-align: center;}#sk-container-id-1 div.sk-container {/* jupyter's `normalize.less` sets `[hidden] { display: none; }` but bootstrap.min.css set `[hidden] { display: none !important; }` so we also need the `!important` here to be able to override the default hidden behavior on the sphinx rendered scikit-learn.org. See: https://github.com/scikit-learn/scikit-learn/issues/21755 */display: inline-block !important;position: relative;}#sk-container-id-1 div.sk-text-repr-fallback {display: none;}</style><div id=\"sk-container-id-1\" class=\"sk-top-container\"><div class=\"sk-text-repr-fallback\"><pre>RandomForestClassifier(class_weight=&#x27;balanced&#x27;, max_depth=25,\n",
       "                       max_features=&#x27;log2&#x27;, min_samples_split=20,\n",
       "                       n_estimators=300, n_jobs=-1, random_state=42)</pre><b>In a Jupyter environment, please rerun this cell to show the HTML representation or trust the notebook. <br />On GitHub, the HTML representation is unable to render, please try loading this page with nbviewer.org.</b></div><div class=\"sk-container\" hidden><div class=\"sk-item\"><div class=\"sk-estimator sk-toggleable\"><input class=\"sk-toggleable__control sk-hidden--visually\" id=\"sk-estimator-id-1\" type=\"checkbox\" checked><label for=\"sk-estimator-id-1\" class=\"sk-toggleable__label sk-toggleable__label-arrow\">RandomForestClassifier</label><div class=\"sk-toggleable__content\"><pre>RandomForestClassifier(class_weight=&#x27;balanced&#x27;, max_depth=25,\n",
       "                       max_features=&#x27;log2&#x27;, min_samples_split=20,\n",
       "                       n_estimators=300, n_jobs=-1, random_state=42)</pre></div></div></div></div></div>"
      ],
      "text/plain": [
       "RandomForestClassifier(class_weight='balanced', max_depth=25,\n",
       "                       max_features='log2', min_samples_split=20,\n",
       "                       n_estimators=300, n_jobs=-1, random_state=42)"
      ]
     },
     "execution_count": 42,
     "metadata": {},
     "output_type": "execute_result"
    }
   ],
   "source": [
    "best_n_estimators = result.x[0]\n",
    "best_max_depth = result.x[1]\n",
    "best_min_samples_split = result.x[2]\n",
    "best_min_samples_leaf = result.x[3]\n",
    "best_max_features = result.x[4]\n",
    "#Best random forest model\n",
    "best_rf = RandomForestClassifier(\n",
    "    n_estimators=best_n_estimators,\n",
    "    max_depth=best_max_depth,\n",
    "    min_samples_split=best_min_samples_split,\n",
    "    min_samples_leaf=best_min_samples_leaf,\n",
    "    max_features=best_max_features,\n",
    "    class_weight='balanced',\n",
    "    random_state=42,\n",
    "    n_jobs=-1\n",
    ")\n",
    "best_rf.fit(X_train, y_train)"
   ]
  },
  {
   "cell_type": "code",
   "execution_count": 43,
   "id": "bf4c82a5",
   "metadata": {},
   "outputs": [
    {
     "name": "stdout",
     "output_type": "stream",
     "text": [
      "              precision    recall  f1-score   support\n",
      "\n",
      "       MIXED       0.11      0.06      0.08        32\n",
      "    NEGATIVE       0.73      0.68      0.70       891\n",
      "     NEUTRAL       0.67      0.69      0.68       858\n",
      "    POSITIVE       0.72      0.80      0.76       415\n",
      "\n",
      "    accuracy                           0.70      2196\n",
      "   macro avg       0.56      0.56      0.56      2196\n",
      "weighted avg       0.70      0.70      0.70      2196\n",
      "\n"
     ]
    }
   ],
   "source": [
    "y_pred_val = best_rf.predict(X_val)\n",
    "print(classification_report(y_val, y_pred_val, target_names=encoder.classes_))"
   ]
  },
  {
   "cell_type": "code",
   "execution_count": 44,
   "id": "f962f478",
   "metadata": {},
   "outputs": [
    {
     "name": "stdout",
     "output_type": "stream",
     "text": [
      "              precision    recall  f1-score   support\n",
      "\n",
      "       MIXED       0.19      0.09      0.12        32\n",
      "    NEGATIVE       0.72      0.71      0.71       891\n",
      "     NEUTRAL       0.68      0.70      0.69       858\n",
      "    POSITIVE       0.75      0.76      0.76       415\n",
      "\n",
      "    accuracy                           0.71      2196\n",
      "   macro avg       0.58      0.57      0.57      2196\n",
      "weighted avg       0.70      0.71      0.70      2196\n",
      "\n"
     ]
    }
   ],
   "source": [
    "y_pred = best_rf.predict(X_test)\n",
    "print(classification_report(y_test, y_pred, target_names=encoder.classes_))"
   ]
  },
  {
   "cell_type": "markdown",
   "id": "104a0374",
   "metadata": {},
   "source": [
    "So we bring the accuracy up by 1%. Meanwhile, the best model also succeeds in predicting mixed label, albeit poorly.\n",
    "Next, we can try support vector machine."
   ]
  },
  {
   "cell_type": "code",
   "execution_count": 45,
   "id": "4f9650a5",
   "metadata": {},
   "outputs": [
    {
     "name": "stdout",
     "output_type": "stream",
     "text": [
      "              precision    recall  f1-score   support\n",
      "\n",
      "       MIXED       0.13      0.12      0.13        32\n",
      "    NEGATIVE       0.74      0.69      0.72       891\n",
      "     NEUTRAL       0.70      0.73      0.71       858\n",
      "    POSITIVE       0.73      0.77      0.75       415\n",
      "\n",
      "    accuracy                           0.71      2196\n",
      "   macro avg       0.58      0.58      0.58      2196\n",
      "weighted avg       0.71      0.71      0.71      2196\n",
      "\n"
     ]
    }
   ],
   "source": [
    "from sklearn.svm import SVC\n",
    "\n",
    "#Support vector machine with linear kernel\n",
    "svm_linear = SVC(kernel='linear', class_weight='balanced', probability=True, random_state=42)\n",
    "svm_linear.fit(X_train, y_train)\n",
    "y_pred_val = svm_linear.predict(X_val)\n",
    "print(classification_report(y_val, y_pred_val, target_names=encoder.classes_))"
   ]
  },
  {
   "cell_type": "markdown",
   "id": "5a42d43f",
   "metadata": {},
   "source": [
    "Right from the start, without any optimization we already achieved positive scores for mixed label."
   ]
  },
  {
   "cell_type": "code",
   "execution_count": 46,
   "id": "c683f308",
   "metadata": {},
   "outputs": [
    {
     "name": "stdout",
     "output_type": "stream",
     "text": [
      "              precision    recall  f1-score   support\n",
      "\n",
      "       MIXED       0.00      0.00      0.00        32\n",
      "    NEGATIVE       0.74      0.69      0.72       891\n",
      "     NEUTRAL       0.67      0.76      0.72       858\n",
      "    POSITIVE       0.77      0.74      0.76       415\n",
      "\n",
      "    accuracy                           0.72      2196\n",
      "   macro avg       0.55      0.55      0.55      2196\n",
      "weighted avg       0.71      0.72      0.71      2196\n",
      "\n"
     ]
    },
    {
     "name": "stderr",
     "output_type": "stream",
     "text": [
      "/Users/khoavan/anaconda3/lib/python3.11/site-packages/sklearn/metrics/_classification.py:1469: UndefinedMetricWarning: Precision and F-score are ill-defined and being set to 0.0 in labels with no predicted samples. Use `zero_division` parameter to control this behavior.\n",
      "  _warn_prf(average, modifier, msg_start, len(result))\n",
      "/Users/khoavan/anaconda3/lib/python3.11/site-packages/sklearn/metrics/_classification.py:1469: UndefinedMetricWarning: Precision and F-score are ill-defined and being set to 0.0 in labels with no predicted samples. Use `zero_division` parameter to control this behavior.\n",
      "  _warn_prf(average, modifier, msg_start, len(result))\n",
      "/Users/khoavan/anaconda3/lib/python3.11/site-packages/sklearn/metrics/_classification.py:1469: UndefinedMetricWarning: Precision and F-score are ill-defined and being set to 0.0 in labels with no predicted samples. Use `zero_division` parameter to control this behavior.\n",
      "  _warn_prf(average, modifier, msg_start, len(result))\n"
     ]
    }
   ],
   "source": [
    "#Support vector machine with RBF kernel\n",
    "svm_rbf = SVC(kernel='rbf', class_weight='balanced', probability=True, random_state=42)\n",
    "svm_rbf.fit(X_train, y_train)\n",
    "y_pred_val = svm_rbf.predict(X_val)\n",
    "print(classification_report(y_val, y_pred_val, target_names=encoder.classes_))"
   ]
  },
  {
   "cell_type": "markdown",
   "id": "35823c2a",
   "metadata": {},
   "source": [
    "The accuracies of both kernels are close, but the RBF kernel fails to score positive metrics on mixed label. We'll perform hyperparameter tuning on the linear kernel."
   ]
  },
  {
   "cell_type": "code",
   "execution_count": 47,
   "id": "5360c1c5",
   "metadata": {},
   "outputs": [
    {
     "name": "stdout",
     "output_type": "stream",
     "text": [
      "Fitting 3 folds for each of 20 candidates, totalling 60 fits\n"
     ]
    },
    {
     "name": "stderr",
     "output_type": "stream",
     "text": [
      "/Users/khoavan/anaconda3/lib/python3.11/site-packages/sklearn/svm/_classes.py:32: FutureWarning: The default value of `dual` will change from `True` to `'auto'` in 1.5. Set the value of `dual` explicitly to suppress the warning.\n",
      "  warnings.warn(\n",
      "/Users/khoavan/anaconda3/lib/python3.11/site-packages/sklearn/svm/_classes.py:32: FutureWarning: The default value of `dual` will change from `True` to `'auto'` in 1.5. Set the value of `dual` explicitly to suppress the warning.\n",
      "  warnings.warn(\n",
      "/Users/khoavan/anaconda3/lib/python3.11/site-packages/sklearn/svm/_classes.py:32: FutureWarning: The default value of `dual` will change from `True` to `'auto'` in 1.5. Set the value of `dual` explicitly to suppress the warning.\n",
      "  warnings.warn(\n",
      "/Users/khoavan/anaconda3/lib/python3.11/site-packages/sklearn/svm/_classes.py:32: FutureWarning: The default value of `dual` will change from `True` to `'auto'` in 1.5. Set the value of `dual` explicitly to suppress the warning.\n",
      "  warnings.warn(\n",
      "/Users/khoavan/anaconda3/lib/python3.11/site-packages/sklearn/svm/_classes.py:32: FutureWarning: The default value of `dual` will change from `True` to `'auto'` in 1.5. Set the value of `dual` explicitly to suppress the warning.\n",
      "  warnings.warn(\n",
      "/Users/khoavan/anaconda3/lib/python3.11/site-packages/sklearn/svm/_classes.py:32: FutureWarning: The default value of `dual` will change from `True` to `'auto'` in 1.5. Set the value of `dual` explicitly to suppress the warning.\n",
      "  warnings.warn(\n",
      "/Users/khoavan/anaconda3/lib/python3.11/site-packages/sklearn/svm/_classes.py:32: FutureWarning: The default value of `dual` will change from `True` to `'auto'` in 1.5. Set the value of `dual` explicitly to suppress the warning.\n",
      "  warnings.warn(\n",
      "/Users/khoavan/anaconda3/lib/python3.11/site-packages/sklearn/svm/_classes.py:32: FutureWarning: The default value of `dual` will change from `True` to `'auto'` in 1.5. Set the value of `dual` explicitly to suppress the warning.\n",
      "  warnings.warn(\n",
      "/Users/khoavan/anaconda3/lib/python3.11/site-packages/sklearn/svm/_classes.py:32: FutureWarning: The default value of `dual` will change from `True` to `'auto'` in 1.5. Set the value of `dual` explicitly to suppress the warning.\n",
      "  warnings.warn(\n",
      "/Users/khoavan/anaconda3/lib/python3.11/site-packages/sklearn/svm/_classes.py:32: FutureWarning: The default value of `dual` will change from `True` to `'auto'` in 1.5. Set the value of `dual` explicitly to suppress the warning.\n",
      "  warnings.warn(\n",
      "/Users/khoavan/anaconda3/lib/python3.11/site-packages/sklearn/svm/_classes.py:32: FutureWarning: The default value of `dual` will change from `True` to `'auto'` in 1.5. Set the value of `dual` explicitly to suppress the warning.\n",
      "  warnings.warn(\n",
      "/Users/khoavan/anaconda3/lib/python3.11/site-packages/sklearn/svm/_classes.py:32: FutureWarning: The default value of `dual` will change from `True` to `'auto'` in 1.5. Set the value of `dual` explicitly to suppress the warning.\n",
      "  warnings.warn(\n",
      "/Users/khoavan/anaconda3/lib/python3.11/site-packages/sklearn/svm/_classes.py:32: FutureWarning: The default value of `dual` will change from `True` to `'auto'` in 1.5. Set the value of `dual` explicitly to suppress the warning.\n",
      "  warnings.warn(\n",
      "/Users/khoavan/anaconda3/lib/python3.11/site-packages/sklearn/svm/_classes.py:32: FutureWarning: The default value of `dual` will change from `True` to `'auto'` in 1.5. Set the value of `dual` explicitly to suppress the warning.\n",
      "  warnings.warn(\n",
      "/Users/khoavan/anaconda3/lib/python3.11/site-packages/sklearn/svm/_classes.py:32: FutureWarning: The default value of `dual` will change from `True` to `'auto'` in 1.5. Set the value of `dual` explicitly to suppress the warning.\n",
      "  warnings.warn(\n",
      "/Users/khoavan/anaconda3/lib/python3.11/site-packages/sklearn/svm/_classes.py:32: FutureWarning: The default value of `dual` will change from `True` to `'auto'` in 1.5. Set the value of `dual` explicitly to suppress the warning.\n",
      "  warnings.warn(\n",
      "/Users/khoavan/anaconda3/lib/python3.11/site-packages/sklearn/svm/_classes.py:32: FutureWarning: The default value of `dual` will change from `True` to `'auto'` in 1.5. Set the value of `dual` explicitly to suppress the warning.\n",
      "  warnings.warn(\n",
      "/Users/khoavan/anaconda3/lib/python3.11/site-packages/sklearn/svm/_classes.py:32: FutureWarning: The default value of `dual` will change from `True` to `'auto'` in 1.5. Set the value of `dual` explicitly to suppress the warning.\n",
      "  warnings.warn(\n",
      "/Users/khoavan/anaconda3/lib/python3.11/site-packages/sklearn/svm/_classes.py:32: FutureWarning: The default value of `dual` will change from `True` to `'auto'` in 1.5. Set the value of `dual` explicitly to suppress the warning.\n",
      "  warnings.warn(\n",
      "/Users/khoavan/anaconda3/lib/python3.11/site-packages/sklearn/svm/_classes.py:32: FutureWarning: The default value of `dual` will change from `True` to `'auto'` in 1.5. Set the value of `dual` explicitly to suppress the warning.\n",
      "  warnings.warn(\n",
      "/Users/khoavan/anaconda3/lib/python3.11/site-packages/sklearn/svm/_classes.py:32: FutureWarning: The default value of `dual` will change from `True` to `'auto'` in 1.5. Set the value of `dual` explicitly to suppress the warning.\n",
      "  warnings.warn(\n",
      "/Users/khoavan/anaconda3/lib/python3.11/site-packages/sklearn/svm/_classes.py:32: FutureWarning: The default value of `dual` will change from `True` to `'auto'` in 1.5. Set the value of `dual` explicitly to suppress the warning.\n",
      "  warnings.warn(\n",
      "/Users/khoavan/anaconda3/lib/python3.11/site-packages/sklearn/svm/_classes.py:32: FutureWarning: The default value of `dual` will change from `True` to `'auto'` in 1.5. Set the value of `dual` explicitly to suppress the warning.\n",
      "  warnings.warn(\n",
      "/Users/khoavan/anaconda3/lib/python3.11/site-packages/sklearn/svm/_classes.py:32: FutureWarning: The default value of `dual` will change from `True` to `'auto'` in 1.5. Set the value of `dual` explicitly to suppress the warning.\n",
      "  warnings.warn(\n",
      "/Users/khoavan/anaconda3/lib/python3.11/site-packages/sklearn/svm/_classes.py:32: FutureWarning: The default value of `dual` will change from `True` to `'auto'` in 1.5. Set the value of `dual` explicitly to suppress the warning.\n",
      "  warnings.warn(\n",
      "/Users/khoavan/anaconda3/lib/python3.11/site-packages/sklearn/svm/_classes.py:32: FutureWarning: The default value of `dual` will change from `True` to `'auto'` in 1.5. Set the value of `dual` explicitly to suppress the warning.\n",
      "  warnings.warn(\n",
      "/Users/khoavan/anaconda3/lib/python3.11/site-packages/sklearn/svm/_classes.py:32: FutureWarning: The default value of `dual` will change from `True` to `'auto'` in 1.5. Set the value of `dual` explicitly to suppress the warning.\n",
      "  warnings.warn(\n",
      "/Users/khoavan/anaconda3/lib/python3.11/site-packages/sklearn/svm/_classes.py:32: FutureWarning: The default value of `dual` will change from `True` to `'auto'` in 1.5. Set the value of `dual` explicitly to suppress the warning.\n",
      "  warnings.warn(\n",
      "/Users/khoavan/anaconda3/lib/python3.11/site-packages/sklearn/svm/_classes.py:32: FutureWarning: The default value of `dual` will change from `True` to `'auto'` in 1.5. Set the value of `dual` explicitly to suppress the warning.\n",
      "  warnings.warn(\n",
      "/Users/khoavan/anaconda3/lib/python3.11/site-packages/sklearn/svm/_classes.py:32: FutureWarning: The default value of `dual` will change from `True` to `'auto'` in 1.5. Set the value of `dual` explicitly to suppress the warning.\n",
      "  warnings.warn(\n",
      "/Users/khoavan/anaconda3/lib/python3.11/site-packages/sklearn/svm/_classes.py:32: FutureWarning: The default value of `dual` will change from `True` to `'auto'` in 1.5. Set the value of `dual` explicitly to suppress the warning.\n",
      "  warnings.warn(\n",
      "/Users/khoavan/anaconda3/lib/python3.11/site-packages/sklearn/svm/_classes.py:32: FutureWarning: The default value of `dual` will change from `True` to `'auto'` in 1.5. Set the value of `dual` explicitly to suppress the warning.\n",
      "  warnings.warn(\n",
      "/Users/khoavan/anaconda3/lib/python3.11/site-packages/sklearn/svm/_classes.py:32: FutureWarning: The default value of `dual` will change from `True` to `'auto'` in 1.5. Set the value of `dual` explicitly to suppress the warning.\n",
      "  warnings.warn(\n",
      "/Users/khoavan/anaconda3/lib/python3.11/site-packages/sklearn/svm/_classes.py:32: FutureWarning: The default value of `dual` will change from `True` to `'auto'` in 1.5. Set the value of `dual` explicitly to suppress the warning.\n",
      "  warnings.warn(\n",
      "/Users/khoavan/anaconda3/lib/python3.11/site-packages/sklearn/svm/_classes.py:32: FutureWarning: The default value of `dual` will change from `True` to `'auto'` in 1.5. Set the value of `dual` explicitly to suppress the warning.\n",
      "  warnings.warn(\n",
      "/Users/khoavan/anaconda3/lib/python3.11/site-packages/sklearn/svm/_classes.py:32: FutureWarning: The default value of `dual` will change from `True` to `'auto'` in 1.5. Set the value of `dual` explicitly to suppress the warning.\n",
      "  warnings.warn(\n",
      "/Users/khoavan/anaconda3/lib/python3.11/site-packages/sklearn/svm/_classes.py:32: FutureWarning: The default value of `dual` will change from `True` to `'auto'` in 1.5. Set the value of `dual` explicitly to suppress the warning.\n",
      "  warnings.warn(\n",
      "/Users/khoavan/anaconda3/lib/python3.11/site-packages/sklearn/svm/_classes.py:32: FutureWarning: The default value of `dual` will change from `True` to `'auto'` in 1.5. Set the value of `dual` explicitly to suppress the warning.\n",
      "  warnings.warn(\n",
      "/Users/khoavan/anaconda3/lib/python3.11/site-packages/sklearn/svm/_classes.py:32: FutureWarning: The default value of `dual` will change from `True` to `'auto'` in 1.5. Set the value of `dual` explicitly to suppress the warning.\n",
      "  warnings.warn(\n"
     ]
    },
    {
     "name": "stdout",
     "output_type": "stream",
     "text": [
      "[CV] END ...........C=0.01, class_weight=None, max_iter=1000; total time=   0.0s\n",
      "[CV] END ...........C=0.01, class_weight=None, max_iter=5000; total time=   0.0s\n",
      "[CV] END ...........C=0.01, class_weight=None, max_iter=5000; total time=   0.0s\n",
      "[CV] END .......C=0.01, class_weight=balanced, max_iter=1000; total time=   0.0s\n",
      "[CV] END ...........C=0.01, class_weight=None, max_iter=1000; total time=   0.0s\n",
      "[CV] END ...........C=0.01, class_weight=None, max_iter=1000; total time=   0.0s\n",
      "[CV] END ...........C=0.01, class_weight=None, max_iter=5000; total time=   0.0s\n",
      "[CV] END .......C=0.01, class_weight=balanced, max_iter=1000; total time=   0.0s\n",
      "[CV] END .......C=0.01, class_weight=balanced, max_iter=1000; total time=   0.0s\n",
      "[CV] END .......C=0.01, class_weight=balanced, max_iter=5000; total time=   0.0s\n",
      "[CV] END .......C=0.01, class_weight=balanced, max_iter=5000; total time=   0.0s\n",
      "[CV] END .......C=0.01, class_weight=balanced, max_iter=5000; total time=   0.0s\n",
      "[CV] END ............C=0.1, class_weight=None, max_iter=1000; total time=   0.0s\n",
      "[CV] END ............C=0.1, class_weight=None, max_iter=5000; total time=   0.0s\n",
      "[CV] END ............C=0.1, class_weight=None, max_iter=1000; total time=   0.0s\n",
      "[CV] END ............C=0.1, class_weight=None, max_iter=5000; total time=   0.0s\n",
      "[CV] END ............C=0.1, class_weight=None, max_iter=1000; total time=   0.0s\n",
      "[CV] END ............C=0.1, class_weight=None, max_iter=5000; total time=   0.0s\n",
      "[CV] END ........C=0.1, class_weight=balanced, max_iter=1000; total time=   0.0s\n",
      "[CV] END ........C=0.1, class_weight=balanced, max_iter=1000; total time=   0.0s\n",
      "[CV] END ........C=0.1, class_weight=balanced, max_iter=1000; total time=   0.0s\n",
      "[CV] END ........C=0.1, class_weight=balanced, max_iter=5000; total time=   0.0s\n",
      "[CV] END ........C=0.1, class_weight=balanced, max_iter=5000; total time=   0.0s\n",
      "[CV] END ........C=0.1, class_weight=balanced, max_iter=5000; total time=   0.0s\n",
      "[CV] END ..............C=1, class_weight=None, max_iter=1000; total time=   0.0s\n",
      "[CV] END ..............C=1, class_weight=None, max_iter=1000; total time=   0.0s\n",
      "[CV] END ..............C=1, class_weight=None, max_iter=1000; total time=   0.1s\n",
      "[CV] END ..............C=1, class_weight=None, max_iter=5000; total time=   0.0s\n",
      "[CV] END ..............C=1, class_weight=None, max_iter=5000; total time=   0.1s\n",
      "[CV] END ..............C=1, class_weight=None, max_iter=5000; total time=   0.1s\n",
      "[CV] END ..........C=1, class_weight=balanced, max_iter=1000; total time=   0.0s\n",
      "[CV] END ..........C=1, class_weight=balanced, max_iter=5000; total time=   0.1s\n",
      "[CV] END ..........C=1, class_weight=balanced, max_iter=1000; total time=   0.1s\n",
      "[CV] END ..........C=1, class_weight=balanced, max_iter=1000; total time=   0.1s\n",
      "[CV] END ..........C=1, class_weight=balanced, max_iter=5000; total time=   0.1s\n",
      "[CV] END ..........C=1, class_weight=balanced, max_iter=5000; total time=   0.1s\n"
     ]
    },
    {
     "name": "stderr",
     "output_type": "stream",
     "text": [
      "/Users/khoavan/anaconda3/lib/python3.11/site-packages/sklearn/svm/_classes.py:32: FutureWarning: The default value of `dual` will change from `True` to `'auto'` in 1.5. Set the value of `dual` explicitly to suppress the warning.\n",
      "  warnings.warn(\n",
      "/Users/khoavan/anaconda3/lib/python3.11/site-packages/sklearn/svm/_classes.py:32: FutureWarning: The default value of `dual` will change from `True` to `'auto'` in 1.5. Set the value of `dual` explicitly to suppress the warning.\n",
      "  warnings.warn(\n",
      "/Users/khoavan/anaconda3/lib/python3.11/site-packages/sklearn/svm/_classes.py:32: FutureWarning: The default value of `dual` will change from `True` to `'auto'` in 1.5. Set the value of `dual` explicitly to suppress the warning.\n",
      "  warnings.warn(\n",
      "/Users/khoavan/anaconda3/lib/python3.11/site-packages/sklearn/svm/_classes.py:32: FutureWarning: The default value of `dual` will change from `True` to `'auto'` in 1.5. Set the value of `dual` explicitly to suppress the warning.\n",
      "  warnings.warn(\n",
      "/Users/khoavan/anaconda3/lib/python3.11/site-packages/sklearn/svm/_classes.py:32: FutureWarning: The default value of `dual` will change from `True` to `'auto'` in 1.5. Set the value of `dual` explicitly to suppress the warning.\n",
      "  warnings.warn(\n"
     ]
    },
    {
     "name": "stdout",
     "output_type": "stream",
     "text": [
      "[CV] END .............C=10, class_weight=None, max_iter=1000; total time=   0.3s\n",
      "[CV] END .............C=10, class_weight=None, max_iter=1000; total time=   0.3s\n",
      "[CV] END .............C=10, class_weight=None, max_iter=5000; total time=   0.2s\n",
      "[CV] END .............C=10, class_weight=None, max_iter=5000; total time=   0.3s\n",
      "[CV] END .............C=10, class_weight=None, max_iter=1000; total time=   0.3s\n",
      "[CV] END .........C=10, class_weight=balanced, max_iter=1000; total time=   0.3s\n",
      "[CV] END .............C=10, class_weight=None, max_iter=5000; total time=   0.3s\n",
      "[CV] END .........C=10, class_weight=balanced, max_iter=1000; total time=   0.3s\n"
     ]
    },
    {
     "name": "stderr",
     "output_type": "stream",
     "text": [
      "/Users/khoavan/anaconda3/lib/python3.11/site-packages/sklearn/svm/_classes.py:32: FutureWarning: The default value of `dual` will change from `True` to `'auto'` in 1.5. Set the value of `dual` explicitly to suppress the warning.\n",
      "  warnings.warn(\n",
      "/Users/khoavan/anaconda3/lib/python3.11/site-packages/sklearn/svm/_classes.py:32: FutureWarning: The default value of `dual` will change from `True` to `'auto'` in 1.5. Set the value of `dual` explicitly to suppress the warning.\n",
      "  warnings.warn(\n",
      "/Users/khoavan/anaconda3/lib/python3.11/site-packages/sklearn/svm/_classes.py:32: FutureWarning: The default value of `dual` will change from `True` to `'auto'` in 1.5. Set the value of `dual` explicitly to suppress the warning.\n",
      "  warnings.warn(\n",
      "/Users/khoavan/anaconda3/lib/python3.11/site-packages/sklearn/svm/_classes.py:32: FutureWarning: The default value of `dual` will change from `True` to `'auto'` in 1.5. Set the value of `dual` explicitly to suppress the warning.\n",
      "  warnings.warn(\n",
      "/Users/khoavan/anaconda3/lib/python3.11/site-packages/sklearn/svm/_classes.py:32: FutureWarning: The default value of `dual` will change from `True` to `'auto'` in 1.5. Set the value of `dual` explicitly to suppress the warning.\n",
      "  warnings.warn(\n",
      "/Users/khoavan/anaconda3/lib/python3.11/site-packages/sklearn/svm/_classes.py:32: FutureWarning: The default value of `dual` will change from `True` to `'auto'` in 1.5. Set the value of `dual` explicitly to suppress the warning.\n",
      "  warnings.warn(\n",
      "/Users/khoavan/anaconda3/lib/python3.11/site-packages/sklearn/svm/_classes.py:32: FutureWarning: The default value of `dual` will change from `True` to `'auto'` in 1.5. Set the value of `dual` explicitly to suppress the warning.\n",
      "  warnings.warn(\n",
      "/Users/khoavan/anaconda3/lib/python3.11/site-packages/sklearn/svm/_base.py:1242: ConvergenceWarning: Liblinear failed to converge, increase the number of iterations.\n",
      "  warnings.warn(\n",
      "/Users/khoavan/anaconda3/lib/python3.11/site-packages/sklearn/svm/_classes.py:32: FutureWarning: The default value of `dual` will change from `True` to `'auto'` in 1.5. Set the value of `dual` explicitly to suppress the warning.\n",
      "  warnings.warn(\n"
     ]
    },
    {
     "name": "stdout",
     "output_type": "stream",
     "text": [
      "[CV] END .........C=10, class_weight=balanced, max_iter=5000; total time=   0.2s\n",
      "[CV] END .........C=10, class_weight=balanced, max_iter=1000; total time=   0.4s\n"
     ]
    },
    {
     "name": "stderr",
     "output_type": "stream",
     "text": [
      "/Users/khoavan/anaconda3/lib/python3.11/site-packages/sklearn/svm/_classes.py:32: FutureWarning: The default value of `dual` will change from `True` to `'auto'` in 1.5. Set the value of `dual` explicitly to suppress the warning.\n",
      "  warnings.warn(\n",
      "/Users/khoavan/anaconda3/lib/python3.11/site-packages/sklearn/svm/_base.py:1242: ConvergenceWarning: Liblinear failed to converge, increase the number of iterations.\n",
      "  warnings.warn(\n",
      "/Users/khoavan/anaconda3/lib/python3.11/site-packages/sklearn/svm/_classes.py:32: FutureWarning: The default value of `dual` will change from `True` to `'auto'` in 1.5. Set the value of `dual` explicitly to suppress the warning.\n",
      "  warnings.warn(\n"
     ]
    },
    {
     "name": "stdout",
     "output_type": "stream",
     "text": [
      "[CV] END .........C=10, class_weight=balanced, max_iter=5000; total time=   0.5s\n",
      "[CV] END .........C=10, class_weight=balanced, max_iter=5000; total time=   0.5s\n",
      "[CV] END ............C=100, class_weight=None, max_iter=1000; total time=   0.6s\n",
      "[CV] END ............C=100, class_weight=None, max_iter=1000; total time=   0.6s\n",
      "[CV] END ............C=100, class_weight=None, max_iter=1000; total time=   0.6s\n"
     ]
    },
    {
     "name": "stderr",
     "output_type": "stream",
     "text": [
      "/Users/khoavan/anaconda3/lib/python3.11/site-packages/sklearn/svm/_classes.py:32: FutureWarning: The default value of `dual` will change from `True` to `'auto'` in 1.5. Set the value of `dual` explicitly to suppress the warning.\n",
      "  warnings.warn(\n",
      "/Users/khoavan/anaconda3/lib/python3.11/site-packages/sklearn/svm/_classes.py:32: FutureWarning: The default value of `dual` will change from `True` to `'auto'` in 1.5. Set the value of `dual` explicitly to suppress the warning.\n",
      "  warnings.warn(\n",
      "/Users/khoavan/anaconda3/lib/python3.11/site-packages/sklearn/svm/_base.py:1242: ConvergenceWarning: Liblinear failed to converge, increase the number of iterations.\n",
      "  warnings.warn(\n",
      "/Users/khoavan/anaconda3/lib/python3.11/site-packages/sklearn/svm/_classes.py:32: FutureWarning: The default value of `dual` will change from `True` to `'auto'` in 1.5. Set the value of `dual` explicitly to suppress the warning.\n",
      "  warnings.warn(\n",
      "/Users/khoavan/anaconda3/lib/python3.11/site-packages/sklearn/svm/_base.py:1242: ConvergenceWarning: Liblinear failed to converge, increase the number of iterations.\n",
      "  warnings.warn(\n",
      "/Users/khoavan/anaconda3/lib/python3.11/site-packages/sklearn/svm/_classes.py:32: FutureWarning: The default value of `dual` will change from `True` to `'auto'` in 1.5. Set the value of `dual` explicitly to suppress the warning.\n",
      "  warnings.warn(\n",
      "/Users/khoavan/anaconda3/lib/python3.11/site-packages/sklearn/svm/_base.py:1242: ConvergenceWarning: Liblinear failed to converge, increase the number of iterations.\n",
      "  warnings.warn(\n",
      "/Users/khoavan/anaconda3/lib/python3.11/site-packages/sklearn/svm/_classes.py:32: FutureWarning: The default value of `dual` will change from `True` to `'auto'` in 1.5. Set the value of `dual` explicitly to suppress the warning.\n",
      "  warnings.warn(\n",
      "/Users/khoavan/anaconda3/lib/python3.11/site-packages/sklearn/svm/_base.py:1242: ConvergenceWarning: Liblinear failed to converge, increase the number of iterations.\n",
      "  warnings.warn(\n",
      "/Users/khoavan/anaconda3/lib/python3.11/site-packages/sklearn/svm/_base.py:1242: ConvergenceWarning: Liblinear failed to converge, increase the number of iterations.\n",
      "  warnings.warn(\n",
      "/Users/khoavan/anaconda3/lib/python3.11/site-packages/sklearn/svm/_classes.py:32: FutureWarning: The default value of `dual` will change from `True` to `'auto'` in 1.5. Set the value of `dual` explicitly to suppress the warning.\n",
      "  warnings.warn(\n",
      "/Users/khoavan/anaconda3/lib/python3.11/site-packages/sklearn/svm/_base.py:1242: ConvergenceWarning: Liblinear failed to converge, increase the number of iterations.\n",
      "  warnings.warn(\n"
     ]
    },
    {
     "name": "stdout",
     "output_type": "stream",
     "text": [
      "[CV] END ........C=100, class_weight=balanced, max_iter=1000; total time=   0.5s\n",
      "[CV] END ........C=100, class_weight=balanced, max_iter=1000; total time=   0.6s\n",
      "[CV] END ........C=100, class_weight=balanced, max_iter=1000; total time=   0.6s\n"
     ]
    },
    {
     "name": "stderr",
     "output_type": "stream",
     "text": [
      "/Users/khoavan/anaconda3/lib/python3.11/site-packages/sklearn/svm/_base.py:1242: ConvergenceWarning: Liblinear failed to converge, increase the number of iterations.\n",
      "  warnings.warn(\n",
      "/Users/khoavan/anaconda3/lib/python3.11/site-packages/sklearn/svm/_base.py:1242: ConvergenceWarning: Liblinear failed to converge, increase the number of iterations.\n",
      "  warnings.warn(\n"
     ]
    },
    {
     "name": "stdout",
     "output_type": "stream",
     "text": [
      "[CV] END ............C=100, class_weight=None, max_iter=5000; total time=   2.0s\n",
      "[CV] END ............C=100, class_weight=None, max_iter=5000; total time=   2.2s\n"
     ]
    },
    {
     "name": "stderr",
     "output_type": "stream",
     "text": [
      "/Users/khoavan/anaconda3/lib/python3.11/site-packages/sklearn/svm/_base.py:1242: ConvergenceWarning: Liblinear failed to converge, increase the number of iterations.\n",
      "  warnings.warn(\n",
      "/Users/khoavan/anaconda3/lib/python3.11/site-packages/sklearn/svm/_base.py:1242: ConvergenceWarning: Liblinear failed to converge, increase the number of iterations.\n",
      "  warnings.warn(\n"
     ]
    },
    {
     "name": "stdout",
     "output_type": "stream",
     "text": [
      "[CV] END ............C=100, class_weight=None, max_iter=5000; total time=   2.1s\n",
      "[CV] END ........C=100, class_weight=balanced, max_iter=5000; total time=   1.9s\n"
     ]
    },
    {
     "name": "stderr",
     "output_type": "stream",
     "text": [
      "/Users/khoavan/anaconda3/lib/python3.11/site-packages/sklearn/svm/_base.py:1242: ConvergenceWarning: Liblinear failed to converge, increase the number of iterations.\n",
      "  warnings.warn(\n"
     ]
    },
    {
     "name": "stdout",
     "output_type": "stream",
     "text": [
      "[CV] END ........C=100, class_weight=balanced, max_iter=5000; total time=   2.2s\n",
      "[CV] END ........C=100, class_weight=balanced, max_iter=5000; total time=   2.0s\n",
      "Best hyperparameters: {'C': 1, 'class_weight': 'balanced', 'max_iter': 1000}\n",
      "Best CV F1 macro score: 0.5434927251983231\n"
     ]
    },
    {
     "name": "stderr",
     "output_type": "stream",
     "text": [
      "/Users/khoavan/anaconda3/lib/python3.11/site-packages/sklearn/svm/_base.py:1242: ConvergenceWarning: Liblinear failed to converge, increase the number of iterations.\n",
      "  warnings.warn(\n",
      "/Users/khoavan/anaconda3/lib/python3.11/site-packages/sklearn/svm/_classes.py:32: FutureWarning: The default value of `dual` will change from `True` to `'auto'` in 1.5. Set the value of `dual` explicitly to suppress the warning.\n",
      "  warnings.warn(\n"
     ]
    }
   ],
   "source": [
    "from sklearn.model_selection import GridSearchCV\n",
    "from sklearn.svm import LinearSVC\n",
    "\n",
    "#Tune hyperparameters with grid search\n",
    "param_grid = {\n",
    "    'C': [0.01, 0.1, 1, 10, 100],\n",
    "    'class_weight': [None, 'balanced'],\n",
    "    'max_iter': [1000, 5000]\n",
    "}\n",
    "\n",
    "svm = LinearSVC(random_state=42)\n",
    "grid_search = GridSearchCV(svm, param_grid, cv=3, scoring='f1_macro', n_jobs=-1, verbose=2)\n",
    "grid_search.fit(X_train, y_train)\n",
    "print(\"Best hyperparameters:\", grid_search.best_params_)\n",
    "print(\"Best CV F1 macro score:\", grid_search.best_score_)\n"
   ]
  },
  {
   "cell_type": "code",
   "execution_count": 48,
   "id": "484b7a53",
   "metadata": {},
   "outputs": [
    {
     "name": "stdout",
     "output_type": "stream",
     "text": [
      "              precision    recall  f1-score   support\n",
      "\n",
      "       MIXED       0.19      0.16      0.17        32\n",
      "    NEGATIVE       0.73      0.69      0.71       891\n",
      "     NEUTRAL       0.69      0.71      0.70       858\n",
      "    POSITIVE       0.74      0.79      0.76       415\n",
      "\n",
      "    accuracy                           0.71      2196\n",
      "   macro avg       0.59      0.59      0.59      2196\n",
      "weighted avg       0.71      0.71      0.71      2196\n",
      "\n"
     ]
    }
   ],
   "source": [
    "best_model = grid_search.best_estimator_\n",
    "y_pred_val = best_model.predict(X_val)\n",
    "print(classification_report(y_val, y_pred_val, target_names=encoder.classes_))"
   ]
  },
  {
   "cell_type": "code",
   "execution_count": 49,
   "id": "24ff7383",
   "metadata": {},
   "outputs": [
    {
     "name": "stderr",
     "output_type": "stream",
     "text": [
      "/Users/khoavan/anaconda3/lib/python3.11/site-packages/sklearn/svm/_classes.py:32: FutureWarning: The default value of `dual` will change from `True` to `'auto'` in 1.5. Set the value of `dual` explicitly to suppress the warning.\n",
      "  warnings.warn(\n"
     ]
    },
    {
     "data": {
      "text/html": [
       "<style>#sk-container-id-2 {color: black;}#sk-container-id-2 pre{padding: 0;}#sk-container-id-2 div.sk-toggleable {background-color: white;}#sk-container-id-2 label.sk-toggleable__label {cursor: pointer;display: block;width: 100%;margin-bottom: 0;padding: 0.3em;box-sizing: border-box;text-align: center;}#sk-container-id-2 label.sk-toggleable__label-arrow:before {content: \"▸\";float: left;margin-right: 0.25em;color: #696969;}#sk-container-id-2 label.sk-toggleable__label-arrow:hover:before {color: black;}#sk-container-id-2 div.sk-estimator:hover label.sk-toggleable__label-arrow:before {color: black;}#sk-container-id-2 div.sk-toggleable__content {max-height: 0;max-width: 0;overflow: hidden;text-align: left;background-color: #f0f8ff;}#sk-container-id-2 div.sk-toggleable__content pre {margin: 0.2em;color: black;border-radius: 0.25em;background-color: #f0f8ff;}#sk-container-id-2 input.sk-toggleable__control:checked~div.sk-toggleable__content {max-height: 200px;max-width: 100%;overflow: auto;}#sk-container-id-2 input.sk-toggleable__control:checked~label.sk-toggleable__label-arrow:before {content: \"▾\";}#sk-container-id-2 div.sk-estimator input.sk-toggleable__control:checked~label.sk-toggleable__label {background-color: #d4ebff;}#sk-container-id-2 div.sk-label input.sk-toggleable__control:checked~label.sk-toggleable__label {background-color: #d4ebff;}#sk-container-id-2 input.sk-hidden--visually {border: 0;clip: rect(1px 1px 1px 1px);clip: rect(1px, 1px, 1px, 1px);height: 1px;margin: -1px;overflow: hidden;padding: 0;position: absolute;width: 1px;}#sk-container-id-2 div.sk-estimator {font-family: monospace;background-color: #f0f8ff;border: 1px dotted black;border-radius: 0.25em;box-sizing: border-box;margin-bottom: 0.5em;}#sk-container-id-2 div.sk-estimator:hover {background-color: #d4ebff;}#sk-container-id-2 div.sk-parallel-item::after {content: \"\";width: 100%;border-bottom: 1px solid gray;flex-grow: 1;}#sk-container-id-2 div.sk-label:hover label.sk-toggleable__label {background-color: #d4ebff;}#sk-container-id-2 div.sk-serial::before {content: \"\";position: absolute;border-left: 1px solid gray;box-sizing: border-box;top: 0;bottom: 0;left: 50%;z-index: 0;}#sk-container-id-2 div.sk-serial {display: flex;flex-direction: column;align-items: center;background-color: white;padding-right: 0.2em;padding-left: 0.2em;position: relative;}#sk-container-id-2 div.sk-item {position: relative;z-index: 1;}#sk-container-id-2 div.sk-parallel {display: flex;align-items: stretch;justify-content: center;background-color: white;position: relative;}#sk-container-id-2 div.sk-item::before, #sk-container-id-2 div.sk-parallel-item::before {content: \"\";position: absolute;border-left: 1px solid gray;box-sizing: border-box;top: 0;bottom: 0;left: 50%;z-index: -1;}#sk-container-id-2 div.sk-parallel-item {display: flex;flex-direction: column;z-index: 1;position: relative;background-color: white;}#sk-container-id-2 div.sk-parallel-item:first-child::after {align-self: flex-end;width: 50%;}#sk-container-id-2 div.sk-parallel-item:last-child::after {align-self: flex-start;width: 50%;}#sk-container-id-2 div.sk-parallel-item:only-child::after {width: 0;}#sk-container-id-2 div.sk-dashed-wrapped {border: 1px dashed gray;margin: 0 0.4em 0.5em 0.4em;box-sizing: border-box;padding-bottom: 0.4em;background-color: white;}#sk-container-id-2 div.sk-label label {font-family: monospace;font-weight: bold;display: inline-block;line-height: 1.2em;}#sk-container-id-2 div.sk-label-container {text-align: center;}#sk-container-id-2 div.sk-container {/* jupyter's `normalize.less` sets `[hidden] { display: none; }` but bootstrap.min.css set `[hidden] { display: none !important; }` so we also need the `!important` here to be able to override the default hidden behavior on the sphinx rendered scikit-learn.org. See: https://github.com/scikit-learn/scikit-learn/issues/21755 */display: inline-block !important;position: relative;}#sk-container-id-2 div.sk-text-repr-fallback {display: none;}</style><div id=\"sk-container-id-2\" class=\"sk-top-container\"><div class=\"sk-text-repr-fallback\"><pre>LinearSVC(C=1, class_weight=&#x27;balanced&#x27;, random_state=42)</pre><b>In a Jupyter environment, please rerun this cell to show the HTML representation or trust the notebook. <br />On GitHub, the HTML representation is unable to render, please try loading this page with nbviewer.org.</b></div><div class=\"sk-container\" hidden><div class=\"sk-item\"><div class=\"sk-estimator sk-toggleable\"><input class=\"sk-toggleable__control sk-hidden--visually\" id=\"sk-estimator-id-2\" type=\"checkbox\" checked><label for=\"sk-estimator-id-2\" class=\"sk-toggleable__label sk-toggleable__label-arrow\">LinearSVC</label><div class=\"sk-toggleable__content\"><pre>LinearSVC(C=1, class_weight=&#x27;balanced&#x27;, random_state=42)</pre></div></div></div></div></div>"
      ],
      "text/plain": [
       "LinearSVC(C=1, class_weight='balanced', random_state=42)"
      ]
     },
     "execution_count": 49,
     "metadata": {},
     "output_type": "execute_result"
    }
   ],
   "source": [
    "from scipy.sparse import vstack\n",
    "\n",
    "X_train_val = vstack([X_train, X_val])\n",
    "y_train_val = list(y_train) + list(y_val)\n",
    "best_model.fit(X_train_val, y_train_val)        #Retrain using best model"
   ]
  },
  {
   "cell_type": "code",
   "execution_count": 50,
   "id": "72d75adb",
   "metadata": {},
   "outputs": [
    {
     "name": "stdout",
     "output_type": "stream",
     "text": [
      "              precision    recall  f1-score   support\n",
      "\n",
      "       MIXED       0.09      0.06      0.07        32\n",
      "    NEGATIVE       0.74      0.74      0.74       891\n",
      "     NEUTRAL       0.73      0.72      0.72       858\n",
      "    POSITIVE       0.77      0.81      0.79       415\n",
      "\n",
      "    accuracy                           0.73      2196\n",
      "   macro avg       0.58      0.58      0.58      2196\n",
      "weighted avg       0.73      0.73      0.73      2196\n",
      "\n"
     ]
    }
   ],
   "source": [
    "y_pred = best_model.predict(X_test)\n",
    "print(classification_report(y_test, y_pred, target_names=encoder.classes_))"
   ]
  },
  {
   "cell_type": "markdown",
   "id": "8686ad1d",
   "metadata": {},
   "source": [
    "Overall, the metrics on major labels improve, and accuracy is better, but at the expense of the mixed label."
   ]
  },
  {
   "cell_type": "markdown",
   "id": "2de3c245",
   "metadata": {},
   "source": [
    "Let's try embedding using sentence_transformer, which might better embed the meanings of words."
   ]
  },
  {
   "cell_type": "code",
   "execution_count": 51,
   "id": "de39c237",
   "metadata": {},
   "outputs": [],
   "source": [
    "from sentence_transformers import SentenceTransformer\n",
    "\n",
    "class EmbeddingGenerator:\n",
    "    def __init__(self, model_name: str = 'all-MiniLM-L6-v2'):\n",
    "        print(f\"Loading embedding model: {model_name}\")\n",
    "        self.model = SentenceTransformer(model_name)\n",
    "\n",
    "    def encode_texts(self, texts, batch_size: int = 32) -> np.ndarray:\n",
    "        \"\"\"\n",
    "        Encode a list of texts into sentence embeddings.\n",
    "\n",
    "        Parameters:\n",
    "        - texts: list-like (list of strings or pd.Series)\n",
    "        - batch_size: batch size for encoding\n",
    "\n",
    "        Returns:\n",
    "        - numpy array of shape (n_samples, embedding_dim)\n",
    "        \"\"\"\n",
    "        # Convert pandas Series to list if needed\n",
    "        if isinstance(texts, pd.Series):\n",
    "            texts = texts.tolist()\n",
    "            \n",
    "        embeddings = self.model.encode(\n",
    "            texts, \n",
    "            show_progress_bar=True, \n",
    "            batch_size=batch_size\n",
    "        )\n",
    "        return np.array(embeddings)"
   ]
  },
  {
   "cell_type": "code",
   "execution_count": 56,
   "id": "e277e17e",
   "metadata": {},
   "outputs": [
    {
     "name": "stdout",
     "output_type": "stream",
     "text": [
      "Loading embedding model: all-MiniLM-L6-v2\n"
     ]
    },
    {
     "data": {
      "application/vnd.jupyter.widget-view+json": {
       "model_id": "f04da2c351934a9ab3293683a5c3e974",
       "version_major": 2,
       "version_minor": 0
      },
      "text/plain": [
       "Batches:   0%|          | 0/1830 [00:00<?, ?it/s]"
      ]
     },
     "metadata": {},
     "output_type": "display_data"
    }
   ],
   "source": [
    "# Embed\n",
    "embedder = EmbeddingGenerator()\n",
    "X = embedder.encode_texts(df['text'], batch_size=8)\n",
    "\n",
    "# Encode sentiment labels\n",
    "encoder = LabelEncoder()\n",
    "y = encoder.fit_transform(df['sentiment'])\n",
    "\n",
    "# Train-test split\n",
    "X_train, X_temp, y_train, y_temp = train_test_split(X, y, test_size=0.3, random_state=42, stratify=y)\n",
    "X_val, X_test, y_val, y_test = train_test_split(X_temp, y_temp, test_size=0.5, random_state=42, stratify=y_temp)"
   ]
  },
  {
   "cell_type": "markdown",
   "id": "8b644c97",
   "metadata": {},
   "source": [
    "Now we try all these models again."
   ]
  },
  {
   "cell_type": "code",
   "execution_count": 57,
   "id": "1190c2f4",
   "metadata": {},
   "outputs": [
    {
     "name": "stdout",
     "output_type": "stream",
     "text": [
      "              precision    recall  f1-score   support\n",
      "\n",
      "       MIXED       0.00      0.00      0.00        32\n",
      "    NEGATIVE       0.77      0.83      0.80       891\n",
      "     NEUTRAL       0.74      0.77      0.76       858\n",
      "    POSITIVE       0.86      0.74      0.80       415\n",
      "\n",
      "    accuracy                           0.78      2196\n",
      "   macro avg       0.59      0.58      0.59      2196\n",
      "weighted avg       0.77      0.78      0.77      2196\n",
      "\n"
     ]
    },
    {
     "name": "stderr",
     "output_type": "stream",
     "text": [
      "/Users/khoavan/anaconda3/lib/python3.11/site-packages/sklearn/metrics/_classification.py:1469: UndefinedMetricWarning: Precision and F-score are ill-defined and being set to 0.0 in labels with no predicted samples. Use `zero_division` parameter to control this behavior.\n",
      "  _warn_prf(average, modifier, msg_start, len(result))\n",
      "/Users/khoavan/anaconda3/lib/python3.11/site-packages/sklearn/metrics/_classification.py:1469: UndefinedMetricWarning: Precision and F-score are ill-defined and being set to 0.0 in labels with no predicted samples. Use `zero_division` parameter to control this behavior.\n",
      "  _warn_prf(average, modifier, msg_start, len(result))\n",
      "/Users/khoavan/anaconda3/lib/python3.11/site-packages/sklearn/metrics/_classification.py:1469: UndefinedMetricWarning: Precision and F-score are ill-defined and being set to 0.0 in labels with no predicted samples. Use `zero_division` parameter to control this behavior.\n",
      "  _warn_prf(average, modifier, msg_start, len(result))\n"
     ]
    }
   ],
   "source": [
    "# Train using logistic regression\n",
    "lr_clf = LogisticRegression(max_iter=1000)\n",
    "lr_clf.fit(X_train, y_train)\n",
    "y_pred = lr_clf.predict(X_test)\n",
    "print(classification_report(y_test, y_pred, target_names=list(encoder.classes_)))"
   ]
  },
  {
   "cell_type": "code",
   "execution_count": 59,
   "id": "39145a1d",
   "metadata": {},
   "outputs": [
    {
     "name": "stdout",
     "output_type": "stream",
     "text": [
      "              precision    recall  f1-score   support\n",
      "\n",
      "       MIXED       0.19      0.16      0.17        32\n",
      "    NEGATIVE       0.73      0.69      0.71       891\n",
      "     NEUTRAL       0.69      0.71      0.70       858\n",
      "    POSITIVE       0.74      0.79      0.76       415\n",
      "\n",
      "    accuracy                           0.71      2196\n",
      "   macro avg       0.59      0.59      0.59      2196\n",
      "weighted avg       0.71      0.71      0.71      2196\n",
      "\n"
     ]
    }
   ],
   "source": [
    "#Random forest\n",
    "rf_clf = RandomForestClassifier(n_estimators=100, class_weight='balanced', random_state=42)\n",
    "rf_clf.fit(X_train, y_train)\n",
    "\n",
    "#Predict on validation set\n",
    "y_pred = rf_clf.predict(X_val)\n",
    "print(classification_report(y_val, y_pred_val, target_names=encoder.classes_))"
   ]
  },
  {
   "cell_type": "code",
   "execution_count": 60,
   "id": "5a137c30",
   "metadata": {},
   "outputs": [
    {
     "name": "stdout",
     "output_type": "stream",
     "text": [
      "Best hyperparameters:\n",
      "n_estimators: 239\n",
      "max_depth: 16\n",
      "min_samples_split: 6\n",
      "min_samples_leaf: 6\n",
      "max_features: sqrt\n",
      "Best validation F1 (macro): 0.5462\n"
     ]
    }
   ],
   "source": [
    "# Bayesian optimization\n",
    "result = gp_minimize(objective, search_space, n_calls=30, random_state=42)\n",
    "print(\"Best hyperparameters:\")\n",
    "print(f\"n_estimators: {result.x[0]}\")\n",
    "print(f\"max_depth: {result.x[1]}\")\n",
    "print(f\"min_samples_split: {result.x[2]}\")\n",
    "print(f\"min_samples_leaf: {result.x[3]}\")\n",
    "print(f\"max_features: {result.x[4]}\")\n",
    "\n",
    "print(f\"Best validation F1 (macro): {-result.fun:.4f}\")"
   ]
  },
  {
   "cell_type": "code",
   "execution_count": 61,
   "id": "15af5eab",
   "metadata": {},
   "outputs": [
    {
     "data": {
      "text/html": [
       "<style>#sk-container-id-3 {color: black;}#sk-container-id-3 pre{padding: 0;}#sk-container-id-3 div.sk-toggleable {background-color: white;}#sk-container-id-3 label.sk-toggleable__label {cursor: pointer;display: block;width: 100%;margin-bottom: 0;padding: 0.3em;box-sizing: border-box;text-align: center;}#sk-container-id-3 label.sk-toggleable__label-arrow:before {content: \"▸\";float: left;margin-right: 0.25em;color: #696969;}#sk-container-id-3 label.sk-toggleable__label-arrow:hover:before {color: black;}#sk-container-id-3 div.sk-estimator:hover label.sk-toggleable__label-arrow:before {color: black;}#sk-container-id-3 div.sk-toggleable__content {max-height: 0;max-width: 0;overflow: hidden;text-align: left;background-color: #f0f8ff;}#sk-container-id-3 div.sk-toggleable__content pre {margin: 0.2em;color: black;border-radius: 0.25em;background-color: #f0f8ff;}#sk-container-id-3 input.sk-toggleable__control:checked~div.sk-toggleable__content {max-height: 200px;max-width: 100%;overflow: auto;}#sk-container-id-3 input.sk-toggleable__control:checked~label.sk-toggleable__label-arrow:before {content: \"▾\";}#sk-container-id-3 div.sk-estimator input.sk-toggleable__control:checked~label.sk-toggleable__label {background-color: #d4ebff;}#sk-container-id-3 div.sk-label input.sk-toggleable__control:checked~label.sk-toggleable__label {background-color: #d4ebff;}#sk-container-id-3 input.sk-hidden--visually {border: 0;clip: rect(1px 1px 1px 1px);clip: rect(1px, 1px, 1px, 1px);height: 1px;margin: -1px;overflow: hidden;padding: 0;position: absolute;width: 1px;}#sk-container-id-3 div.sk-estimator {font-family: monospace;background-color: #f0f8ff;border: 1px dotted black;border-radius: 0.25em;box-sizing: border-box;margin-bottom: 0.5em;}#sk-container-id-3 div.sk-estimator:hover {background-color: #d4ebff;}#sk-container-id-3 div.sk-parallel-item::after {content: \"\";width: 100%;border-bottom: 1px solid gray;flex-grow: 1;}#sk-container-id-3 div.sk-label:hover label.sk-toggleable__label {background-color: #d4ebff;}#sk-container-id-3 div.sk-serial::before {content: \"\";position: absolute;border-left: 1px solid gray;box-sizing: border-box;top: 0;bottom: 0;left: 50%;z-index: 0;}#sk-container-id-3 div.sk-serial {display: flex;flex-direction: column;align-items: center;background-color: white;padding-right: 0.2em;padding-left: 0.2em;position: relative;}#sk-container-id-3 div.sk-item {position: relative;z-index: 1;}#sk-container-id-3 div.sk-parallel {display: flex;align-items: stretch;justify-content: center;background-color: white;position: relative;}#sk-container-id-3 div.sk-item::before, #sk-container-id-3 div.sk-parallel-item::before {content: \"\";position: absolute;border-left: 1px solid gray;box-sizing: border-box;top: 0;bottom: 0;left: 50%;z-index: -1;}#sk-container-id-3 div.sk-parallel-item {display: flex;flex-direction: column;z-index: 1;position: relative;background-color: white;}#sk-container-id-3 div.sk-parallel-item:first-child::after {align-self: flex-end;width: 50%;}#sk-container-id-3 div.sk-parallel-item:last-child::after {align-self: flex-start;width: 50%;}#sk-container-id-3 div.sk-parallel-item:only-child::after {width: 0;}#sk-container-id-3 div.sk-dashed-wrapped {border: 1px dashed gray;margin: 0 0.4em 0.5em 0.4em;box-sizing: border-box;padding-bottom: 0.4em;background-color: white;}#sk-container-id-3 div.sk-label label {font-family: monospace;font-weight: bold;display: inline-block;line-height: 1.2em;}#sk-container-id-3 div.sk-label-container {text-align: center;}#sk-container-id-3 div.sk-container {/* jupyter's `normalize.less` sets `[hidden] { display: none; }` but bootstrap.min.css set `[hidden] { display: none !important; }` so we also need the `!important` here to be able to override the default hidden behavior on the sphinx rendered scikit-learn.org. See: https://github.com/scikit-learn/scikit-learn/issues/21755 */display: inline-block !important;position: relative;}#sk-container-id-3 div.sk-text-repr-fallback {display: none;}</style><div id=\"sk-container-id-3\" class=\"sk-top-container\"><div class=\"sk-text-repr-fallback\"><pre>RandomForestClassifier(class_weight=&#x27;balanced&#x27;, max_depth=16,\n",
       "                       min_samples_leaf=6, min_samples_split=6,\n",
       "                       n_estimators=239, n_jobs=-1, random_state=42)</pre><b>In a Jupyter environment, please rerun this cell to show the HTML representation or trust the notebook. <br />On GitHub, the HTML representation is unable to render, please try loading this page with nbviewer.org.</b></div><div class=\"sk-container\" hidden><div class=\"sk-item\"><div class=\"sk-estimator sk-toggleable\"><input class=\"sk-toggleable__control sk-hidden--visually\" id=\"sk-estimator-id-3\" type=\"checkbox\" checked><label for=\"sk-estimator-id-3\" class=\"sk-toggleable__label sk-toggleable__label-arrow\">RandomForestClassifier</label><div class=\"sk-toggleable__content\"><pre>RandomForestClassifier(class_weight=&#x27;balanced&#x27;, max_depth=16,\n",
       "                       min_samples_leaf=6, min_samples_split=6,\n",
       "                       n_estimators=239, n_jobs=-1, random_state=42)</pre></div></div></div></div></div>"
      ],
      "text/plain": [
       "RandomForestClassifier(class_weight='balanced', max_depth=16,\n",
       "                       min_samples_leaf=6, min_samples_split=6,\n",
       "                       n_estimators=239, n_jobs=-1, random_state=42)"
      ]
     },
     "execution_count": 61,
     "metadata": {},
     "output_type": "execute_result"
    }
   ],
   "source": [
    "# Retrain with best model\n",
    "best_n_estimators = result.x[0]\n",
    "best_max_depth = result.x[1]\n",
    "best_min_samples_split = result.x[2]\n",
    "best_min_samples_leaf = result.x[3]\n",
    "best_max_features = result.x[4]\n",
    "#Best random forest model\n",
    "best_rf = RandomForestClassifier(\n",
    "    n_estimators=best_n_estimators,\n",
    "    max_depth=best_max_depth,\n",
    "    min_samples_split=best_min_samples_split,\n",
    "    min_samples_leaf=best_min_samples_leaf,\n",
    "    max_features=best_max_features,\n",
    "    class_weight='balanced',\n",
    "    random_state=42,\n",
    "    n_jobs=-1\n",
    ")\n",
    "best_rf.fit(X_train, y_train)"
   ]
  },
  {
   "cell_type": "code",
   "execution_count": 62,
   "id": "1c42e12b",
   "metadata": {},
   "outputs": [
    {
     "name": "stdout",
     "output_type": "stream",
     "text": [
      "              precision    recall  f1-score   support\n",
      "\n",
      "       MIXED       0.00      0.00      0.00        32\n",
      "    NEGATIVE       0.71      0.81      0.76       891\n",
      "     NEUTRAL       0.70      0.67      0.69       858\n",
      "    POSITIVE       0.82      0.69      0.75       415\n",
      "\n",
      "    accuracy                           0.72      2196\n",
      "   macro avg       0.56      0.54      0.55      2196\n",
      "weighted avg       0.72      0.72      0.72      2196\n",
      "\n"
     ]
    },
    {
     "name": "stderr",
     "output_type": "stream",
     "text": [
      "/Users/khoavan/anaconda3/lib/python3.11/site-packages/sklearn/metrics/_classification.py:1469: UndefinedMetricWarning: Precision and F-score are ill-defined and being set to 0.0 in labels with no predicted samples. Use `zero_division` parameter to control this behavior.\n",
      "  _warn_prf(average, modifier, msg_start, len(result))\n",
      "/Users/khoavan/anaconda3/lib/python3.11/site-packages/sklearn/metrics/_classification.py:1469: UndefinedMetricWarning: Precision and F-score are ill-defined and being set to 0.0 in labels with no predicted samples. Use `zero_division` parameter to control this behavior.\n",
      "  _warn_prf(average, modifier, msg_start, len(result))\n",
      "/Users/khoavan/anaconda3/lib/python3.11/site-packages/sklearn/metrics/_classification.py:1469: UndefinedMetricWarning: Precision and F-score are ill-defined and being set to 0.0 in labels with no predicted samples. Use `zero_division` parameter to control this behavior.\n",
      "  _warn_prf(average, modifier, msg_start, len(result))\n"
     ]
    }
   ],
   "source": [
    "y_pred = best_rf.predict(X_test)\n",
    "print(classification_report(y_test, y_pred, target_names=list(encoder.classes_)))"
   ]
  },
  {
   "cell_type": "code",
   "execution_count": 63,
   "id": "afa99dd7",
   "metadata": {},
   "outputs": [
    {
     "name": "stdout",
     "output_type": "stream",
     "text": [
      "Fitting 3 folds for each of 20 candidates, totalling 60 fits\n"
     ]
    },
    {
     "name": "stderr",
     "output_type": "stream",
     "text": [
      "/Users/khoavan/anaconda3/lib/python3.11/site-packages/sklearn/svm/_classes.py:32: FutureWarning: The default value of `dual` will change from `True` to `'auto'` in 1.5. Set the value of `dual` explicitly to suppress the warning.\n",
      "  warnings.warn(\n",
      "/Users/khoavan/anaconda3/lib/python3.11/site-packages/sklearn/svm/_classes.py:32: FutureWarning: The default value of `dual` will change from `True` to `'auto'` in 1.5. Set the value of `dual` explicitly to suppress the warning.\n",
      "  warnings.warn(\n",
      "/Users/khoavan/anaconda3/lib/python3.11/site-packages/sklearn/svm/_classes.py:32: FutureWarning: The default value of `dual` will change from `True` to `'auto'` in 1.5. Set the value of `dual` explicitly to suppress the warning.\n",
      "  warnings.warn(\n",
      "/Users/khoavan/anaconda3/lib/python3.11/site-packages/sklearn/svm/_classes.py:32: FutureWarning: The default value of `dual` will change from `True` to `'auto'` in 1.5. Set the value of `dual` explicitly to suppress the warning.\n",
      "  warnings.warn(\n",
      "/Users/khoavan/anaconda3/lib/python3.11/site-packages/sklearn/svm/_classes.py:32: FutureWarning: The default value of `dual` will change from `True` to `'auto'` in 1.5. Set the value of `dual` explicitly to suppress the warning.\n",
      "  warnings.warn(\n",
      "/Users/khoavan/anaconda3/lib/python3.11/site-packages/sklearn/svm/_classes.py:32: FutureWarning: The default value of `dual` will change from `True` to `'auto'` in 1.5. Set the value of `dual` explicitly to suppress the warning.\n",
      "  warnings.warn(\n",
      "/Users/khoavan/anaconda3/lib/python3.11/site-packages/sklearn/svm/_classes.py:32: FutureWarning: The default value of `dual` will change from `True` to `'auto'` in 1.5. Set the value of `dual` explicitly to suppress the warning.\n",
      "  warnings.warn(\n",
      "/Users/khoavan/anaconda3/lib/python3.11/site-packages/sklearn/svm/_classes.py:32: FutureWarning: The default value of `dual` will change from `True` to `'auto'` in 1.5. Set the value of `dual` explicitly to suppress the warning.\n",
      "  warnings.warn(\n"
     ]
    },
    {
     "name": "stdout",
     "output_type": "stream",
     "text": [
      "[CV] END ...........C=0.01, class_weight=None, max_iter=1000; total time=   0.7s\n",
      "[CV] END ...........C=0.01, class_weight=None, max_iter=5000; total time=   0.7s\n",
      "[CV] END ...........C=0.01, class_weight=None, max_iter=1000; total time=   0.7s\n",
      "[CV] END .......C=0.01, class_weight=balanced, max_iter=1000; total time=   0.7s\n",
      "[CV] END ...........C=0.01, class_weight=None, max_iter=5000; total time=   0.7s\n",
      "[CV] END ...........C=0.01, class_weight=None, max_iter=5000; total time=   0.7s\n",
      "[CV] END ...........C=0.01, class_weight=None, max_iter=1000; total time=   0.8s\n"
     ]
    },
    {
     "name": "stderr",
     "output_type": "stream",
     "text": [
      "/Users/khoavan/anaconda3/lib/python3.11/site-packages/sklearn/svm/_classes.py:32: FutureWarning: The default value of `dual` will change from `True` to `'auto'` in 1.5. Set the value of `dual` explicitly to suppress the warning.\n",
      "  warnings.warn(\n",
      "/Users/khoavan/anaconda3/lib/python3.11/site-packages/sklearn/svm/_classes.py:32: FutureWarning: The default value of `dual` will change from `True` to `'auto'` in 1.5. Set the value of `dual` explicitly to suppress the warning.\n",
      "  warnings.warn(\n",
      "/Users/khoavan/anaconda3/lib/python3.11/site-packages/sklearn/svm/_classes.py:32: FutureWarning: The default value of `dual` will change from `True` to `'auto'` in 1.5. Set the value of `dual` explicitly to suppress the warning.\n",
      "  warnings.warn(\n",
      "/Users/khoavan/anaconda3/lib/python3.11/site-packages/sklearn/svm/_classes.py:32: FutureWarning: The default value of `dual` will change from `True` to `'auto'` in 1.5. Set the value of `dual` explicitly to suppress the warning.\n",
      "  warnings.warn(\n",
      "/Users/khoavan/anaconda3/lib/python3.11/site-packages/sklearn/svm/_classes.py:32: FutureWarning: The default value of `dual` will change from `True` to `'auto'` in 1.5. Set the value of `dual` explicitly to suppress the warning.\n",
      "  warnings.warn(\n",
      "/Users/khoavan/anaconda3/lib/python3.11/site-packages/sklearn/svm/_classes.py:32: FutureWarning: The default value of `dual` will change from `True` to `'auto'` in 1.5. Set the value of `dual` explicitly to suppress the warning.\n",
      "  warnings.warn(\n",
      "/Users/khoavan/anaconda3/lib/python3.11/site-packages/sklearn/svm/_classes.py:32: FutureWarning: The default value of `dual` will change from `True` to `'auto'` in 1.5. Set the value of `dual` explicitly to suppress the warning.\n",
      "  warnings.warn(\n"
     ]
    },
    {
     "name": "stdout",
     "output_type": "stream",
     "text": [
      "[CV] END .......C=0.01, class_weight=balanced, max_iter=1000; total time=   0.9s\n"
     ]
    },
    {
     "name": "stderr",
     "output_type": "stream",
     "text": [
      "/Users/khoavan/anaconda3/lib/python3.11/site-packages/sklearn/svm/_classes.py:32: FutureWarning: The default value of `dual` will change from `True` to `'auto'` in 1.5. Set the value of `dual` explicitly to suppress the warning.\n",
      "  warnings.warn(\n"
     ]
    },
    {
     "name": "stdout",
     "output_type": "stream",
     "text": [
      "[CV] END .......C=0.01, class_weight=balanced, max_iter=1000; total time=   0.6s\n",
      "[CV] END .......C=0.01, class_weight=balanced, max_iter=5000; total time=   0.6s\n",
      "[CV] END .......C=0.01, class_weight=balanced, max_iter=5000; total time=   0.6s\n",
      "[CV] END ............C=0.1, class_weight=None, max_iter=1000; total time=   0.6s\n",
      "[CV] END ............C=0.1, class_weight=None, max_iter=1000; total time=   0.6s\n",
      "[CV] END .......C=0.01, class_weight=balanced, max_iter=5000; total time=   0.7s\n",
      "[CV] END ............C=0.1, class_weight=None, max_iter=1000; total time=   0.7s\n"
     ]
    },
    {
     "name": "stderr",
     "output_type": "stream",
     "text": [
      "/Users/khoavan/anaconda3/lib/python3.11/site-packages/sklearn/svm/_classes.py:32: FutureWarning: The default value of `dual` will change from `True` to `'auto'` in 1.5. Set the value of `dual` explicitly to suppress the warning.\n",
      "  warnings.warn(\n",
      "/Users/khoavan/anaconda3/lib/python3.11/site-packages/sklearn/svm/_classes.py:32: FutureWarning: The default value of `dual` will change from `True` to `'auto'` in 1.5. Set the value of `dual` explicitly to suppress the warning.\n",
      "  warnings.warn(\n",
      "/Users/khoavan/anaconda3/lib/python3.11/site-packages/sklearn/svm/_classes.py:32: FutureWarning: The default value of `dual` will change from `True` to `'auto'` in 1.5. Set the value of `dual` explicitly to suppress the warning.\n",
      "  warnings.warn(\n",
      "/Users/khoavan/anaconda3/lib/python3.11/site-packages/sklearn/svm/_classes.py:32: FutureWarning: The default value of `dual` will change from `True` to `'auto'` in 1.5. Set the value of `dual` explicitly to suppress the warning.\n",
      "  warnings.warn(\n",
      "/Users/khoavan/anaconda3/lib/python3.11/site-packages/sklearn/svm/_classes.py:32: FutureWarning: The default value of `dual` will change from `True` to `'auto'` in 1.5. Set the value of `dual` explicitly to suppress the warning.\n",
      "  warnings.warn(\n",
      "/Users/khoavan/anaconda3/lib/python3.11/site-packages/sklearn/svm/_classes.py:32: FutureWarning: The default value of `dual` will change from `True` to `'auto'` in 1.5. Set the value of `dual` explicitly to suppress the warning.\n",
      "  warnings.warn(\n",
      "/Users/khoavan/anaconda3/lib/python3.11/site-packages/sklearn/svm/_classes.py:32: FutureWarning: The default value of `dual` will change from `True` to `'auto'` in 1.5. Set the value of `dual` explicitly to suppress the warning.\n",
      "  warnings.warn(\n"
     ]
    },
    {
     "name": "stdout",
     "output_type": "stream",
     "text": [
      "[CV] END ............C=0.1, class_weight=None, max_iter=5000; total time=   0.6s\n"
     ]
    },
    {
     "name": "stderr",
     "output_type": "stream",
     "text": [
      "/Users/khoavan/anaconda3/lib/python3.11/site-packages/sklearn/svm/_classes.py:32: FutureWarning: The default value of `dual` will change from `True` to `'auto'` in 1.5. Set the value of `dual` explicitly to suppress the warning.\n",
      "  warnings.warn(\n"
     ]
    },
    {
     "name": "stdout",
     "output_type": "stream",
     "text": [
      "[CV] END ............C=0.1, class_weight=None, max_iter=5000; total time=   0.6s\n",
      "[CV] END ............C=0.1, class_weight=None, max_iter=5000; total time=   0.6s\n"
     ]
    },
    {
     "name": "stderr",
     "output_type": "stream",
     "text": [
      "/Users/khoavan/anaconda3/lib/python3.11/site-packages/sklearn/svm/_classes.py:32: FutureWarning: The default value of `dual` will change from `True` to `'auto'` in 1.5. Set the value of `dual` explicitly to suppress the warning.\n",
      "  warnings.warn(\n",
      "/Users/khoavan/anaconda3/lib/python3.11/site-packages/sklearn/svm/_classes.py:32: FutureWarning: The default value of `dual` will change from `True` to `'auto'` in 1.5. Set the value of `dual` explicitly to suppress the warning.\n",
      "  warnings.warn(\n"
     ]
    },
    {
     "name": "stdout",
     "output_type": "stream",
     "text": [
      "[CV] END ........C=0.1, class_weight=balanced, max_iter=1000; total time=   1.0s\n",
      "[CV] END ........C=0.1, class_weight=balanced, max_iter=5000; total time=   1.0s\n",
      "[CV] END ........C=0.1, class_weight=balanced, max_iter=1000; total time=   1.0s\n",
      "[CV] END ........C=0.1, class_weight=balanced, max_iter=1000; total time=   1.1s\n",
      "[CV] END ........C=0.1, class_weight=balanced, max_iter=5000; total time=   1.0s\n"
     ]
    },
    {
     "name": "stderr",
     "output_type": "stream",
     "text": [
      "/Users/khoavan/anaconda3/lib/python3.11/site-packages/sklearn/svm/_classes.py:32: FutureWarning: The default value of `dual` will change from `True` to `'auto'` in 1.5. Set the value of `dual` explicitly to suppress the warning.\n",
      "  warnings.warn(\n",
      "/Users/khoavan/anaconda3/lib/python3.11/site-packages/sklearn/svm/_classes.py:32: FutureWarning: The default value of `dual` will change from `True` to `'auto'` in 1.5. Set the value of `dual` explicitly to suppress the warning.\n",
      "  warnings.warn(\n",
      "/Users/khoavan/anaconda3/lib/python3.11/site-packages/sklearn/svm/_classes.py:32: FutureWarning: The default value of `dual` will change from `True` to `'auto'` in 1.5. Set the value of `dual` explicitly to suppress the warning.\n",
      "  warnings.warn(\n",
      "/Users/khoavan/anaconda3/lib/python3.11/site-packages/sklearn/svm/_classes.py:32: FutureWarning: The default value of `dual` will change from `True` to `'auto'` in 1.5. Set the value of `dual` explicitly to suppress the warning.\n",
      "  warnings.warn(\n",
      "/Users/khoavan/anaconda3/lib/python3.11/site-packages/sklearn/svm/_classes.py:32: FutureWarning: The default value of `dual` will change from `True` to `'auto'` in 1.5. Set the value of `dual` explicitly to suppress the warning.\n",
      "  warnings.warn(\n"
     ]
    },
    {
     "name": "stdout",
     "output_type": "stream",
     "text": [
      "[CV] END ........C=0.1, class_weight=balanced, max_iter=5000; total time=   1.2s\n"
     ]
    },
    {
     "name": "stderr",
     "output_type": "stream",
     "text": [
      "/Users/khoavan/anaconda3/lib/python3.11/site-packages/sklearn/svm/_classes.py:32: FutureWarning: The default value of `dual` will change from `True` to `'auto'` in 1.5. Set the value of `dual` explicitly to suppress the warning.\n",
      "  warnings.warn(\n"
     ]
    },
    {
     "name": "stdout",
     "output_type": "stream",
     "text": [
      "[CV] END ..............C=1, class_weight=None, max_iter=1000; total time=   1.8s\n",
      "[CV] END ..............C=1, class_weight=None, max_iter=1000; total time=   1.7s\n"
     ]
    },
    {
     "name": "stderr",
     "output_type": "stream",
     "text": [
      "/Users/khoavan/anaconda3/lib/python3.11/site-packages/sklearn/svm/_classes.py:32: FutureWarning: The default value of `dual` will change from `True` to `'auto'` in 1.5. Set the value of `dual` explicitly to suppress the warning.\n",
      "  warnings.warn(\n",
      "/Users/khoavan/anaconda3/lib/python3.11/site-packages/sklearn/svm/_classes.py:32: FutureWarning: The default value of `dual` will change from `True` to `'auto'` in 1.5. Set the value of `dual` explicitly to suppress the warning.\n",
      "  warnings.warn(\n"
     ]
    },
    {
     "name": "stdout",
     "output_type": "stream",
     "text": [
      "[CV] END ..............C=1, class_weight=None, max_iter=1000; total time=   1.7s\n",
      "[CV] END ..............C=1, class_weight=None, max_iter=5000; total time=   1.8s\n",
      "[CV] END ..............C=1, class_weight=None, max_iter=5000; total time=   1.7s\n"
     ]
    },
    {
     "name": "stderr",
     "output_type": "stream",
     "text": [
      "/Users/khoavan/anaconda3/lib/python3.11/site-packages/sklearn/svm/_classes.py:32: FutureWarning: The default value of `dual` will change from `True` to `'auto'` in 1.5. Set the value of `dual` explicitly to suppress the warning.\n",
      "  warnings.warn(\n",
      "/Users/khoavan/anaconda3/lib/python3.11/site-packages/sklearn/svm/_classes.py:32: FutureWarning: The default value of `dual` will change from `True` to `'auto'` in 1.5. Set the value of `dual` explicitly to suppress the warning.\n",
      "  warnings.warn(\n",
      "/Users/khoavan/anaconda3/lib/python3.11/site-packages/sklearn/svm/_classes.py:32: FutureWarning: The default value of `dual` will change from `True` to `'auto'` in 1.5. Set the value of `dual` explicitly to suppress the warning.\n",
      "  warnings.warn(\n"
     ]
    },
    {
     "name": "stdout",
     "output_type": "stream",
     "text": [
      "[CV] END ..............C=1, class_weight=None, max_iter=5000; total time=   1.9s\n"
     ]
    },
    {
     "name": "stderr",
     "output_type": "stream",
     "text": [
      "/Users/khoavan/anaconda3/lib/python3.11/site-packages/sklearn/svm/_classes.py:32: FutureWarning: The default value of `dual` will change from `True` to `'auto'` in 1.5. Set the value of `dual` explicitly to suppress the warning.\n",
      "  warnings.warn(\n"
     ]
    },
    {
     "name": "stdout",
     "output_type": "stream",
     "text": [
      "[CV] END ..........C=1, class_weight=balanced, max_iter=1000; total time=   3.1s\n",
      "[CV] END ..........C=1, class_weight=balanced, max_iter=1000; total time=   3.4s\n"
     ]
    },
    {
     "name": "stderr",
     "output_type": "stream",
     "text": [
      "/Users/khoavan/anaconda3/lib/python3.11/site-packages/sklearn/svm/_classes.py:32: FutureWarning: The default value of `dual` will change from `True` to `'auto'` in 1.5. Set the value of `dual` explicitly to suppress the warning.\n",
      "  warnings.warn(\n",
      "/Users/khoavan/anaconda3/lib/python3.11/site-packages/sklearn/svm/_classes.py:32: FutureWarning: The default value of `dual` will change from `True` to `'auto'` in 1.5. Set the value of `dual` explicitly to suppress the warning.\n",
      "  warnings.warn(\n"
     ]
    },
    {
     "name": "stdout",
     "output_type": "stream",
     "text": [
      "[CV] END ..........C=1, class_weight=balanced, max_iter=5000; total time=   3.6s\n",
      "[CV] END ..........C=1, class_weight=balanced, max_iter=5000; total time=   3.2s\n"
     ]
    },
    {
     "name": "stderr",
     "output_type": "stream",
     "text": [
      "/Users/khoavan/anaconda3/lib/python3.11/site-packages/sklearn/svm/_classes.py:32: FutureWarning: The default value of `dual` will change from `True` to `'auto'` in 1.5. Set the value of `dual` explicitly to suppress the warning.\n",
      "  warnings.warn(\n",
      "/Users/khoavan/anaconda3/lib/python3.11/site-packages/sklearn/svm/_classes.py:32: FutureWarning: The default value of `dual` will change from `True` to `'auto'` in 1.5. Set the value of `dual` explicitly to suppress the warning.\n",
      "  warnings.warn(\n"
     ]
    },
    {
     "name": "stdout",
     "output_type": "stream",
     "text": [
      "[CV] END ..........C=1, class_weight=balanced, max_iter=1000; total time=   4.0s\n"
     ]
    },
    {
     "name": "stderr",
     "output_type": "stream",
     "text": [
      "/Users/khoavan/anaconda3/lib/python3.11/site-packages/sklearn/svm/_classes.py:32: FutureWarning: The default value of `dual` will change from `True` to `'auto'` in 1.5. Set the value of `dual` explicitly to suppress the warning.\n",
      "  warnings.warn(\n"
     ]
    },
    {
     "name": "stdout",
     "output_type": "stream",
     "text": [
      "[CV] END ..........C=1, class_weight=balanced, max_iter=5000; total time=   3.7s\n"
     ]
    },
    {
     "name": "stderr",
     "output_type": "stream",
     "text": [
      "/Users/khoavan/anaconda3/lib/python3.11/site-packages/sklearn/svm/_classes.py:32: FutureWarning: The default value of `dual` will change from `True` to `'auto'` in 1.5. Set the value of `dual` explicitly to suppress the warning.\n",
      "  warnings.warn(\n"
     ]
    },
    {
     "name": "stdout",
     "output_type": "stream",
     "text": [
      "[CV] END .............C=10, class_weight=None, max_iter=1000; total time=  11.0s\n",
      "[CV] END .............C=10, class_weight=None, max_iter=1000; total time=  11.0s\n"
     ]
    },
    {
     "name": "stderr",
     "output_type": "stream",
     "text": [
      "/Users/khoavan/anaconda3/lib/python3.11/site-packages/sklearn/svm/_classes.py:32: FutureWarning: The default value of `dual` will change from `True` to `'auto'` in 1.5. Set the value of `dual` explicitly to suppress the warning.\n",
      "  warnings.warn(\n",
      "/Users/khoavan/anaconda3/lib/python3.11/site-packages/sklearn/svm/_classes.py:32: FutureWarning: The default value of `dual` will change from `True` to `'auto'` in 1.5. Set the value of `dual` explicitly to suppress the warning.\n",
      "  warnings.warn(\n"
     ]
    },
    {
     "name": "stdout",
     "output_type": "stream",
     "text": [
      "[CV] END .............C=10, class_weight=None, max_iter=1000; total time=  10.8s\n"
     ]
    },
    {
     "name": "stderr",
     "output_type": "stream",
     "text": [
      "/Users/khoavan/anaconda3/lib/python3.11/site-packages/sklearn/svm/_classes.py:32: FutureWarning: The default value of `dual` will change from `True` to `'auto'` in 1.5. Set the value of `dual` explicitly to suppress the warning.\n",
      "  warnings.warn(\n"
     ]
    },
    {
     "name": "stdout",
     "output_type": "stream",
     "text": [
      "[CV] END .............C=10, class_weight=None, max_iter=5000; total time=  11.3s\n"
     ]
    },
    {
     "name": "stderr",
     "output_type": "stream",
     "text": [
      "/Users/khoavan/anaconda3/lib/python3.11/site-packages/sklearn/svm/_classes.py:32: FutureWarning: The default value of `dual` will change from `True` to `'auto'` in 1.5. Set the value of `dual` explicitly to suppress the warning.\n",
      "  warnings.warn(\n"
     ]
    },
    {
     "name": "stdout",
     "output_type": "stream",
     "text": [
      "[CV] END .............C=10, class_weight=None, max_iter=5000; total time=  10.8s\n",
      "[CV] END .............C=10, class_weight=None, max_iter=5000; total time=  10.9s\n"
     ]
    },
    {
     "name": "stderr",
     "output_type": "stream",
     "text": [
      "/Users/khoavan/anaconda3/lib/python3.11/site-packages/sklearn/svm/_classes.py:32: FutureWarning: The default value of `dual` will change from `True` to `'auto'` in 1.5. Set the value of `dual` explicitly to suppress the warning.\n",
      "  warnings.warn(\n",
      "/Users/khoavan/anaconda3/lib/python3.11/site-packages/sklearn/svm/_classes.py:32: FutureWarning: The default value of `dual` will change from `True` to `'auto'` in 1.5. Set the value of `dual` explicitly to suppress the warning.\n",
      "  warnings.warn(\n",
      "/Users/khoavan/anaconda3/lib/python3.11/site-packages/sklearn/svm/_base.py:1242: ConvergenceWarning: Liblinear failed to converge, increase the number of iterations.\n",
      "  warnings.warn(\n",
      "/Users/khoavan/anaconda3/lib/python3.11/site-packages/sklearn/svm/_classes.py:32: FutureWarning: The default value of `dual` will change from `True` to `'auto'` in 1.5. Set the value of `dual` explicitly to suppress the warning.\n",
      "  warnings.warn(\n"
     ]
    },
    {
     "name": "stdout",
     "output_type": "stream",
     "text": [
      "[CV] END .........C=10, class_weight=balanced, max_iter=1000; total time=  11.2s\n"
     ]
    },
    {
     "name": "stderr",
     "output_type": "stream",
     "text": [
      "/Users/khoavan/anaconda3/lib/python3.11/site-packages/sklearn/svm/_base.py:1242: ConvergenceWarning: Liblinear failed to converge, increase the number of iterations.\n",
      "  warnings.warn(\n",
      "/Users/khoavan/anaconda3/lib/python3.11/site-packages/sklearn/svm/_classes.py:32: FutureWarning: The default value of `dual` will change from `True` to `'auto'` in 1.5. Set the value of `dual` explicitly to suppress the warning.\n",
      "  warnings.warn(\n"
     ]
    },
    {
     "name": "stdout",
     "output_type": "stream",
     "text": [
      "[CV] END .........C=10, class_weight=balanced, max_iter=1000; total time=  13.1s\n"
     ]
    },
    {
     "name": "stderr",
     "output_type": "stream",
     "text": [
      "/Users/khoavan/anaconda3/lib/python3.11/site-packages/sklearn/svm/_base.py:1242: ConvergenceWarning: Liblinear failed to converge, increase the number of iterations.\n",
      "  warnings.warn(\n",
      "/Users/khoavan/anaconda3/lib/python3.11/site-packages/sklearn/svm/_classes.py:32: FutureWarning: The default value of `dual` will change from `True` to `'auto'` in 1.5. Set the value of `dual` explicitly to suppress the warning.\n",
      "  warnings.warn(\n"
     ]
    },
    {
     "name": "stdout",
     "output_type": "stream",
     "text": [
      "[CV] END .........C=10, class_weight=balanced, max_iter=1000; total time=  12.2s\n",
      "[CV] END .........C=10, class_weight=balanced, max_iter=5000; total time=  14.0s\n"
     ]
    },
    {
     "name": "stderr",
     "output_type": "stream",
     "text": [
      "/Users/khoavan/anaconda3/lib/python3.11/site-packages/sklearn/svm/_classes.py:32: FutureWarning: The default value of `dual` will change from `True` to `'auto'` in 1.5. Set the value of `dual` explicitly to suppress the warning.\n",
      "  warnings.warn(\n"
     ]
    },
    {
     "name": "stdout",
     "output_type": "stream",
     "text": [
      "[CV] END .........C=10, class_weight=balanced, max_iter=5000; total time=  15.8s\n"
     ]
    },
    {
     "name": "stderr",
     "output_type": "stream",
     "text": [
      "/Users/khoavan/anaconda3/lib/python3.11/site-packages/sklearn/svm/_classes.py:32: FutureWarning: The default value of `dual` will change from `True` to `'auto'` in 1.5. Set the value of `dual` explicitly to suppress the warning.\n",
      "  warnings.warn(\n"
     ]
    },
    {
     "name": "stdout",
     "output_type": "stream",
     "text": [
      "[CV] END .........C=10, class_weight=balanced, max_iter=5000; total time=  15.7s\n"
     ]
    },
    {
     "name": "stderr",
     "output_type": "stream",
     "text": [
      "/Users/khoavan/anaconda3/lib/python3.11/site-packages/sklearn/svm/_classes.py:32: FutureWarning: The default value of `dual` will change from `True` to `'auto'` in 1.5. Set the value of `dual` explicitly to suppress the warning.\n",
      "  warnings.warn(\n",
      "/Users/khoavan/anaconda3/lib/python3.11/site-packages/sklearn/svm/_base.py:1242: ConvergenceWarning: Liblinear failed to converge, increase the number of iterations.\n",
      "  warnings.warn(\n",
      "/Users/khoavan/anaconda3/lib/python3.11/site-packages/sklearn/svm/_classes.py:32: FutureWarning: The default value of `dual` will change from `True` to `'auto'` in 1.5. Set the value of `dual` explicitly to suppress the warning.\n",
      "  warnings.warn(\n",
      "/Users/khoavan/anaconda3/lib/python3.11/site-packages/sklearn/svm/_base.py:1242: ConvergenceWarning: Liblinear failed to converge, increase the number of iterations.\n",
      "  warnings.warn(\n",
      "/Users/khoavan/anaconda3/lib/python3.11/site-packages/sklearn/svm/_classes.py:32: FutureWarning: The default value of `dual` will change from `True` to `'auto'` in 1.5. Set the value of `dual` explicitly to suppress the warning.\n",
      "  warnings.warn(\n"
     ]
    },
    {
     "name": "stdout",
     "output_type": "stream",
     "text": [
      "[CV] END ............C=100, class_weight=None, max_iter=1000; total time=  25.9s\n",
      "[CV] END ............C=100, class_weight=None, max_iter=1000; total time=  25.9s\n"
     ]
    },
    {
     "name": "stderr",
     "output_type": "stream",
     "text": [
      "/Users/khoavan/anaconda3/lib/python3.11/site-packages/sklearn/svm/_base.py:1242: ConvergenceWarning: Liblinear failed to converge, increase the number of iterations.\n",
      "  warnings.warn(\n",
      "/Users/khoavan/anaconda3/lib/python3.11/site-packages/sklearn/svm/_classes.py:32: FutureWarning: The default value of `dual` will change from `True` to `'auto'` in 1.5. Set the value of `dual` explicitly to suppress the warning.\n",
      "  warnings.warn(\n"
     ]
    },
    {
     "name": "stdout",
     "output_type": "stream",
     "text": [
      "[CV] END ............C=100, class_weight=None, max_iter=1000; total time=  25.8s\n"
     ]
    },
    {
     "name": "stderr",
     "output_type": "stream",
     "text": [
      "/Users/khoavan/anaconda3/lib/python3.11/site-packages/sklearn/svm/_base.py:1242: ConvergenceWarning: Liblinear failed to converge, increase the number of iterations.\n",
      "  warnings.warn(\n",
      "/Users/khoavan/anaconda3/lib/python3.11/site-packages/sklearn/svm/_classes.py:32: FutureWarning: The default value of `dual` will change from `True` to `'auto'` in 1.5. Set the value of `dual` explicitly to suppress the warning.\n",
      "  warnings.warn(\n"
     ]
    },
    {
     "name": "stdout",
     "output_type": "stream",
     "text": [
      "[CV] END ........C=100, class_weight=balanced, max_iter=1000; total time=  26.0s\n"
     ]
    },
    {
     "name": "stderr",
     "output_type": "stream",
     "text": [
      "/Users/khoavan/anaconda3/lib/python3.11/site-packages/sklearn/svm/_base.py:1242: ConvergenceWarning: Liblinear failed to converge, increase the number of iterations.\n",
      "  warnings.warn(\n"
     ]
    },
    {
     "name": "stdout",
     "output_type": "stream",
     "text": [
      "[CV] END ........C=100, class_weight=balanced, max_iter=1000; total time=  25.9s\n"
     ]
    },
    {
     "name": "stderr",
     "output_type": "stream",
     "text": [
      "/Users/khoavan/anaconda3/lib/python3.11/site-packages/sklearn/svm/_base.py:1242: ConvergenceWarning: Liblinear failed to converge, increase the number of iterations.\n",
      "  warnings.warn(\n"
     ]
    },
    {
     "name": "stdout",
     "output_type": "stream",
     "text": [
      "[CV] END ........C=100, class_weight=balanced, max_iter=1000; total time=  23.6s\n"
     ]
    },
    {
     "name": "stderr",
     "output_type": "stream",
     "text": [
      "/Users/khoavan/anaconda3/lib/python3.11/site-packages/sklearn/svm/_base.py:1242: ConvergenceWarning: Liblinear failed to converge, increase the number of iterations.\n",
      "  warnings.warn(\n"
     ]
    },
    {
     "name": "stdout",
     "output_type": "stream",
     "text": [
      "[CV] END ............C=100, class_weight=None, max_iter=5000; total time= 1.5min\n"
     ]
    },
    {
     "name": "stderr",
     "output_type": "stream",
     "text": [
      "/Users/khoavan/anaconda3/lib/python3.11/site-packages/sklearn/svm/_base.py:1242: ConvergenceWarning: Liblinear failed to converge, increase the number of iterations.\n",
      "  warnings.warn(\n"
     ]
    },
    {
     "name": "stdout",
     "output_type": "stream",
     "text": [
      "[CV] END ............C=100, class_weight=None, max_iter=5000; total time= 1.4min\n"
     ]
    },
    {
     "name": "stderr",
     "output_type": "stream",
     "text": [
      "/Users/khoavan/anaconda3/lib/python3.11/site-packages/sklearn/svm/_base.py:1242: ConvergenceWarning: Liblinear failed to converge, increase the number of iterations.\n",
      "  warnings.warn(\n"
     ]
    },
    {
     "name": "stdout",
     "output_type": "stream",
     "text": [
      "[CV] END ............C=100, class_weight=None, max_iter=5000; total time= 1.5min\n"
     ]
    },
    {
     "name": "stderr",
     "output_type": "stream",
     "text": [
      "/Users/khoavan/anaconda3/lib/python3.11/site-packages/sklearn/svm/_base.py:1242: ConvergenceWarning: Liblinear failed to converge, increase the number of iterations.\n",
      "  warnings.warn(\n"
     ]
    },
    {
     "name": "stdout",
     "output_type": "stream",
     "text": [
      "[CV] END ........C=100, class_weight=balanced, max_iter=5000; total time= 1.4min\n"
     ]
    },
    {
     "name": "stderr",
     "output_type": "stream",
     "text": [
      "/Users/khoavan/anaconda3/lib/python3.11/site-packages/sklearn/svm/_base.py:1242: ConvergenceWarning: Liblinear failed to converge, increase the number of iterations.\n",
      "  warnings.warn(\n"
     ]
    },
    {
     "name": "stdout",
     "output_type": "stream",
     "text": [
      "[CV] END ........C=100, class_weight=balanced, max_iter=5000; total time= 1.4min\n"
     ]
    },
    {
     "name": "stderr",
     "output_type": "stream",
     "text": [
      "/Users/khoavan/anaconda3/lib/python3.11/site-packages/sklearn/svm/_base.py:1242: ConvergenceWarning: Liblinear failed to converge, increase the number of iterations.\n",
      "  warnings.warn(\n",
      "/Users/khoavan/anaconda3/lib/python3.11/site-packages/sklearn/svm/_classes.py:32: FutureWarning: The default value of `dual` will change from `True` to `'auto'` in 1.5. Set the value of `dual` explicitly to suppress the warning.\n",
      "  warnings.warn(\n"
     ]
    },
    {
     "name": "stdout",
     "output_type": "stream",
     "text": [
      "[CV] END ........C=100, class_weight=balanced, max_iter=5000; total time= 1.2min\n",
      "Best hyperparameters: {'C': 100, 'class_weight': None, 'max_iter': 5000}\n",
      "Best CV F1 macro score: 0.5972853055810786\n"
     ]
    }
   ],
   "source": [
    "# Grid search for Linear SVM\n",
    "param_grid = {\n",
    "    'C': [0.01, 0.1, 1, 10, 100],\n",
    "    'class_weight': [None, 'balanced'],\n",
    "    'max_iter': [1000, 5000]\n",
    "}\n",
    "\n",
    "svm = LinearSVC(random_state=42)\n",
    "grid_search = GridSearchCV(svm, param_grid, cv=3, scoring='f1_macro', n_jobs=-1, verbose=2)\n",
    "grid_search.fit(X_train, y_train)\n",
    "print(\"Best hyperparameters:\", grid_search.best_params_)\n",
    "print(\"Best CV F1 macro score:\", grid_search.best_score_)"
   ]
  },
  {
   "cell_type": "code",
   "execution_count": 64,
   "id": "e74000fd",
   "metadata": {},
   "outputs": [
    {
     "name": "stderr",
     "output_type": "stream",
     "text": [
      "/Users/khoavan/anaconda3/lib/python3.11/site-packages/sklearn/svm/_classes.py:32: FutureWarning: The default value of `dual` will change from `True` to `'auto'` in 1.5. Set the value of `dual` explicitly to suppress the warning.\n",
      "  warnings.warn(\n",
      "/Users/khoavan/anaconda3/lib/python3.11/site-packages/sklearn/svm/_base.py:1242: ConvergenceWarning: Liblinear failed to converge, increase the number of iterations.\n",
      "  warnings.warn(\n"
     ]
    },
    {
     "data": {
      "text/html": [
       "<style>#sk-container-id-4 {color: black;}#sk-container-id-4 pre{padding: 0;}#sk-container-id-4 div.sk-toggleable {background-color: white;}#sk-container-id-4 label.sk-toggleable__label {cursor: pointer;display: block;width: 100%;margin-bottom: 0;padding: 0.3em;box-sizing: border-box;text-align: center;}#sk-container-id-4 label.sk-toggleable__label-arrow:before {content: \"▸\";float: left;margin-right: 0.25em;color: #696969;}#sk-container-id-4 label.sk-toggleable__label-arrow:hover:before {color: black;}#sk-container-id-4 div.sk-estimator:hover label.sk-toggleable__label-arrow:before {color: black;}#sk-container-id-4 div.sk-toggleable__content {max-height: 0;max-width: 0;overflow: hidden;text-align: left;background-color: #f0f8ff;}#sk-container-id-4 div.sk-toggleable__content pre {margin: 0.2em;color: black;border-radius: 0.25em;background-color: #f0f8ff;}#sk-container-id-4 input.sk-toggleable__control:checked~div.sk-toggleable__content {max-height: 200px;max-width: 100%;overflow: auto;}#sk-container-id-4 input.sk-toggleable__control:checked~label.sk-toggleable__label-arrow:before {content: \"▾\";}#sk-container-id-4 div.sk-estimator input.sk-toggleable__control:checked~label.sk-toggleable__label {background-color: #d4ebff;}#sk-container-id-4 div.sk-label input.sk-toggleable__control:checked~label.sk-toggleable__label {background-color: #d4ebff;}#sk-container-id-4 input.sk-hidden--visually {border: 0;clip: rect(1px 1px 1px 1px);clip: rect(1px, 1px, 1px, 1px);height: 1px;margin: -1px;overflow: hidden;padding: 0;position: absolute;width: 1px;}#sk-container-id-4 div.sk-estimator {font-family: monospace;background-color: #f0f8ff;border: 1px dotted black;border-radius: 0.25em;box-sizing: border-box;margin-bottom: 0.5em;}#sk-container-id-4 div.sk-estimator:hover {background-color: #d4ebff;}#sk-container-id-4 div.sk-parallel-item::after {content: \"\";width: 100%;border-bottom: 1px solid gray;flex-grow: 1;}#sk-container-id-4 div.sk-label:hover label.sk-toggleable__label {background-color: #d4ebff;}#sk-container-id-4 div.sk-serial::before {content: \"\";position: absolute;border-left: 1px solid gray;box-sizing: border-box;top: 0;bottom: 0;left: 50%;z-index: 0;}#sk-container-id-4 div.sk-serial {display: flex;flex-direction: column;align-items: center;background-color: white;padding-right: 0.2em;padding-left: 0.2em;position: relative;}#sk-container-id-4 div.sk-item {position: relative;z-index: 1;}#sk-container-id-4 div.sk-parallel {display: flex;align-items: stretch;justify-content: center;background-color: white;position: relative;}#sk-container-id-4 div.sk-item::before, #sk-container-id-4 div.sk-parallel-item::before {content: \"\";position: absolute;border-left: 1px solid gray;box-sizing: border-box;top: 0;bottom: 0;left: 50%;z-index: -1;}#sk-container-id-4 div.sk-parallel-item {display: flex;flex-direction: column;z-index: 1;position: relative;background-color: white;}#sk-container-id-4 div.sk-parallel-item:first-child::after {align-self: flex-end;width: 50%;}#sk-container-id-4 div.sk-parallel-item:last-child::after {align-self: flex-start;width: 50%;}#sk-container-id-4 div.sk-parallel-item:only-child::after {width: 0;}#sk-container-id-4 div.sk-dashed-wrapped {border: 1px dashed gray;margin: 0 0.4em 0.5em 0.4em;box-sizing: border-box;padding-bottom: 0.4em;background-color: white;}#sk-container-id-4 div.sk-label label {font-family: monospace;font-weight: bold;display: inline-block;line-height: 1.2em;}#sk-container-id-4 div.sk-label-container {text-align: center;}#sk-container-id-4 div.sk-container {/* jupyter's `normalize.less` sets `[hidden] { display: none; }` but bootstrap.min.css set `[hidden] { display: none !important; }` so we also need the `!important` here to be able to override the default hidden behavior on the sphinx rendered scikit-learn.org. See: https://github.com/scikit-learn/scikit-learn/issues/21755 */display: inline-block !important;position: relative;}#sk-container-id-4 div.sk-text-repr-fallback {display: none;}</style><div id=\"sk-container-id-4\" class=\"sk-top-container\"><div class=\"sk-text-repr-fallback\"><pre>LinearSVC(C=100, max_iter=5000, random_state=42)</pre><b>In a Jupyter environment, please rerun this cell to show the HTML representation or trust the notebook. <br />On GitHub, the HTML representation is unable to render, please try loading this page with nbviewer.org.</b></div><div class=\"sk-container\" hidden><div class=\"sk-item\"><div class=\"sk-estimator sk-toggleable\"><input class=\"sk-toggleable__control sk-hidden--visually\" id=\"sk-estimator-id-4\" type=\"checkbox\" checked><label for=\"sk-estimator-id-4\" class=\"sk-toggleable__label sk-toggleable__label-arrow\">LinearSVC</label><div class=\"sk-toggleable__content\"><pre>LinearSVC(C=100, max_iter=5000, random_state=42)</pre></div></div></div></div></div>"
      ],
      "text/plain": [
       "LinearSVC(C=100, max_iter=5000, random_state=42)"
      ]
     },
     "execution_count": 64,
     "metadata": {},
     "output_type": "execute_result"
    }
   ],
   "source": [
    "best_model = grid_search.best_estimator_\n",
    "X_train_val = vstack([X_train, X_val])\n",
    "y_train_val = list(y_train) + list(y_val)\n",
    "best_model.fit(X_train_val, y_train_val)        #Retrain using best model"
   ]
  },
  {
   "cell_type": "code",
   "execution_count": 65,
   "id": "d7b84a44",
   "metadata": {},
   "outputs": [
    {
     "name": "stdout",
     "output_type": "stream",
     "text": [
      "              precision    recall  f1-score   support\n",
      "\n",
      "       MIXED       1.00      0.03      0.06        32\n",
      "    NEGATIVE       0.77      0.82      0.80       891\n",
      "     NEUTRAL       0.76      0.76      0.76       858\n",
      "    POSITIVE       0.83      0.77      0.80       415\n",
      "\n",
      "    accuracy                           0.78      2196\n",
      "   macro avg       0.84      0.60      0.60      2196\n",
      "weighted avg       0.78      0.78      0.77      2196\n",
      "\n"
     ]
    }
   ],
   "source": [
    "y_pred = best_model.predict(X_test)\n",
    "print(classification_report(y_test, y_pred, target_names=encoder.classes_))"
   ]
  },
  {
   "cell_type": "markdown",
   "id": "ce6f4498",
   "metadata": {},
   "source": [
    "This is the best model so far. Let's try a new model: XGBoost."
   ]
  },
  {
   "cell_type": "code",
   "execution_count": 67,
   "id": "938f0ac3",
   "metadata": {},
   "outputs": [
    {
     "name": "stdout",
     "output_type": "stream",
     "text": [
      "Collecting xgboost\n",
      "  Obtaining dependency information for xgboost from https://files.pythonhosted.org/packages/09/c9/5f0be8e51d55df60a1bd7d09e7b05380e04c38de9554105f6cacffac3886/xgboost-3.0.2-py3-none-macosx_12_0_arm64.whl.metadata\n",
      "  Downloading xgboost-3.0.2-py3-none-macosx_12_0_arm64.whl.metadata (2.1 kB)\n",
      "Requirement already satisfied: numpy in /Users/khoavan/anaconda3/lib/python3.11/site-packages (from xgboost) (1.26.4)\n",
      "Requirement already satisfied: scipy in /Users/khoavan/anaconda3/lib/python3.11/site-packages (from xgboost) (1.11.1)\n",
      "Downloading xgboost-3.0.2-py3-none-macosx_12_0_arm64.whl (2.0 MB)\n",
      "\u001b[2K   \u001b[90m━━━━━━━━━━━━━━━━━━━━━━━━━━━━━━━━━━━━━━━━\u001b[0m \u001b[32m2.0/2.0 MB\u001b[0m \u001b[31m16.8 MB/s\u001b[0m eta \u001b[36m0:00:00\u001b[0ma \u001b[36m0:00:01\u001b[0m\n",
      "\u001b[?25hInstalling collected packages: xgboost\n",
      "Successfully installed xgboost-3.0.2\n",
      "Note: you may need to restart the kernel to use updated packages.\n"
     ]
    }
   ],
   "source": [
    "%pip install xgboost\n"
   ]
  },
  {
   "cell_type": "code",
   "execution_count": 68,
   "id": "f8e890f1",
   "metadata": {},
   "outputs": [
    {
     "name": "stderr",
     "output_type": "stream",
     "text": [
      "/Users/khoavan/anaconda3/lib/python3.11/site-packages/xgboost/training.py:183: UserWarning: [03:05:50] WARNING: /Users/runner/work/xgboost/xgboost/src/learner.cc:738: \n",
      "Parameters: { \"use_label_encoder\" } are not used.\n",
      "\n",
      "  bst.update(dtrain, iteration=i, fobj=obj)\n"
     ]
    },
    {
     "name": "stdout",
     "output_type": "stream",
     "text": [
      "              precision    recall  f1-score   support\n",
      "\n",
      "           0       0.00      0.00      0.00        32\n",
      "           1       0.74      0.81      0.77       891\n",
      "           2       0.72      0.74      0.73       858\n",
      "           3       0.85      0.67      0.75       415\n",
      "\n",
      "    accuracy                           0.75      2196\n",
      "   macro avg       0.58      0.56      0.56      2196\n",
      "weighted avg       0.74      0.75      0.74      2196\n",
      "\n"
     ]
    },
    {
     "name": "stderr",
     "output_type": "stream",
     "text": [
      "/Users/khoavan/anaconda3/lib/python3.11/site-packages/sklearn/metrics/_classification.py:1469: UndefinedMetricWarning: Precision and F-score are ill-defined and being set to 0.0 in labels with no predicted samples. Use `zero_division` parameter to control this behavior.\n",
      "  _warn_prf(average, modifier, msg_start, len(result))\n",
      "/Users/khoavan/anaconda3/lib/python3.11/site-packages/sklearn/metrics/_classification.py:1469: UndefinedMetricWarning: Precision and F-score are ill-defined and being set to 0.0 in labels with no predicted samples. Use `zero_division` parameter to control this behavior.\n",
      "  _warn_prf(average, modifier, msg_start, len(result))\n",
      "/Users/khoavan/anaconda3/lib/python3.11/site-packages/sklearn/metrics/_classification.py:1469: UndefinedMetricWarning: Precision and F-score are ill-defined and being set to 0.0 in labels with no predicted samples. Use `zero_division` parameter to control this behavior.\n",
      "  _warn_prf(average, modifier, msg_start, len(result))\n"
     ]
    }
   ],
   "source": [
    "from xgboost import XGBClassifier\n",
    "\n",
    "model = XGBClassifier(use_label_encoder=False, eval_metric='mlogloss')\n",
    "model.fit(X_train, y_train)\n",
    "y_pred = model.predict(X_test)\n",
    "print(classification_report(y_test, y_pred))"
   ]
  },
  {
   "cell_type": "code",
   "execution_count": 69,
   "id": "03ac5848",
   "metadata": {},
   "outputs": [
    {
     "name": "stderr",
     "output_type": "stream",
     "text": [
      "/Users/khoavan/anaconda3/lib/python3.11/site-packages/xgboost/training.py:183: UserWarning: [03:09:01] WARNING: /Users/runner/work/xgboost/xgboost/src/learner.cc:738: \n",
      "Parameters: { \"use_label_encoder\" } are not used.\n",
      "\n",
      "  bst.update(dtrain, iteration=i, fobj=obj)\n"
     ]
    },
    {
     "data": {
      "text/html": [
       "<style>#sk-container-id-5 {color: black;}#sk-container-id-5 pre{padding: 0;}#sk-container-id-5 div.sk-toggleable {background-color: white;}#sk-container-id-5 label.sk-toggleable__label {cursor: pointer;display: block;width: 100%;margin-bottom: 0;padding: 0.3em;box-sizing: border-box;text-align: center;}#sk-container-id-5 label.sk-toggleable__label-arrow:before {content: \"▸\";float: left;margin-right: 0.25em;color: #696969;}#sk-container-id-5 label.sk-toggleable__label-arrow:hover:before {color: black;}#sk-container-id-5 div.sk-estimator:hover label.sk-toggleable__label-arrow:before {color: black;}#sk-container-id-5 div.sk-toggleable__content {max-height: 0;max-width: 0;overflow: hidden;text-align: left;background-color: #f0f8ff;}#sk-container-id-5 div.sk-toggleable__content pre {margin: 0.2em;color: black;border-radius: 0.25em;background-color: #f0f8ff;}#sk-container-id-5 input.sk-toggleable__control:checked~div.sk-toggleable__content {max-height: 200px;max-width: 100%;overflow: auto;}#sk-container-id-5 input.sk-toggleable__control:checked~label.sk-toggleable__label-arrow:before {content: \"▾\";}#sk-container-id-5 div.sk-estimator input.sk-toggleable__control:checked~label.sk-toggleable__label {background-color: #d4ebff;}#sk-container-id-5 div.sk-label input.sk-toggleable__control:checked~label.sk-toggleable__label {background-color: #d4ebff;}#sk-container-id-5 input.sk-hidden--visually {border: 0;clip: rect(1px 1px 1px 1px);clip: rect(1px, 1px, 1px, 1px);height: 1px;margin: -1px;overflow: hidden;padding: 0;position: absolute;width: 1px;}#sk-container-id-5 div.sk-estimator {font-family: monospace;background-color: #f0f8ff;border: 1px dotted black;border-radius: 0.25em;box-sizing: border-box;margin-bottom: 0.5em;}#sk-container-id-5 div.sk-estimator:hover {background-color: #d4ebff;}#sk-container-id-5 div.sk-parallel-item::after {content: \"\";width: 100%;border-bottom: 1px solid gray;flex-grow: 1;}#sk-container-id-5 div.sk-label:hover label.sk-toggleable__label {background-color: #d4ebff;}#sk-container-id-5 div.sk-serial::before {content: \"\";position: absolute;border-left: 1px solid gray;box-sizing: border-box;top: 0;bottom: 0;left: 50%;z-index: 0;}#sk-container-id-5 div.sk-serial {display: flex;flex-direction: column;align-items: center;background-color: white;padding-right: 0.2em;padding-left: 0.2em;position: relative;}#sk-container-id-5 div.sk-item {position: relative;z-index: 1;}#sk-container-id-5 div.sk-parallel {display: flex;align-items: stretch;justify-content: center;background-color: white;position: relative;}#sk-container-id-5 div.sk-item::before, #sk-container-id-5 div.sk-parallel-item::before {content: \"\";position: absolute;border-left: 1px solid gray;box-sizing: border-box;top: 0;bottom: 0;left: 50%;z-index: -1;}#sk-container-id-5 div.sk-parallel-item {display: flex;flex-direction: column;z-index: 1;position: relative;background-color: white;}#sk-container-id-5 div.sk-parallel-item:first-child::after {align-self: flex-end;width: 50%;}#sk-container-id-5 div.sk-parallel-item:last-child::after {align-self: flex-start;width: 50%;}#sk-container-id-5 div.sk-parallel-item:only-child::after {width: 0;}#sk-container-id-5 div.sk-dashed-wrapped {border: 1px dashed gray;margin: 0 0.4em 0.5em 0.4em;box-sizing: border-box;padding-bottom: 0.4em;background-color: white;}#sk-container-id-5 div.sk-label label {font-family: monospace;font-weight: bold;display: inline-block;line-height: 1.2em;}#sk-container-id-5 div.sk-label-container {text-align: center;}#sk-container-id-5 div.sk-container {/* jupyter's `normalize.less` sets `[hidden] { display: none; }` but bootstrap.min.css set `[hidden] { display: none !important; }` so we also need the `!important` here to be able to override the default hidden behavior on the sphinx rendered scikit-learn.org. See: https://github.com/scikit-learn/scikit-learn/issues/21755 */display: inline-block !important;position: relative;}#sk-container-id-5 div.sk-text-repr-fallback {display: none;}</style><div id=\"sk-container-id-5\" class=\"sk-top-container\"><div class=\"sk-text-repr-fallback\"><pre>XGBClassifier(base_score=None, booster=None, callbacks=None,\n",
       "              colsample_bylevel=None, colsample_bynode=None,\n",
       "              colsample_bytree=None, device=None, early_stopping_rounds=None,\n",
       "              enable_categorical=False, eval_metric=&#x27;mlogloss&#x27;,\n",
       "              feature_types=None, feature_weights=None, gamma=None,\n",
       "              grow_policy=None, importance_type=None,\n",
       "              interaction_constraints=None, learning_rate=None, max_bin=None,\n",
       "              max_cat_threshold=None, max_cat_to_onehot=None,\n",
       "              max_delta_step=None, max_depth=None, max_leaves=None,\n",
       "              min_child_weight=None, missing=nan, monotone_constraints=None,\n",
       "              multi_strategy=None, n_estimators=None, n_jobs=None,\n",
       "              num_parallel_tree=None, ...)</pre><b>In a Jupyter environment, please rerun this cell to show the HTML representation or trust the notebook. <br />On GitHub, the HTML representation is unable to render, please try loading this page with nbviewer.org.</b></div><div class=\"sk-container\" hidden><div class=\"sk-item\"><div class=\"sk-estimator sk-toggleable\"><input class=\"sk-toggleable__control sk-hidden--visually\" id=\"sk-estimator-id-5\" type=\"checkbox\" checked><label for=\"sk-estimator-id-5\" class=\"sk-toggleable__label sk-toggleable__label-arrow\">XGBClassifier</label><div class=\"sk-toggleable__content\"><pre>XGBClassifier(base_score=None, booster=None, callbacks=None,\n",
       "              colsample_bylevel=None, colsample_bynode=None,\n",
       "              colsample_bytree=None, device=None, early_stopping_rounds=None,\n",
       "              enable_categorical=False, eval_metric=&#x27;mlogloss&#x27;,\n",
       "              feature_types=None, feature_weights=None, gamma=None,\n",
       "              grow_policy=None, importance_type=None,\n",
       "              interaction_constraints=None, learning_rate=None, max_bin=None,\n",
       "              max_cat_threshold=None, max_cat_to_onehot=None,\n",
       "              max_delta_step=None, max_depth=None, max_leaves=None,\n",
       "              min_child_weight=None, missing=nan, monotone_constraints=None,\n",
       "              multi_strategy=None, n_estimators=None, n_jobs=None,\n",
       "              num_parallel_tree=None, ...)</pre></div></div></div></div></div>"
      ],
      "text/plain": [
       "XGBClassifier(base_score=None, booster=None, callbacks=None,\n",
       "              colsample_bylevel=None, colsample_bynode=None,\n",
       "              colsample_bytree=None, device=None, early_stopping_rounds=None,\n",
       "              enable_categorical=False, eval_metric='mlogloss',\n",
       "              feature_types=None, feature_weights=None, gamma=None,\n",
       "              grow_policy=None, importance_type=None,\n",
       "              interaction_constraints=None, learning_rate=None, max_bin=None,\n",
       "              max_cat_threshold=None, max_cat_to_onehot=None,\n",
       "              max_delta_step=None, max_depth=None, max_leaves=None,\n",
       "              min_child_weight=None, missing=nan, monotone_constraints=None,\n",
       "              multi_strategy=None, n_estimators=None, n_jobs=None,\n",
       "              num_parallel_tree=None, ...)"
      ]
     },
     "execution_count": 69,
     "metadata": {},
     "output_type": "execute_result"
    }
   ],
   "source": [
    "from sklearn.utils.class_weight import compute_sample_weight\n",
    "\n",
    "# Manually adjust sample weights\n",
    "sample_weights = compute_sample_weight(class_weight='balanced', y=y_train)\n",
    "model.fit(X_train, y_train, sample_weight=sample_weights)"
   ]
  },
  {
   "cell_type": "code",
   "execution_count": 70,
   "id": "6f275869",
   "metadata": {},
   "outputs": [
    {
     "name": "stdout",
     "output_type": "stream",
     "text": [
      "              precision    recall  f1-score   support\n",
      "\n",
      "           0       0.00      0.00      0.00        32\n",
      "           1       0.74      0.79      0.77       891\n",
      "           2       0.73      0.74      0.73       858\n",
      "           3       0.84      0.75      0.79       415\n",
      "\n",
      "    accuracy                           0.75      2196\n",
      "   macro avg       0.58      0.57      0.57      2196\n",
      "weighted avg       0.74      0.75      0.75      2196\n",
      "\n"
     ]
    }
   ],
   "source": [
    "y_pred = model.predict(X_test)\n",
    "print(classification_report(y_test, y_pred))"
   ]
  }
 ],
 "metadata": {
  "kernelspec": {
   "display_name": "base",
   "language": "python",
   "name": "python3"
  },
  "language_info": {
   "codemirror_mode": {
    "name": "ipython",
    "version": 3
   },
   "file_extension": ".py",
   "mimetype": "text/x-python",
   "name": "python",
   "nbconvert_exporter": "python",
   "pygments_lexer": "ipython3",
   "version": "3.11.5"
  }
 },
 "nbformat": 4,
 "nbformat_minor": 5
}
